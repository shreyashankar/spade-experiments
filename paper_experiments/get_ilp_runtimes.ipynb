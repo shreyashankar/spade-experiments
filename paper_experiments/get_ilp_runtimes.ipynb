{
 "cells": [
  {
   "cell_type": "code",
   "execution_count": null,
   "metadata": {},
   "outputs": [],
   "source": [
    "%load_ext autoreload\n",
    "%autoreload 2"
   ]
  },
  {
   "cell_type": "code",
   "execution_count": null,
   "metadata": {},
   "outputs": [],
   "source": [
    "dataset_names = [\n",
    "    \"codereviews\",\n",
    "    \"emails\",\n",
    "    \"finance\",\n",
    "    \"lecturesummaries\",\n",
    "    \"negotiation\",\n",
    "    \"sportroutine\",\n",
    "    \"statsbot\",\n",
    "    \"subsumption\",\n",
    "    \"threads\"\n",
    "]"
   ]
  },
  {
   "cell_type": "code",
   "execution_count": null,
   "metadata": {},
   "outputs": [],
   "source": [
    "ilp_runtimes = {}\n",
    "from spade_v3.optimizer import select_functions\n",
    "\n",
    "num_trials = 10\n",
    "\n",
    "for t in range(num_trials):\n",
    "    for dataset_name in dataset_names:\n",
    "        path_name = f\"/Users/shreyashankar/Documents/projects/promptdelta/paper_experiments/{dataset_name}/optimizer_input.pkl\"\n",
    "        \n",
    "        optimizer_res = select_functions(path_name, tau=0.25, alpha=0.6, track_time=True)\n",
    "        \n",
    "        runtimes = optimizer_res[\"runtimes\"]\n",
    "        \n",
    "        # Round values to 3 decimal places in runtimes dict\n",
    "        runtimes = {k: round(v, 3) for k, v in runtimes.items()}\n",
    "\n",
    "        if dataset_name not in ilp_runtimes:\n",
    "            ilp_runtimes[dataset_name] = [runtimes]\n",
    "        else:\n",
    "            ilp_runtimes[dataset_name].append(runtimes)"
   ]
  },
  {
   "cell_type": "code",
   "execution_count": null,
   "metadata": {},
   "outputs": [],
   "source": [
    "ilp_runtimes\n",
    "\n",
    "# Compute average runtimes per experiment\n",
    "avg_runtimes = {}\n",
    "for dataset_name in ilp_runtimes:\n",
    "    avg_runtimes[dataset_name] = {}\n",
    "    for k in ilp_runtimes[dataset_name][0]:\n",
    "        avg_runtimes[dataset_name][k] = round(sum([runtimes[k] for runtimes in ilp_runtimes[dataset_name]]) / num_trials, 3)"
   ]
  },
  {
   "cell_type": "code",
   "execution_count": null,
   "metadata": {},
   "outputs": [],
   "source": [
    "num_trials = 10"
   ]
  }
 ],
 "metadata": {
  "kernelspec": {
   "display_name": "promptdelta",
   "language": "python",
   "name": "python3"
  },
  "language_info": {
   "codemirror_mode": {
    "name": "ipython",
    "version": 3
   },
   "file_extension": ".py",
   "mimetype": "text/x-python",
   "name": "python",
   "nbconvert_exporter": "python",
   "pygments_lexer": "ipython3",
   "version": "3.10.12"
  }
 },
 "nbformat": 4,
 "nbformat_minor": 2
}
