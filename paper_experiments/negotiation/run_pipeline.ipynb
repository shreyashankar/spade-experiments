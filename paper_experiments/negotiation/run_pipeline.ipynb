{
  "cells": [
    {
      "cell_type": "code",
      "execution_count": 7,
      "metadata": {},
      "outputs": [],
      "source": [
        "# This notebook needs to be run in the root folder.\n",
        "import pandas as pd\n",
        "from spade.candidate_gen import generate_candidate_assertions\n",
        "from spade.execute_assertions import execute_candidate_assertions\n",
        "from spade.label_results import label_responses, prepare_for_optimizer\n",
        "from spade.check_subsumes import evaluate_all_subsumes, collate_subsumption_results\n",
        "from spade.optimizer import select_functions\n",
        "# from rich import print"
      ]
    },
    {
      "cell_type": "code",
      "execution_count": 8,
      "metadata": {},
      "outputs": [
        {
          "name": "stdout",
          "output_type": "stream",
          "text": [
            "The autoreload extension is already loaded. To reload it, use:\n",
            "  %reload_ext autoreload\n"
          ]
        }
      ],
      "source": [
        "%load_ext autoreload\n",
        "%autoreload 2"
      ]
    },
    {
      "cell_type": "code",
      "execution_count": 10,
      "metadata": {},
      "outputs": [
        {
          "name": "stdout",
          "output_type": "stream",
          "text": [
            "There are 8 templates and 23 examples.\n"
          ]
        }
      ],
      "source": [
        "dataset_name = \"negotiation\"\n",
        "from paper_experiments.negotiation.prompt_templates import TEMPLATES\n",
        "\n",
        "prompt_template_strings = TEMPLATES\n",
        "from paper_experiments.negotiation.examples import EXAMPLES\n",
        "\n",
        "EXAMPLE = EXAMPLES[0]\n",
        "\n",
        "print(f\"There are {len(prompt_template_strings)} templates and {len(EXAMPLES)} examples.\")"
      ]
    },
    {
      "cell_type": "code",
      "execution_count": null,
      "metadata": {},
      "outputs": [],
      "source": [
        "assertions = await generate_candidate_assertions(prompt_template_strings, EXAMPLE)"
      ]
    },
    {
      "cell_type": "code",
      "execution_count": null,
      "metadata": {},
      "outputs": [],
      "source": [
        "# Print last prompt template\n",
        "print(prompt_template_strings[-1])"
      ]
    },
    {
      "cell_type": "code",
      "execution_count": null,
      "metadata": {},
      "outputs": [],
      "source": [
        "from paper_experiments.negotiation.candidate_assertions import ALL_FUNCTIONS\n",
        "from paper_experiments.negotiation.examples import EXAMPLES\n",
        "\n",
        "\n",
        "res = await execute_candidate_assertions(dataset_name, prompt_template_strings[-1], EXAMPLES, ALL_FUNCTIONS)\n"
      ]
    },
    {
      "cell_type": "code",
      "execution_count": null,
      "metadata": {},
      "outputs": [],
      "source": [
        "prefix = f\"/Users/shreyashankar/Documents/projects/promptdelta/paper_experiments/{dataset_name}\""
      ]
    },
    {
      "cell_type": "code",
      "execution_count": null,
      "metadata": {},
      "outputs": [],
      "source": [
        "label_df = pd.read_csv(f\"{prefix}/labeled_responses.csv\")\n",
        "print(label_df[\"label\"].mean())\n",
        "\n",
        "# Print stats\n",
        "print(f\"Num candidate functions: {len(ALL_FUNCTIONS)}\")\n",
        "print(f\"Num good examples: {len(label_df[label_df['label'] == 1])}\")\n",
        "print(f\"Num bad examples: {len(label_df[label_df['label'] == 0])}\")\n",
        "\n",
        "optimizer_dict = prepare_for_optimizer(res, label_df)"
      ]
    },
    {
      "cell_type": "code",
      "execution_count": null,
      "metadata": {},
      "outputs": [],
      "source": [
        "response = res[\"response\"].values[0]\n",
        "\n",
        "K = await evaluate_all_subsumes(optimizer_dict[\"M\"], ALL_FUNCTIONS, optimizer_dict[\"func_order\"], prompt_template, response)"
      ]
    },
    {
      "cell_type": "code",
      "execution_count": null,
      "metadata": {},
      "outputs": [],
      "source": [
        "K.sum() / (K.shape[0] * K.shape[1])"
      ]
    },
    {
      "cell_type": "code",
      "execution_count": null,
      "metadata": {},
      "outputs": [],
      "source": [
        "# Pickle all the results\n",
        "import inspect\n",
        "\n",
        "path_name = f\"/Users/shreyashankar/Documents/projects/promptdelta/paper_experiments/{dataset_name}/optimizer_input.pkl\"\n",
        "\n",
        "optimizer_dict[\"K\"] = K\n",
        "optimizer_dict[\"spade_functions\"] = {func.__name__: inspect.getsource(func) for func in ALL_FUNCTIONS}\n",
        "import pickle\n",
        "\n",
        "with open(path_name, \"wb\") as f:\n",
        "    pickle.dump(optimizer_dict, f)"
      ]
    },
    {
      "cell_type": "code",
      "execution_count": null,
      "metadata": {},
      "outputs": [],
      "source": [
        "subsumption_df = collate_subsumption_results(optimizer_dict[\"M\"], ALL_FUNCTIONS, optimizer_dict[\"func_order\"], optimizer_dict[\"K\"])\n",
        "subsumption_df.to_csv(f\"/Users/shreyashankar/Documents/projects/promptdelta/paper_experiments/{dataset_name}/subsumption_results.csv\", index=False)"
      ]
    },
    {
      "cell_type": "code",
      "execution_count": null,
      "metadata": {},
      "outputs": [],
      "source": [
        "from spade.check_subsumes import sample_subsumption_prompts_and_results\n",
        "\n",
        "subsumption_sample_llm_labeled = await sample_subsumption_prompts_and_results(optimizer_dict[\"M\"], ALL_FUNCTIONS, optimizer_dict[\"func_order\"], optimizer_dict[\"K\"], prompt_template_strings[-1], response)\n",
        "subsumption_sample_llm_labeled.to_csv(f\"/Users/shreyashankar/Documents/projects/promptdelta/paper_experiments/subsumption/data/{dataset_name}.csv\", index=False)"
      ]
    },
    {
      "cell_type": "code",
      "execution_count": null,
      "metadata": {},
      "outputs": [],
      "source": [
        "# Solve the optimization problem\n",
        "\n",
        "optimizer_res = select_functions(path_name, tau=0.25, alpha=0.6)\n",
        "\n",
        "# Pickle the results\n",
        "import pickle\n",
        "with open(f\"/Users/shreyashankar/Documents/projects/promptdelta/paper_experiments/{dataset_name}/optimizer_results.pkl\", \"wb\") as f:\n",
        "    pickle.dump(optimizer_res, f)\n"
      ]
    },
    {
      "cell_type": "code",
      "execution_count": null,
      "metadata": {},
      "outputs": [],
      "source": [
        "# Visualize performance\n",
        "\n",
        "# Turn into DF\n",
        "import pandas as pd\n",
        "\n",
        "optimizer_res_df = []\n",
        "for method in [\"spade_base\", \"spade_cov\", \"spade_sub\"]:\n",
        "    optimizer_res_df.append({\"method\": method, \"ffr\": optimizer_res[method][\"ffr\"], \"example failure coverage\": optimizer_res[method][\"coverage\"], \"frac_functions_selected\": optimizer_res[method][\"frac_functions_selected\"], \"frac_non_subsumed_excluded_functions\": optimizer_res[method][\"frac_non_subsumed_excluded_functions\"]})\n",
        "    \n",
        "optimizer_res_df = pd.DataFrame(optimizer_res_df)\n",
        "print(optimizer_res_df)\n"
      ]
    },
    {
      "cell_type": "markdown",
      "metadata": {},
      "source": [
        "## Evaluating subsumption with one prompt (optimizing for precision)"
      ]
    },
    {
      "cell_type": "code",
      "execution_count": null,
      "metadata": {},
      "outputs": [],
      "source": [
        "from spade.check_subsumes import identify_subsumption_pairs\n",
        "from paper_experiments.negotiation.candidate_assertions import ALL_FUNCTIONS\n",
        "import pickle\n",
        "\n",
        "dataset_name = \"negotiation\"\n",
        "path_name = f\"/Users/shreyashankar/Documents/projects/promptdelta/paper_experiments/{dataset_name}/optimizer_input.pkl\"\n",
        "with open(path_name, \"rb\") as f:\n",
        "    optimizer_dict = pickle.load(f)\n",
        "K_and_pretty_df = await identify_subsumption_pairs(optimizer_dict[\"M\"], ALL_FUNCTIONS, optimizer_dict[\"func_order\"])"
      ]
    },
    {
      "cell_type": "code",
      "execution_count": null,
      "metadata": {},
      "outputs": [],
      "source": [
        "K_and_pretty_df[\"K\"].sum() / (K_and_pretty_df[\"K\"].shape[0] * K_and_pretty_df[\"K\"].shape[1])"
      ]
    },
    {
      "cell_type": "code",
      "execution_count": null,
      "metadata": {},
      "outputs": [],
      "source": [
        "# Pickle all the results\n",
        "import inspect\n",
        "from spade.optimizer import select_functions\n",
        "\n",
        "path_name = f\"/Users/shreyashankar/Documents/projects/promptdelta/paper_experiments/{dataset_name}/optimizer_input.pkl\"\n",
        "\n",
        "optimizer_dict[\"K\"] = K_and_pretty_df[\"K\"]\n",
        "optimizer_dict[\"spade_functions\"] = {func.__name__: inspect.getsource(func) for func in ALL_FUNCTIONS}\n",
        "import pickle\n",
        "\n",
        "with open(path_name, \"wb\") as f:\n",
        "    pickle.dump(optimizer_dict, f)\n",
        "    \n",
        "# Dump subsumption df\n",
        "K_and_pretty_df[\"human_readable_results\"].to_csv(f\"/Users/shreyashankar/Documents/projects/promptdelta/paper_experiments/{dataset_name}/subsumption_results.csv\", index=False)\n",
        "\n",
        "# Solve the optimization problem\n",
        "optimizer_res = select_functions(path_name, tau=0.25, alpha=0.6)\n",
        "\n",
        "# Turn into DF\n",
        "import pandas as pd\n",
        "\n",
        "optimizer_res_df = []\n",
        "for method in [\"spade_base\", \"spade_cov\", \"spade_sub\"]:\n",
        "    optimizer_res_df.append({\"method\": method, \"ffr\": optimizer_res[method][\"ffr\"], \"example failure coverage\": optimizer_res[method][\"coverage\"], \"frac_functions_selected\": optimizer_res[method][\"frac_functions_selected\"], \"frac_non_subsumed_excluded_functions\": optimizer_res[method][\"frac_non_subsumed_excluded_functions\"]})\n",
        "    \n",
        "optimizer_res_df = pd.DataFrame(optimizer_res_df)\n",
        "print(optimizer_res_df)\n",
        "\n",
        "# Pickle the results\n",
        "# import pickle\n",
        "# with open(f\"/Users/shreyashankar/Documents/projects/promptdelta/paper_experiments/{dataset_name}/optimizer_results.pkl\", \"wb\") as f:\n",
        "#     pickle.dump(optimizer_res, f)"
      ]
    },
    {
      "cell_type": "code",
      "execution_count": null,
      "metadata": {},
      "outputs": [],
      "source": []
    }
  ],
  "metadata": {
    "kernelspec": {
      "display_name": "promptdelta",
      "language": "python",
      "name": "python3"
    },
    "language_info": {
      "codemirror_mode": {
        "name": "ipython",
        "version": 3
      },
      "file_extension": ".py",
      "mimetype": "text/x-python",
      "name": "python",
      "nbconvert_exporter": "python",
      "pygments_lexer": "ipython3",
      "version": "3.10.12"
    }
  },
  "nbformat": 4,
  "nbformat_minor": 2
}
