{
 "cells": [
  {
   "cell_type": "code",
   "execution_count": null,
   "metadata": {},
   "outputs": [],
   "source": [
    "# This notebook needs to be run in the root folder.\n",
    "import pandas as pd\n",
    "from spade_v3.candidate_gen import generate_candidate_assertions\n",
    "from spade_v3.execute_assertions import execute_candidate_assertions\n",
    "from spade_v3.label_results import label_responses, prepare_for_optimizer\n",
    "from spade_v3.check_subsumes import evaluate_all_subsumes, collate_subsumption_results\n",
    "from spade_v3.optimizer import select_functions\n",
    "# from rich import print"
   ]
  },
  {
   "cell_type": "code",
   "execution_count": null,
   "metadata": {},
   "outputs": [],
   "source": [
    "%load_ext autoreload\n",
    "%autoreload 2"
   ]
  },
  {
   "cell_type": "code",
   "execution_count": null,
   "metadata": {},
   "outputs": [],
   "source": [
    "dataset_name = \"sportroutine\"\n",
    "from paper_experiments.sportroutine.prompt_templates import TEMPLATES\n",
    "\n",
    "prompt_template_strings = TEMPLATES\n",
    "from paper_experiments.sportroutine.examples import EXAMPLES\n",
    "\n",
    "EXAMPLE = EXAMPLES[0]\n",
    "print(f\"There are {len(prompt_template_strings)} templates and {len(EXAMPLES)} examples.\")"
   ]
  },
  {
   "cell_type": "code",
   "execution_count": null,
   "metadata": {},
   "outputs": [],
   "source": [
    "assertions = await generate_candidate_assertions(prompt_template_strings, EXAMPLE)"
   ]
  },
  {
   "cell_type": "code",
   "execution_count": null,
   "metadata": {},
   "outputs": [],
   "source": [
    "# Append some stuff\n",
    "\n",
    "beginning = \"\"\"from litellm import acompletion\n",
    "\n",
    "\n",
    "async def ask_llm(prompt, response, question):\n",
    "    # Placeholder for asking an expert a true/false question\n",
    "    # In practice, this would involve a complex implementation potentially requiring human input\n",
    "\n",
    "    messages = [\n",
    "        {\n",
    "            \"content\": f\"You are an evaluator for a large language model pipeline that turns exercise video texts into markdown programs of step by step instructions:\\\\n\\\\n{prompt}\\\\n\\\\nHere is the response:\\\\n{response}\",\n",
    "            \"role\": \"system\",\n",
    "        },\n",
    "        {\n",
    "            \"content\": f\"{question}\\\\nOnly answer yes or no.\",\n",
    "            \"role\": \"user\",\n",
    "        },\n",
    "    ]\n",
    "\n",
    "    response = await acompletion(\n",
    "        model=\"azure/gpt-35-turbo\",\n",
    "        messages=messages,\n",
    "    )\n",
    "\n",
    "    # get the cost\n",
    "    completion_tokens = response[\"usage\"][\"completion_tokens\"]\n",
    "    prompt_tokens = response[\"usage\"][\"prompt_tokens\"]\n",
    "\n",
    "    # get the response\n",
    "    reply = response[\"choices\"][0][\"message\"][\"content\"]\n",
    "\n",
    "    if \"yes\" in reply.lower():\n",
    "        return prompt_tokens, completion_tokens, True\n",
    "\n",
    "    return prompt_tokens, completion_tokens, False\n",
    "\"\"\"\n",
    "\n",
    "assertion_text = beginning + assertions[1][0]"
   ]
  },
  {
   "cell_type": "code",
   "execution_count": null,
   "metadata": {},
   "outputs": [],
   "source": [
    "# Print last prompt template\n",
    "print(prompt_template_strings[-1])"
   ]
  },
  {
   "cell_type": "code",
   "execution_count": null,
   "metadata": {},
   "outputs": [],
   "source": [
    "# Dump to functions.py\n",
    "\n",
    "prefix = f\"/Users/shreyashankar/Documents/projects/promptdelta/paper_experiments/{dataset_name}\"\n",
    "\n",
    "with open(f\"{prefix}/candidate_assertions.py\", \"w\") as f:\n",
    "    f.write(assertion_text)"
   ]
  },
  {
   "cell_type": "code",
   "execution_count": null,
   "metadata": {},
   "outputs": [],
   "source": [
    "from paper_experiments.sportroutine.candidate_assertions import ALL_FUNCTIONS\n",
    "from paper_experiments.sportroutine.examples import EXAMPLES\n",
    "\n",
    "\n",
    "res = await execute_candidate_assertions(dataset_name, prompt_template_strings[-1], EXAMPLES, ALL_FUNCTIONS)\n"
   ]
  },
  {
   "cell_type": "code",
   "execution_count": null,
   "metadata": {},
   "outputs": [],
   "source": [
    "prefix = f\"/Users/shreyashankar/Documents/projects/promptdelta/paper_experiments/{dataset_name}\"\n",
    "label_df = label_responses(res, 0.6)\n",
    "print(label_df[\"label\"].mean())\n",
    "label_df.to_csv(f\"{prefix}/labeled_responses.csv\", index=False)"
   ]
  },
  {
   "cell_type": "code",
   "execution_count": null,
   "metadata": {},
   "outputs": [],
   "source": [
    "label_df = pd.read_csv(f\"{prefix}/labeled_responses.csv\")\n",
    "print(label_df[\"label\"].mean())\n",
    "\n",
    "# Print stats\n",
    "print(f\"Num candidate functions: {len(ALL_FUNCTIONS)}\")\n",
    "print(f\"Num good examples: {len(label_df[label_df['label'] == 1])}\")\n",
    "print(f\"Num bad examples: {len(label_df[label_df['label'] == 0])}\")\n",
    "\n",
    "optimizer_dict = prepare_for_optimizer(res, label_df)"
   ]
  },
  {
   "cell_type": "code",
   "execution_count": null,
   "metadata": {},
   "outputs": [],
   "source": [
    "response = res[\"response\"].values[0]\n",
    "\n",
    "K = await evaluate_all_subsumes(optimizer_dict[\"M\"], ALL_FUNCTIONS, optimizer_dict[\"func_order\"], prompt_template, response)"
   ]
  },
  {
   "cell_type": "code",
   "execution_count": null,
   "metadata": {},
   "outputs": [],
   "source": [
    "K.sum()"
   ]
  },
  {
   "cell_type": "code",
   "execution_count": null,
   "metadata": {},
   "outputs": [],
   "source": [
    "# Pickle all the results\n",
    "import inspect\n",
    "\n",
    "path_name = f\"/Users/shreyashankar/Documents/projects/promptdelta/paper_experiments/{dataset_name}/optimizer_input.pkl\"\n",
    "\n",
    "optimizer_dict[\"K\"] = K\n",
    "optimizer_dict[\"spade_functions\"] = {func.__name__: inspect.getsource(func) for func in ALL_FUNCTIONS}\n",
    "import pickle\n",
    "\n",
    "with open(path_name, \"wb\") as f:\n",
    "    pickle.dump(optimizer_dict, f)"
   ]
  },
  {
   "cell_type": "code",
   "execution_count": null,
   "metadata": {},
   "outputs": [],
   "source": [
    "subsumption_df = collate_subsumption_results(optimizer_dict[\"M\"], ALL_FUNCTIONS, optimizer_dict[\"func_order\"], optimizer_dict[\"K\"])\n",
    "subsumption_df.to_csv(f\"/Users/shreyashankar/Documents/projects/promptdelta/paper_experiments/{dataset_name}/subsumption_results.csv\")"
   ]
  },
  {
   "cell_type": "code",
   "execution_count": null,
   "metadata": {},
   "outputs": [],
   "source": [
    "from spade_v3.check_subsumes import sample_subsumption_prompts_and_results\n",
    "\n",
    "subsumption_sample_llm_labeled = await sample_subsumption_prompts_and_results(optimizer_dict[\"M\"], ALL_FUNCTIONS, optimizer_dict[\"func_order\"], optimizer_dict[\"K\"], prompt_template_strings[-1], response)\n",
    "subsumption_sample_llm_labeled.to_csv(f\"/Users/shreyashankar/Documents/projects/promptdelta/paper_experiments/subsumption/data/{dataset_name}.csv\", index=False)"
   ]
  },
  {
   "cell_type": "code",
   "execution_count": null,
   "metadata": {},
   "outputs": [],
   "source": [
    "# Solve the optimization problem\n",
    "\n",
    "optimizer_res = select_functions(path_name, tau=0.25, alpha=0.6)\n",
    "\n",
    "# Pickle the results\n",
    "import pickle\n",
    "with open(f\"/Users/shreyashankar/Documents/projects/promptdelta/paper_experiments/{dataset_name}/optimizer_results.pkl\", \"wb\") as f:\n",
    "    pickle.dump(optimizer_res, f)\n"
   ]
  },
  {
   "cell_type": "code",
   "execution_count": null,
   "metadata": {},
   "outputs": [],
   "source": [
    "# Visualize performance\n",
    "\n",
    "# Turn into DF\n",
    "import pandas as pd\n",
    "\n",
    "optimizer_res_df = []\n",
    "for method in [\"spade_base\", \"spade_cov\", \"spade_sub\"]:\n",
    "    optimizer_res_df.append({\"method\": method, \"ffr\": optimizer_res[method][\"ffr\"], \"example failure coverage\": optimizer_res[method][\"coverage\"], \"frac_functions_selected\": optimizer_res[method][\"frac_functions_selected\"], \"frac_non_subsumed_excluded_functions\": optimizer_res[method][\"frac_non_subsumed_excluded_functions\"]})\n",
    "    \n",
    "optimizer_res_df = pd.DataFrame(optimizer_res_df)\n",
    "print(optimizer_res_df)\n"
   ]
  },
  {
   "cell_type": "markdown",
   "metadata": {},
   "source": [
    "## Evaluating Subsumption with Higher Precision"
   ]
  },
  {
   "cell_type": "code",
   "execution_count": null,
   "metadata": {},
   "outputs": [],
   "source": [
    "from spade_v3.check_subsumes import identify_subsumption_pairs\n",
    "from paper_experiments.sportroutine.candidate_assertions import ALL_FUNCTIONS\n",
    "import pickle\n",
    "\n",
    "dataset_name = \"sportroutine\"\n",
    "path_name = f\"/Users/shreyashankar/Documents/projects/promptdelta/paper_experiments/{dataset_name}/optimizer_input.pkl\"\n",
    "with open(path_name, \"rb\") as f:\n",
    "    optimizer_dict = pickle.load(f)\n",
    "K_and_pretty_df = await identify_subsumption_pairs(optimizer_dict[\"M\"], ALL_FUNCTIONS, optimizer_dict[\"func_order\"])\n",
    "\n",
    "K_and_pretty_df[\"K\"].sum() / (K_and_pretty_df[\"K\"].shape[0] * K_and_pretty_df[\"K\"].shape[1])"
   ]
  },
  {
   "cell_type": "code",
   "execution_count": null,
   "metadata": {},
   "outputs": [],
   "source": [
    "# Pickle all the results\n",
    "import inspect\n",
    "from spade_v3.optimizer import select_functions\n",
    "from rich import print\n",
    "\n",
    "path_name = f\"/Users/shreyashankar/Documents/projects/promptdelta/paper_experiments/{dataset_name}/optimizer_input.pkl\"\n",
    "\n",
    "optimizer_dict[\"K\"] = K_and_pretty_df[\"K\"]\n",
    "optimizer_dict[\"spade_functions\"] = {func.__name__: inspect.getsource(func) for func in ALL_FUNCTIONS}\n",
    "import pickle\n",
    "\n",
    "with open(path_name, \"wb\") as f:\n",
    "    pickle.dump(optimizer_dict, f)\n",
    "    \n",
    "# Dump subsumption df\n",
    "K_and_pretty_df[\"human_readable_results\"].to_csv(f\"/Users/shreyashankar/Documents/projects/promptdelta/paper_experiments/{dataset_name}/subsumption_results.csv\", index=False)\n",
    "\n",
    "# Solve the optimization problem\n",
    "optimizer_res = select_functions(path_name, tau=0.25, alpha=0.6)\n",
    "\n",
    "# Turn into DF\n",
    "import pandas as pd\n",
    "\n",
    "optimizer_res_df = []\n",
    "for method in [\"spade_base\", \"spade_cov\", \"spade_sub\"]:\n",
    "    optimizer_res_df.append({\"method\": method, \"ffr\": optimizer_res[method][\"ffr\"], \"example failure coverage\": optimizer_res[method][\"coverage\"], \"frac_functions_selected\": optimizer_res[method][\"frac_functions_selected\"], \"frac_non_subsumed_excluded_functions\": optimizer_res[method][\"frac_non_subsumed_excluded_functions\"]})\n",
    "    \n",
    "optimizer_res_df = pd.DataFrame(optimizer_res_df)\n",
    "print(optimizer_res_df)\n",
    "\n",
    "# Pickle the results\n",
    "import pickle\n",
    "with open(f\"/Users/shreyashankar/Documents/projects/promptdelta/paper_experiments/{dataset_name}/optimizer_results.pkl\", \"wb\") as f:\n",
    "    pickle.dump(optimizer_res, f)"
   ]
  },
  {
   "cell_type": "code",
   "execution_count": null,
   "metadata": {},
   "outputs": [],
   "source": []
  }
 ],
 "metadata": {
  "kernelspec": {
   "display_name": "promptdelta",
   "language": "python",
   "name": "python3"
  },
  "language_info": {
   "codemirror_mode": {
    "name": "ipython",
    "version": 3
   },
   "file_extension": ".py",
   "mimetype": "text/x-python",
   "name": "python",
   "nbconvert_exporter": "python",
   "pygments_lexer": "ipython3",
   "version": "3.10.12"
  }
 },
 "nbformat": 4,
 "nbformat_minor": 2
}
