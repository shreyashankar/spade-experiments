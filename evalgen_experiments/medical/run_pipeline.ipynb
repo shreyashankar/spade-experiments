{
 "cells": [
  {
   "cell_type": "code",
   "execution_count": 1,
   "metadata": {},
   "outputs": [
    {
     "name": "stderr",
     "output_type": "stream",
     "text": [
      "[nltk_data] Downloading package punkt to\n",
      "[nltk_data]     /Users/shreyashankar/nltk_data...\n",
      "[nltk_data]   Package punkt is already up-to-date!\n"
     ]
    }
   ],
   "source": [
    "# This notebook needs to be run in the root folder.\n",
    "import pandas as pd\n",
    "from spade.candidate_gen import generate_candidate_assertions\n",
    "from spade.execute_assertions import execute_candidate_assertions\n",
    "from spade.label_results import prepare_for_optimizer\n",
    "from spade.check_subsumes import evaluate_all_subsumes, collate_subsumption_results\n",
    "from spade.optimizer import select_functions\n",
    "from rich import print"
   ]
  },
  {
   "cell_type": "code",
   "execution_count": 2,
   "metadata": {},
   "outputs": [],
   "source": [
    "%load_ext autoreload\n",
    "%autoreload 2"
   ]
  },
  {
   "cell_type": "code",
   "execution_count": 3,
   "metadata": {},
   "outputs": [
    {
     "data": {
      "text/html": [
       "<pre style=\"white-space:pre;overflow-x:auto;line-height:normal;font-family:Menlo,'DejaVu Sans Mono',consolas,'Courier New',monospace\"><span style=\"font-weight: bold\">[</span>\n",
       "    <span style=\"color: #008000; text-decoration-color: #008000\">'You are extracting insights from some medical records. The records contain a medical note and a dialogue </span>\n",
       "<span style=\"color: #008000; text-decoration-color: #008000\">between a doctor and a patient. You need to extract values for the following: Chief complaint, History of present </span>\n",
       "<span style=\"color: #008000; text-decoration-color: #008000\">illness, Physical examination, Symptoms experienced by the patient, New medications prescribed or changed, </span>\n",
       "<span style=\"color: #008000; text-decoration-color: #008000\">including dosages (if any), and Follow-up instructions (if any). Your answer should not include any personal </span>\n",
       "<span style=\"color: #008000; text-decoration-color: #008000\">identifiable information (PII) such as name, age, gender, or ID. Use \"the patient\" instead of their name, for </span>\n",
       "<span style=\"color: #008000; text-decoration-color: #008000\">example. Return your answer as a bullet list, where each bullet is formatted like `chief complaint: xx.` If there </span>\n",
       "<span style=\"color: #008000; text-decoration-color: #008000\">is no value for the key, the value should be `N/A`. Keep your response under 100 words.\\n\\n{document}'</span>,\n",
       "    <span style=\"color: #008000; text-decoration-color: #008000\">'You are extracting insights from some medical records. The records contain a medical note and a dialogue </span>\n",
       "<span style=\"color: #008000; text-decoration-color: #008000\">between a doctor and a patient. You need to extract values for the following: Chief complaint, History of present </span>\n",
       "<span style=\"color: #008000; text-decoration-color: #008000\">illness, Physical examination, Symptoms experienced by the patient, New medications prescribed or changed, </span>\n",
       "<span style=\"color: #008000; text-decoration-color: #008000\">including dosages (N/A if not provided), and Follow-up instructions (N/A if not provided). Your answer should not </span>\n",
       "<span style=\"color: #008000; text-decoration-color: #008000\">include any personal identifiable information (PII) such as name, age, gender, or ID. Use \"the patient\" instead of </span>\n",
       "<span style=\"color: #008000; text-decoration-color: #008000\">their name, for example. Return your answer as a bullet list, where each bullet is formatted like `chief complaint:</span>\n",
       "<span style=\"color: #008000; text-decoration-color: #008000\">xx.` If there is no value for the key, the value should be `N/A`. Keep your response around 150 words (you may have</span>\n",
       "<span style=\"color: #008000; text-decoration-color: #008000\">to summarize some extracted values to stay within the word limit).\\n\\n{document}'</span>\n",
       "<span style=\"font-weight: bold\">]</span>\n",
       "</pre>\n"
      ],
      "text/plain": [
       "\u001b[1m[\u001b[0m\n",
       "    \u001b[32m'You are extracting insights from some medical records. The records contain a medical note and a dialogue \u001b[0m\n",
       "\u001b[32mbetween a doctor and a patient. You need to extract values for the following: Chief complaint, History of present \u001b[0m\n",
       "\u001b[32millness, Physical examination, Symptoms experienced by the patient, New medications prescribed or changed, \u001b[0m\n",
       "\u001b[32mincluding dosages \u001b[0m\u001b[32m(\u001b[0m\u001b[32mif any\u001b[0m\u001b[32m)\u001b[0m\u001b[32m, and Follow-up instructions \u001b[0m\u001b[32m(\u001b[0m\u001b[32mif any\u001b[0m\u001b[32m)\u001b[0m\u001b[32m. Your answer should not include any personal \u001b[0m\n",
       "\u001b[32midentifiable information \u001b[0m\u001b[32m(\u001b[0m\u001b[32mPII\u001b[0m\u001b[32m)\u001b[0m\u001b[32m such as name, age, gender, or ID. Use \"the patient\" instead of their name, for \u001b[0m\n",
       "\u001b[32mexample. Return your answer as a bullet list, where each bullet is formatted like `chief complaint: xx.` If there \u001b[0m\n",
       "\u001b[32mis no value for the key, the value should be `N/A`. Keep your response under 100 words.\\n\\n\u001b[0m\u001b[32m{\u001b[0m\u001b[32mdocument\u001b[0m\u001b[32m}\u001b[0m\u001b[32m'\u001b[0m,\n",
       "    \u001b[32m'You are extracting insights from some medical records. The records contain a medical note and a dialogue \u001b[0m\n",
       "\u001b[32mbetween a doctor and a patient. You need to extract values for the following: Chief complaint, History of present \u001b[0m\n",
       "\u001b[32millness, Physical examination, Symptoms experienced by the patient, New medications prescribed or changed, \u001b[0m\n",
       "\u001b[32mincluding dosages \u001b[0m\u001b[32m(\u001b[0m\u001b[32mN/A if not provided\u001b[0m\u001b[32m)\u001b[0m\u001b[32m, and Follow-up instructions \u001b[0m\u001b[32m(\u001b[0m\u001b[32mN/A if not provided\u001b[0m\u001b[32m)\u001b[0m\u001b[32m. Your answer should not \u001b[0m\n",
       "\u001b[32minclude any personal identifiable information \u001b[0m\u001b[32m(\u001b[0m\u001b[32mPII\u001b[0m\u001b[32m)\u001b[0m\u001b[32m such as name, age, gender, or ID. Use \"the patient\" instead of \u001b[0m\n",
       "\u001b[32mtheir name, for example. Return your answer as a bullet list, where each bullet is formatted like `chief complaint:\u001b[0m\n",
       "\u001b[32mxx.` If there is no value for the key, the value should be `N/A`. Keep your response around 150 words \u001b[0m\u001b[32m(\u001b[0m\u001b[32myou may have\u001b[0m\n",
       "\u001b[32mto summarize some extracted values to stay within the word limit\u001b[0m\u001b[32m)\u001b[0m\u001b[32m.\\n\\n\u001b[0m\u001b[32m{\u001b[0m\u001b[32mdocument\u001b[0m\u001b[32m}\u001b[0m\u001b[32m'\u001b[0m\n",
       "\u001b[1m]\u001b[0m\n"
      ]
     },
     "metadata": {},
     "output_type": "display_data"
    },
    {
     "data": {
      "text/html": [
       "<pre style=\"white-space:pre;overflow-x:auto;line-height:normal;font-family:Menlo,'DejaVu Sans Mono',consolas,'Courier New',monospace\">There are <span style=\"color: #008080; text-decoration-color: #008080; font-weight: bold\">2</span> templates.\n",
       "</pre>\n"
      ],
      "text/plain": [
       "There are \u001b[1;36m2\u001b[0m templates.\n"
      ]
     },
     "metadata": {},
     "output_type": "display_data"
    }
   ],
   "source": [
    "dataset_name = \"medical\"\n",
    "from evalgen_experiments.medical.prompt_templates import TEMPLATES\n",
    "\n",
    "prompt_template_strings = TEMPLATES\n",
    "EXAMPLE = {\n",
    "    \"document\": \"Patient ID: virtassist-D2N068-VA052\\nPatient Name: Brian  White\\nAge: 58\\nGender: male\\nChief Complaint: follow-up of chronic problems\\nSecondary Complaints: congestive heart failure;hypertension\\n\\n---------------------------------------------\\nMEDICAL NOTE:\\n\\nCHIEF COMPLAINT\\n\\nFollow-up of chronic problems.\\n\\nHISTORY OF PRESENT ILLNESS\\n\\nBrian White is a 58-year-old male with a past medical history significant for congestive heart failure and hypertension, who presents today for follow-up of his chronic problems.\\n\\nThe patient states he has been feeling out of sorts lately. He is not sure if it is due to the change in the seasons or due to performing lots of projects and some construction on his home. He reports fatigue and lightheadedness. This has been going on for about 5 weeks. While exerting energy, he has experienced some shortness of breath and chest cramps. The patient also notes a slight cough, but he is not sure if it is just the change in seasons.\\n\\nHe feels bloated every once in a while. His diet has been a little bit of a struggle. They had construction on their kitchen begin over Labor Day weekend, and have been eating less healthy food as a result.\\n\\nRegarding his heart failure, he has been pretty good with his salt intake. He has been pretty good about his diet since the last year and is staying on top of that as much as possible. The patient has continued to utilize Lasix daily.\\n\\nFor his hypertension, this has been well controlled with lisinopril 20 mg a day. He has continued to monitor his blood pressure regularly.\\n\\nThe patient did the review of systems sheet when he checked in. He denies weight gain, swelling in the lower extremities, fevers, chills, dizziness, nausea, vomiting, and diarrhea.\\n\\nREVIEW OF SYSTEMS\\n\\n\\u2022 Constitutional: Endorses fatigue. Denies fevers, chills, or weight loss.\\n\\u2022 Cardiovascular: Endorses chest pain or dyspnea on exertion.\\n\\u2022 Respiratory: Endorses cough and shortness of breath.\\n\\u2022 Gastrointestinal: Endorses bloating.\\n\\nPHYSICAL EXAMINATION\\n\\n\\u2022 Neck: JVD 8 cm.\\n\\u2022 Respiratory: Rales bilateral bases.\\n\\u2022 Cardiovascular: 3/6 systolic ejection murmur.\\n\\u2022 Musculoskeletal: 1+ pitting edema bilateral lower extremities.\\n\\nRESULTS\\n\\nX-ray of the chest demonstrates a mild amount of fluid in the lungs.\\n\\nEchocardiogram demonstrates decreased ejection fraction of 45% and mild mitral regurgitation.\\n\\nASSESSMENT AND PLAN\\n\\nBrian White is a 58-year-old male with a past medical history significant for congestive heart failure and hypertension, who presents today for follow up of his chronic problems.\\n\\nCongestive heart failure.\\n\\u2022 Medical Reasoning: The patient reports increased fatigue, dizziness, and chest discomfort on exertion. He also exhibits some jugular venous distention, lung base crackles, and lower extremity edema on exam today. He has been compliant with his current medications but admits to dietary indiscretion lately. His recent echocardiogram demonstrated a reduced ejection fraction of 45%, as well as mitral regurgitation.\\n\\u2022 Additional Testing: We will order a repeat echocardiogram.\\n\\u2022 Medical Treatment: Increase Lasix to 80 mg daily.\\n\\u2022 Patient Education and Counseling: I advised the patient to monitor and record his daily weight and report those to me via the patient portal. He will contact me should he continue to experience any dyspnea.\\n\\nHypertension.\\n\\u2022 Medical Reasoning: This is well controlled based on home monitoring.\\n\\u2022 Medical Treatment: Continue lisinopril 20 mg daily.\\n\\u2022 Patient Education and Counseling: I advised him to monitor and record his blood pressures at home and report these to me via the patient portal.\\n\\nPatient Agreements: The patient understands and agrees with the recommended medical treatment plan.\\n\\n---------------------------------------------\\nDIALOGUE:\\n\\n[doctor] hi , brian . how are you ?\\n[patient] hi , good to see you .\\n[doctor] it's good to see you too . so , i know the nurse told you a little bit about dax .\\n[patient] mm-hmm .\\n[doctor] i'd like to tell dax about you , okay ?\\n[patient] sure .\\n[doctor] so , brian is a 58 year old male with a past medical history significant for congestive heart failure and hypertension , who presents today for follow-up of his chronic problems . so , brian , it's been a little while i've seen you .\\n[patient] mm-hmm .\\n[doctor] whats , what's going on ?\\n[patient] i , i just feel out of sorts lately . i do n't know if it's the change in the seasons or if we're just doing a lot of projects around the house and , and some , some construction on our own . i'm just feeling out of it . lack of , uh , energy . i'm just so tired and fatigued , and i feel kinda ... i feel lightheaded every once in a while .\\n[doctor] okay . all right . um , how long has that been going on for ?\\n[patient] uh , probably since labor day , so about five weeks or so .\\n[doctor] okay . and , have you noticed any , like , symptoms of weight gain , like , like swollen legs , or , you know , your belly feels bloated and things like that ?\\n[patient] i feel , i feel bloated every once in a while .\\n[doctor] okay . all right . um , and , are you taking your , your medications ?\\n[patient] uh , yes , i am .\\n[doctor] okay . and , how about your diet ? are you watching your diet ?\\n[patient] uh , it's been a little bit of a struggle . we began construction on our kitchen over labor day weekend , and it was ... hard to cook or prepare meals so we ate out a lot, and not always the best food out. it , it , it kind of reeked havoc , uh , so it's been maybe off a little bit .\\n[doctor] okay . all right . and , how about , you know , other symptoms , like , have you had a fever or chills ?\\n[patient] no .\\n[doctor] okay , and any problems breathing ? do you feel short of breath ?\\n[patient] uh , just when i'm doing doing the projects . again , not even lifting anything really heavy , it's just that if i'm ex- exerting any energy , i , i kinda feel it at that point .\\n[doctor] okay . do you have any chest pain ?\\n[patient] slight cramps . that seems to go away after about , maybe about an hour or so after i first feel it .\\n[doctor] okay , and how about a cough ?\\n[patient] a , a slight cough , and again , i'm not sure if it's just the change of seasons and i'm getting a cold .\\n[doctor] mm-hmm . okay . all right . well , you know , for the most part , how , you know , before all of this-\\n[patient] mm-hmm .\\n[doctor] . how were you doing with your heart failure ? i know that we've kinda talked about you being able to watch your healthy food intake and that's been kind of a struggle in the past .\\n[patient] i , i , i've actually been pretty good about that ever since . the , the , the last year , it's been a little chaotic , but i wanted to make sure i stayed on top of that .\\n[doctor] okay . all right . are you excited for halloween ?\\n[patient] uh , ca n't wait .\\n[doctor] okay .\\n[patient] our home renovations should be complete by then\\n[doctor] all right , yeah , right .\\n[patient] yeah .\\n[doctor] and , so , lastly , for your high blood pressure , how are you doing with that ? have , are , did you buy the blood pressure cuff like i asked ?\\n[patient] yeah , i , i did , and we do mon- , i , i monitor it regularly . my wife makes sure i stay on top of that , but it's been pretty good .\\n[doctor] okay . all right . well , i know you did the review of systems sheet when you checked in , and you were endorsing this fatigue-\\n[patient] mm-hmm .\\n[doctor] . and a little dizziness and we just talked a lot about a lot of other symptoms .\\n[patient] mm-hmm .\\n[doctor] any other symptoms i might be missing ? nausea or vomiting , diarrhea ?\\n[patient] no .\\n[doctor] anything like that ?\\n[patient] no .\\n[doctor] okay . all right . well , i just want to go ahead and do a quick physical exam .\\n[patient] mm-hmm .\\n[doctor] hey , dragon ? show me the vital signs . so , looking at your vital signs here in the office , everything looks good . you know , your blood pressure and your heart rate and your oxygenation all look really good .\\n[patient] mm-hmm .\\n[doctor] so , i'm gon na just take a listen to a few things and check some things out , and i'll let you know what i find , okay ?\\n[patient] perfect .\\n[doctor] okay . so , on your physical examination , you know , i do appreciate some jugular venous distention to-\\n[patient] mm-hmm .\\n[doctor] to about eight centimeters . on your heart exam , i do appreciate a three out of six systolic ejection murmur , which we've heard in the past . and , on your lung exam , i do appreciate some fine crackles at the bases bilaterally , and your lower extremities have , you know , 1+ pitting edema . so , what does all that mean ? that means i think you're retaining a little bit of fluid .\\n[patient] mm-hmm .\\n[doctor] okay ? i wan na just go ahead and look at some of your results , okay ?\\n[patient] sure .\\n[doctor] hey , dragon ? show me the chest x-ray . so , looking here at the results of your chest x-ray , it does look like you have a little bit of fluid in your lungs there , and that can be just from , um , your heart failure , okay ? hey , dragon ? show me the echocardiogram . so , this is the echocardiogram that we did about four months ago , and this shows that the pumping function of your heart is a little bit reduced at 45 % , and it also shows that leaky valve , the mitral regurgitation that , that you have , okay ? um , so , let me just go over and talk about , a little bit , my assessment and my plan for you .\\n[patient] mm-hmm .\\n[doctor] okay ? so , for your first problem , your congestive heart failure , i think you're retaining fluid , and i wan na go ahead and increase your lasix to 80 mg once a day .\\n[patient] mm-hmm .\\n[doctor] i want you to weigh yourself every day . i want you to call me if you're gaining more weight .\\n[patient] mm-hmm .\\n[doctor] and , i certainly want you to call me if you have any other symptoms of shortness of breath , and i wan na go ahead and order another echocardiogram , okay ?\\n[patient] sure .\\n[doctor] hey , dragon ? order an echocardiogram .\\nlastly , for your high blood pressure , it looks like you're managing it well at this time , okay ? so , i wan na go ahead and continue with the lisinopril 20 mg a day . i want you to continue to record your blood pressures at home , and report them to me in the patient portal if you see they're getting elevated , okay ?\\n[patient] mm-hmm .\\n[doctor] does that sound like a plan ?\\n[patient] that sounds fine .\\n[doctor] okay . um , i'm gon na be in touch with you after we get your test results , and we'll go from there , okay ?\\n[patient] sure .\\n[doctor] all right . hey , dragon , finalize the note .\"\n",
    "}\n",
    "\n",
    "print(prompt_template_strings)\n",
    "print(f\"There are {len(prompt_template_strings)} templates.\")"
   ]
  },
  {
   "cell_type": "code",
   "execution_count": 11,
   "metadata": {},
   "outputs": [
    {
     "name": "stdout",
     "output_type": "stream",
     "text": [
      "Generating assertions...\n",
      "Prompt diff: --- \n",
      "\n",
      "+++ \n",
      "\n",
      "@@ -0,0 +1,8 @@\n",
      "\n",
      "+You are extracting insights from some medical records.\n",
      "+The records contain a medical note and a dialogue between a doctor and a patient.\n",
      "+You need to extract values for the following: Chief complaint, History of present illness, Physical examination, Symptoms experienced by the patient, New medications prescribed or changed, including dosages (if any), and Follow-up instructions (if any).\n",
      "+Your answer should not include any personal identifiable information (PII) such as name, age, gender, or ID.\n",
      "+Use \"the patient\" instead of their name, for example.\n",
      "+Return your answer as a bullet list, where each bullet is formatted like `chief complaint: xx.` If there is no value for the key, the value should be `N/A`.\n",
      "+Keep your response under 100 words.\n",
      "+{document}\n",
      "Generating assertions...\n",
      "Prompt diff: --- \n",
      "\n",
      "+++ \n",
      "\n",
      "@@ -1,8 +1,8 @@\n",
      "\n",
      " You are extracting insights from some medical records.\n",
      " The records contain a medical note and a dialogue between a doctor and a patient.\n",
      "-You need to extract values for the following: Chief complaint, History of present illness, Physical examination, Symptoms experienced by the patient, New medications prescribed or changed, including dosages (if any), and Follow-up instructions (if any).\n",
      "+You need to extract values for the following: Chief complaint, History of present illness, Physical examination, Symptoms experienced by the patient, New medications prescribed or changed, including dosages (N/A if not provided), and Follow-up instructions (N/A if not provided).\n",
      " Your answer should not include any personal identifiable information (PII) such as name, age, gender, or ID.\n",
      " Use \"the patient\" instead of their name, for example.\n",
      " Return your answer as a bullet list, where each bullet is formatted like `chief complaint: xx.` If there is no value for the key, the value should be `N/A`.\n",
      "-Keep your response under 100 words.\n",
      "+Keep your response around 150 words (you may have to summarize some extracted values to stay within the word limit).\n",
      " {document}\n"
     ]
    }
   ],
   "source": [
    "assertions = await generate_candidate_assertions(prompt_template_strings, EXAMPLE)"
   ]
  },
  {
   "cell_type": "code",
   "execution_count": 15,
   "metadata": {},
   "outputs": [],
   "source": [
    "# Append some stuff\n",
    "\n",
    "beginning = \"\"\"from litellm import acompletion\n",
    "\n",
    "\n",
    "async def ask_llm(prompt, response, question):\n",
    "    # Placeholder for asking an expert a true/false question\n",
    "    # In practice, this would involve a complex implementation potentially requiring human input\n",
    "\n",
    "    messages = [\n",
    "        {\n",
    "            \"content\": f\"You are a helpful assistant. Here is the prompt:\\\\n\\\\n{prompt}\\\\n\\\\nHere is the response:\\\\n{response}\",\n",
    "            \"role\": \"system\",\n",
    "        },\n",
    "        {\n",
    "            \"content\": f\"{question}\\\\nOnly answer yes or no.\",\n",
    "            \"role\": \"user\",\n",
    "        },\n",
    "    ]\n",
    "\n",
    "    response = await acompletion(\n",
    "        model=\"azure/gpt-35-turbo\",\n",
    "        messages=messages,\n",
    "    )\n",
    "\n",
    "    # get the cost\n",
    "    completion_tokens = response[\"usage\"][\"completion_tokens\"]\n",
    "    prompt_tokens = response[\"usage\"][\"prompt_tokens\"]\n",
    "\n",
    "    # get the response\n",
    "    reply = response[\"choices\"][0][\"message\"][\"content\"]\n",
    "\n",
    "    if \"yes\" in reply.lower():\n",
    "        return prompt_tokens, completion_tokens, True\n",
    "\n",
    "    return prompt_tokens, completion_tokens, False\n",
    "\"\"\"\n",
    "\n",
    "assertion_text = beginning + assertions[1][0]"
   ]
  },
  {
   "cell_type": "code",
   "execution_count": 16,
   "metadata": {},
   "outputs": [],
   "source": [
    "# Dump to functions.py\n",
    "\n",
    "prefix = f\"/Users/shreyashankar/Documents/projects/spade-experiments/evalgen_experiments/{dataset_name}\"\n",
    "\n",
    "with open(f\"{prefix}/candidate_assertions.py\", \"w\") as f:\n",
    "    f.write(assertion_text)"
   ]
  },
  {
   "cell_type": "code",
   "execution_count": 4,
   "metadata": {},
   "outputs": [
    {
     "data": {
      "text/html": [
       "<div>\n",
       "<style scoped>\n",
       "    .dataframe tbody tr th:only-of-type {\n",
       "        vertical-align: middle;\n",
       "    }\n",
       "\n",
       "    .dataframe tbody tr th {\n",
       "        vertical-align: top;\n",
       "    }\n",
       "\n",
       "    .dataframe thead th {\n",
       "        text-align: right;\n",
       "    }\n",
       "</style>\n",
       "<table border=\"1\" class=\"dataframe\">\n",
       "  <thead>\n",
       "    <tr style=\"text-align: right;\">\n",
       "      <th></th>\n",
       "      <th>prompt</th>\n",
       "      <th>response</th>\n",
       "      <th>model</th>\n",
       "      <th>example</th>\n",
       "    </tr>\n",
       "  </thead>\n",
       "  <tbody>\n",
       "    <tr>\n",
       "      <th>0</th>\n",
       "      <td>You are extracting insights from some medical ...</td>\n",
       "      <td>- Chief complaint: annual exam\\n- History of p...</td>\n",
       "      <td>gpt-3</td>\n",
       "      <td>{'document': \"Patient ID: virtassist-D2N001-VA...</td>\n",
       "    </tr>\n",
       "    <tr>\n",
       "      <th>1</th>\n",
       "      <td>You are extracting insights from some medical ...</td>\n",
       "      <td>- chief complaint: joint pain\\n- history of pr...</td>\n",
       "      <td>gpt-3</td>\n",
       "      <td>{'document': \"Patient ID: virtassist-D2N002-VA...</td>\n",
       "    </tr>\n",
       "    <tr>\n",
       "      <th>2</th>\n",
       "      <td>You are extracting insights from some medical ...</td>\n",
       "      <td>- Chief complaint: back pain\\n- History of pre...</td>\n",
       "      <td>gpt-3</td>\n",
       "      <td>{'document': \"Patient ID: virtassist-D2N003-VA...</td>\n",
       "    </tr>\n",
       "    <tr>\n",
       "      <th>3</th>\n",
       "      <td>You are extracting insights from some medical ...</td>\n",
       "      <td>- Chief complaint: back pain\\n- History of pre...</td>\n",
       "      <td>gpt-3</td>\n",
       "      <td>{'document': \"Patient ID: virtassist-D2N004-VA...</td>\n",
       "    </tr>\n",
       "    <tr>\n",
       "      <th>4</th>\n",
       "      <td>You are extracting insights from some medical ...</td>\n",
       "      <td>- Chief Complaint: right middle finger pain\\n-...</td>\n",
       "      <td>gpt-3</td>\n",
       "      <td>{'document': \"Patient ID: virtassist-D2N005-VA...</td>\n",
       "    </tr>\n",
       "  </tbody>\n",
       "</table>\n",
       "</div>"
      ],
      "text/plain": [
       "                                              prompt  \\\n",
       "0  You are extracting insights from some medical ...   \n",
       "1  You are extracting insights from some medical ...   \n",
       "2  You are extracting insights from some medical ...   \n",
       "3  You are extracting insights from some medical ...   \n",
       "4  You are extracting insights from some medical ...   \n",
       "\n",
       "                                            response  model  \\\n",
       "0  - Chief complaint: annual exam\\n- History of p...  gpt-3   \n",
       "1  - chief complaint: joint pain\\n- history of pr...  gpt-3   \n",
       "2  - Chief complaint: back pain\\n- History of pre...  gpt-3   \n",
       "3  - Chief complaint: back pain\\n- History of pre...  gpt-3   \n",
       "4  - Chief Complaint: right middle finger pain\\n-...  gpt-3   \n",
       "\n",
       "                                             example  \n",
       "0  {'document': \"Patient ID: virtassist-D2N001-VA...  \n",
       "1  {'document': \"Patient ID: virtassist-D2N002-VA...  \n",
       "2  {'document': \"Patient ID: virtassist-D2N003-VA...  \n",
       "3  {'document': \"Patient ID: virtassist-D2N004-VA...  \n",
       "4  {'document': \"Patient ID: virtassist-D2N005-VA...  "
      ]
     },
     "execution_count": 4,
     "metadata": {},
     "output_type": "execute_result"
    }
   ],
   "source": [
    "# Construct reply df with cols prompt,example,response,model\n",
    "\n",
    "# Load examples from the csv\n",
    "import pandas as pd\n",
    "import os\n",
    "curr_dir = os.getcwd()\n",
    "df = pd.read_csv(f\"{curr_dir}/dataset_graded.csv\")\n",
    "record_list = df.to_dict(orient=\"records\")\n",
    "\n",
    "EXAMPLES = []\n",
    "for record in record_list:\n",
    "    EXAMPLES.append({\n",
    "        \"document\": record[\"Var: document\"],\n",
    "        \"id\": record[\"Metavar: id\"],\n",
    "    })\n",
    "\n",
    "\n",
    "reply_df = df[[\"Prompt\", \"Var: document\", \"Response\"]].copy()\n",
    "reply_df[\"model\"] = \"gpt-3\"\n",
    "reply_df[\"example\"] = reply_df[\"Var: document\"].apply(lambda x: str({\"document\": x}))\n",
    "\n",
    "# Drop the Var: document col\n",
    "reply_df.drop(columns=[\"Var: document\"], inplace=True)\n",
    "\n",
    "# Rename cols\n",
    "reply_df.columns = [\"prompt\", \"response\", \"model\", \"example\"]\n",
    "reply_df.head()"
   ]
  },
  {
   "cell_type": "code",
   "execution_count": 11,
   "metadata": {},
   "outputs": [
    {
     "name": "stdout",
     "output_type": "stream",
     "text": [
      "df5a56ce3939dea620d3bcb3ec46807c354cb73514ec8439d4361f47489d22bf\n",
      "Sleeping for 2 seconds\n",
      "Sleeping for 2 seconds\n",
      "Sleeping for 2 seconds\n",
      "Sleeping for 2 seconds\n",
      "Sleeping for 2 seconds\n",
      "Sleeping for 2 seconds\n",
      "Sleeping for 2 seconds\n",
      "Sleeping for 2 seconds\n",
      "Sleeping for 2 seconds\n",
      "Sleeping for 2 seconds\n",
      "Sleeping for 2 seconds\n",
      "Sleeping for 2 seconds\n",
      "Sleeping for 2 seconds\n",
      "Sleeping for 2 seconds\n",
      "Sleeping for 2 seconds\n",
      "Sleeping for 2 seconds\n",
      "Sleeping for 2 seconds\n",
      "Sleeping for 2 seconds\n",
      "Sleeping for 2 seconds\n",
      "Sleeping for 2 seconds\n",
      "Sleeping for 2 seconds\n",
      "Sleeping for 2 seconds\n",
      "Sleeping for 2 seconds\n",
      "Sleeping for 2 seconds\n",
      "Sleeping for 2 seconds\n",
      "Sleeping for 2 seconds\n",
      "Sleeping for 2 seconds\n",
      "Sleeping for 2 seconds\n",
      "Sleeping for 2 seconds\n",
      "Sleeping for 2 seconds\n",
      "Sleeping for 2 seconds\n",
      "Sleeping for 2 seconds\n",
      "Sleeping for 2 seconds\n",
      "Sleeping for 2 seconds\n",
      "Sleeping for 2 seconds\n",
      "Sleeping for 2 seconds\n",
      "Sleeping for 2 seconds\n",
      "Sleeping for 2 seconds\n",
      "Sleeping for 2 seconds\n",
      "Sleeping for 2 seconds\n",
      "Sleeping for 2 seconds\n",
      "Sleeping for 2 seconds\n",
      "Sleeping for 2 seconds\n",
      "Sleeping for 2 seconds\n",
      "Sleeping for 2 seconds\n",
      "Sleeping for 2 seconds\n",
      "Sleeping for 2 seconds\n",
      "Sleeping for 2 seconds\n",
      "Sleeping for 2 seconds\n",
      "Sleeping for 2 seconds\n",
      "Sleeping for 2 seconds\n",
      "Sleeping for 2 seconds\n",
      "Sleeping for 2 seconds\n",
      "Sleeping for 2 seconds\n",
      "Sleeping for 2 seconds\n",
      "Sleeping for 2 seconds\n",
      "Sleeping for 2 seconds\n",
      "Sleeping for 2 seconds\n",
      "Sleeping for 2 seconds\n",
      "Sleeping for 2 seconds\n",
      "Sleeping for 2 seconds\n",
      "Sleeping for 2 seconds\n",
      "Sleeping for 2 seconds\n",
      "Sleeping for 2 seconds\n",
      "Sleeping for 2 seconds\n",
      "Sleeping for 2 seconds\n",
      "Sleeping for 2 seconds\n",
      "Sleeping for 2 seconds\n",
      "Sleeping for 2 seconds\n",
      "Sleeping for 2 seconds\n",
      "Sleeping for 2 seconds\n",
      "Sleeping for 2 seconds\n",
      "Sleeping for 2 seconds\n",
      "Sleeping for 2 seconds\n",
      "Sleeping for 2 seconds\n",
      "Sleeping for 2 seconds\n",
      "Sleeping for 2 seconds\n",
      "Sleeping for 2 seconds\n",
      "Sleeping for 2 seconds\n",
      "Sleeping for 2 seconds\n",
      "Sleeping for 2 seconds\n",
      "Sleeping for 2 seconds\n",
      "Sleeping for 2 seconds\n",
      "Sleeping for 2 seconds\n"
     ]
    }
   ],
   "source": [
    "from evalgen_experiments.medical.candidate_assertions import ALL_FUNCTIONS\n",
    "\n",
    "res = await execute_candidate_assertions(dataset_name, prompt_template_strings[-1], EXAMPLES, ALL_FUNCTIONS, reply_df=reply_df)\n"
   ]
  },
  {
   "cell_type": "code",
   "execution_count": 12,
   "metadata": {},
   "outputs": [
    {
     "data": {
      "text/html": [
       "<pre style=\"white-space:pre;overflow-x:auto;line-height:normal;font-family:Menlo,'DejaVu Sans Mono',consolas,'Courier New',monospace\">Num candidate functions: <span style=\"color: #008080; text-decoration-color: #008080; font-weight: bold\">21</span>\n",
       "</pre>\n"
      ],
      "text/plain": [
       "Num candidate functions: \u001b[1;36m21\u001b[0m\n"
      ]
     },
     "metadata": {},
     "output_type": "display_data"
    },
    {
     "data": {
      "text/html": [
       "<pre style=\"white-space:pre;overflow-x:auto;line-height:normal;font-family:Menlo,'DejaVu Sans Mono',consolas,'Courier New',monospace\">Num good examples: <span style=\"color: #008080; text-decoration-color: #008080; font-weight: bold\">57</span>\n",
       "</pre>\n"
      ],
      "text/plain": [
       "Num good examples: \u001b[1;36m57\u001b[0m\n"
      ]
     },
     "metadata": {},
     "output_type": "display_data"
    },
    {
     "data": {
      "text/html": [
       "<pre style=\"white-space:pre;overflow-x:auto;line-height:normal;font-family:Menlo,'DejaVu Sans Mono',consolas,'Courier New',monospace\">Num bad examples: <span style=\"color: #008080; text-decoration-color: #008080; font-weight: bold\">27</span>\n",
       "</pre>\n"
      ],
      "text/plain": [
       "Num bad examples: \u001b[1;36m27\u001b[0m\n"
      ]
     },
     "metadata": {},
     "output_type": "display_data"
    }
   ],
   "source": [
    "label_df = pd.DataFrame({\"response\": df[\"Response\"].values, \"label\": df[\"grade\"].values})\n",
    "# Print stats\n",
    "print(f\"Num candidate functions: {len(ALL_FUNCTIONS)}\")\n",
    "print(f\"Num good examples: {len(label_df[label_df['label'] == 1])}\")\n",
    "print(f\"Num bad examples: {len(label_df[label_df['label'] == 0])}\")\n",
    "\n",
    "optimizer_dict = prepare_for_optimizer(res, label_df)"
   ]
  },
  {
   "cell_type": "code",
   "execution_count": 16,
   "metadata": {},
   "outputs": [],
   "source": [
    "# Pickle all the results\n",
    "import inspect\n",
    "\n",
    "path_name = f\"/Users/shreyashankar/Documents/projects/spade-experiments/evalgen_experiments/{dataset_name}/optimizer_input.pkl\"\n",
    "\n",
    "# optimizer_dict[\"K\"] = K\n",
    "optimizer_dict[\"spade_functions\"] = {func.__name__: inspect.getsource(func) for func in ALL_FUNCTIONS}\n",
    "import pickle\n",
    "\n",
    "with open(path_name, \"wb\") as f:\n",
    "    pickle.dump(optimizer_dict, f)"
   ]
  },
  {
   "cell_type": "code",
   "execution_count": null,
   "metadata": {},
   "outputs": [],
   "source": [
    "subsumption_df = collate_subsumption_results(optimizer_dict[\"M\"], ALL_FUNCTIONS, optimizer_dict[\"func_order\"], optimizer_dict[\"K\"])\n",
    "subsumption_df.to_csv(f\"/Users/shreyashankar/Documents/projects/promptdelta/paper_experiments/{dataset_name}/subsumption_results.csv\")"
   ]
  },
  {
   "cell_type": "code",
   "execution_count": null,
   "metadata": {},
   "outputs": [],
   "source": [
    "# Solve the optimization problem\n",
    "\n",
    "optimizer_res = select_functions(path_name, tau=0.25, alpha=0.9)\n",
    "\n",
    "# Pickle the results\n",
    "import pickle\n",
    "with open(f\"/Users/shreyashankar/Documents/projects/promptdelta/paper_experiments/emails/optimizer_results.pkl\", \"wb\") as f:\n",
    "    pickle.dump(optimizer_res, f)\n"
   ]
  },
  {
   "cell_type": "code",
   "execution_count": null,
   "metadata": {},
   "outputs": [],
   "source": [
    "# Visualize performance\n",
    "\n",
    "# Turn into DF\n",
    "import pandas as pd\n",
    "\n",
    "optimizer_res_df = []\n",
    "for method in [\"spade_base\", \"spade_cov\", \"spade_sub\"]:\n",
    "    optimizer_res_df.append({\"method\": method, \"ffr\": optimizer_res[method][\"ffr\"], \"example failure coverage\": optimizer_res[method][\"coverage\"], \"frac_functions_selected\": optimizer_res[method][\"frac_functions_selected\"], \"frac_non_subsumed_excluded_functions\": optimizer_res[method][\"frac_non_subsumed_excluded_functions\"]})\n",
    "    \n",
    "optimizer_res_df = pd.DataFrame(optimizer_res_df)\n",
    "print(optimizer_res_df)\n"
   ]
  },
  {
   "cell_type": "code",
   "execution_count": null,
   "metadata": {},
   "outputs": [],
   "source": [
    "res"
   ]
  },
  {
   "cell_type": "code",
   "execution_count": null,
   "metadata": {},
   "outputs": [],
   "source": [
    "# Print dataset stats\n",
    "\n",
    "print(f\"Number of candidate assertions: {len(res)}\")"
   ]
  },
  {
   "cell_type": "markdown",
   "metadata": {},
   "source": [
    "## Evaluating Subsumption With High Precision"
   ]
  },
  {
   "cell_type": "code",
   "execution_count": 17,
   "metadata": {},
   "outputs": [
    {
     "name": "stdout",
     "output_type": "stream",
     "text": [
      "After reviewing the provided functions, I've identified pairs of functions where one function implies the other or where both functions imply each other due to redundancy in their checks:\n",
      "\n",
      "1. `assert_response_bullet_list_format` implies `assert_bullet_list_correct_format`.\n",
      "   - If a response is correctly formatted as a bullet list with the specific `key: value.` format as per `assert_bullet_list_correct_format`, it must also be formatted as a bullet list as checked by `assert_response_bullet_list_format`.\n",
      "\n",
      "2. `assert_response_bullet_key_value_format` implies `assert_bullet_list_correct_format`.\n",
      "   - If each bullet is correctly using the `key: value.` format as per `assert_bullet_list_correct_format`, then it is also true that each bullet contains `key: value.` as checked by `assert_response_bullet_key_value_format`.\n",
      "\n",
      "3. `assert_inclusion_of_specific_keys` is implied by `assert_headers_correspondence_to_prompt` and vice versa.\n",
      "   - `assert_inclusion_of_specific_keys` ensures that the response contains specific required keys while `assert_headers_correspondence_to_prompt` checks for headers corresponding to these keys in the prompt. Both are looking for the presence of the same specific headers in the response.\n",
      "\n",
      "4. `assert_response_has_required_keys_with_na` is similar to `assert_inclusion_of_specific_keys` but with the added check for \"N/A.\"\n",
      "   - Both functions check for the mandatory presence of required keys.\n",
      "\n",
      "5. `assert_no_pii_in_response` is implied by `assert_placeholder_usage_correctly`.\n",
      "   - If placeholders are correctly used in place of the patient's name, as per `assert_placeholder_usage_correctly`, this would include avoiding the use of other PII as ensured by `assert_no_pii_in_response`.\n",
      "\n",
      "6. `assert_placeholder_usage_correctly` implies `assert_use_of_the_patient_instead_of_name`.\n",
      "   - If the response correctly uses placeholders for the patient's name, then it should also be using generalized terms like \"the patient\" instead of any personal names.\n",
      "\n",
      "7. `assert_na_usage_for_missing_data` implies `assert_explicit_na_if_no_meds_changed` and `assert_explicit_na_if_no_follow_up`.\n",
      "   - If 'N/A' is used correctly for all missing data points, as per `assert_na_usage_for_missing_data`, this would include the explicit statement of 'N/A' for medication changes and follow-up instructions when they are not provided, as checked by `assert_explicit_na_if_no_meds_changed` and `assert_explicit_na_if_no_follow_up`.\n",
      "\n",
      "8. `assert_no_pii_present` and `assert_no_pii_in_response` imply each other because both are checking for the absence of personal identifiable information in the response.\n",
      "\n",
      "9. `assert_neutral_clinical_tone` and `assert_adherence_to_formal_clinical_tone` imply each other because both check for the tone of the response being appropriate for clinical or medical records context.\n",
      "\n",
      "10. `assert_response_under_word_limit` implies `assert_adjusted_word_count`, only in the case that \"under word limit\" means to be less than or equal to 100. The first ensures the response is under 100 words, while the second ensures the response is between 100 and 200 words—a response under 100 words is also between 100 and 200 words.\n",
      "\n",
      "These are the implications found based on the similarity and intersections of their functionality. This analysis assumes that the content and context of the responses provided to these assertions are consistent and that the checks performed by these functions are similar despite potential differences in function implementation detail.\n"
     ]
    }
   ],
   "source": [
    "from spade.check_subsumes import identify_subsumption_pairs\n",
    "from evalgen_experiments.medical.candidate_assertions import ALL_FUNCTIONS\n",
    "import pickle\n",
    "\n",
    "dataset_name = \"medical\"\n",
    "path_name = f\"/Users/shreyashankar/Documents/projects/spade-experiments/evalgen_experiments/{dataset_name}/optimizer_input.pkl\"\n",
    "with open(path_name, \"rb\") as f:\n",
    "    optimizer_dict = pickle.load(f)\n",
    "K_and_pretty_df = await identify_subsumption_pairs(optimizer_dict[\"M\"], ALL_FUNCTIONS, optimizer_dict[\"func_order\"])\n",
    "\n",
    "K_and_pretty_df[\"K\"].sum() / (K_and_pretty_df[\"K\"].shape[0] * K_and_pretty_df[\"K\"].shape[1])"
   ]
  },
  {
   "cell_type": "code",
   "execution_count": null,
   "metadata": {},
   "outputs": [],
   "source": [
    "# Pickle all the results\n",
    "import inspect\n",
    "from spade.optimizer import select_functions\n",
    "\n",
    "path_name = f\"/Users/shreyashankar/Documents/projects/spade-experiments/evalgen_experiments/{dataset_name}/optimizer_input.pkl\"\n",
    "\n",
    "optimizer_dict[\"K\"] = K_and_pretty_df[\"K\"]\n",
    "optimizer_dict[\"spade_functions\"] = {func.__name__: inspect.getsource(func) for func in ALL_FUNCTIONS}\n",
    "import pickle\n",
    "\n",
    "with open(path_name, \"wb\") as f:\n",
    "    pickle.dump(optimizer_dict, f)\n",
    "    \n",
    "# Dump subsumption df\n",
    "K_and_pretty_df[\"human_readable_results\"].to_csv(f\"/Users/shreyashankar/Documents/projects/spade-experiments/evalgen_experiments/{dataset_name}/subsumption_results.csv\", index=False)\n",
    "\n",
    "# Solve the optimization problem\n",
    "optimizer_res = select_functions(path_name, tau=0.25, alpha=0.6)\n",
    "\n",
    "# Turn into DF\n",
    "import pandas as pd\n",
    "\n",
    "optimizer_res_df = []\n",
    "for method in [\"spade_base\", \"spade_cov\", \"spade_sub\"]:\n",
    "    optimizer_res_df.append({\"method\": method, \"ffr\": optimizer_res[method][\"ffr\"], \"example failure coverage\": optimizer_res[method][\"coverage\"], \"frac_functions_selected\": optimizer_res[method][\"frac_functions_selected\"], \"frac_non_subsumed_excluded_functions\": optimizer_res[method][\"frac_non_subsumed_excluded_functions\"]})\n",
    "    \n",
    "optimizer_res_df = pd.DataFrame(optimizer_res_df)\n",
    "print(optimizer_res_df)\n",
    "\n",
    "# Pickle the results\n",
    "# import pickle\n",
    "# with open(f\"/Users/shreyashankar/Documents/projects/promptdelta/paper_experiments/{dataset_name}/optimizer_results.pkl\", \"wb\") as f:\n",
    "#     pickle.dump(optimizer_res, f)"
   ]
  },
  {
   "cell_type": "code",
   "execution_count": null,
   "metadata": {},
   "outputs": [],
   "source": [
    "from rich import print as rprint\n",
    "\n",
    "for k, v in optimizer_res.items():\n",
    "    if \"spade\" in str(k):\n",
    "        rprint(k)\n",
    "        rprint(v[\"selected_function_names\"])"
   ]
  },
  {
   "cell_type": "code",
   "execution_count": null,
   "metadata": {},
   "outputs": [],
   "source": []
  }
 ],
 "metadata": {
  "kernelspec": {
   "display_name": "promptdelta",
   "language": "python",
   "name": "python3"
  },
  "language_info": {
   "codemirror_mode": {
    "name": "ipython",
    "version": 3
   },
   "file_extension": ".py",
   "mimetype": "text/x-python",
   "name": "python",
   "nbconvert_exporter": "python",
   "pygments_lexer": "ipython3",
   "version": "3.10.12"
  }
 },
 "nbformat": 4,
 "nbformat_minor": 2
}
