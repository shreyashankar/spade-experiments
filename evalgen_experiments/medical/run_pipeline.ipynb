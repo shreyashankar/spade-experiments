{
 "cells": [
  {
   "cell_type": "code",
   "execution_count": 1,
   "metadata": {},
   "outputs": [
    {
     "name": "stderr",
     "output_type": "stream",
     "text": [
      "[nltk_data] Downloading package punkt to\n",
      "[nltk_data]     /Users/shreyashankar/nltk_data...\n",
      "[nltk_data]   Package punkt is already up-to-date!\n"
     ]
    }
   ],
   "source": [
    "# This notebook needs to be run in the root folder.\n",
    "import pandas as pd\n",
    "from spade.candidate_gen import generate_candidate_assertions\n",
    "from spade.execute_assertions import execute_candidate_assertions\n",
    "from spade.label_results import prepare_for_optimizer\n",
    "from spade.check_subsumes import evaluate_all_subsumes, collate_subsumption_results\n",
    "from spade.optimizer import select_functions\n",
    "from rich import print"
   ]
  },
  {
   "cell_type": "code",
   "execution_count": 2,
   "metadata": {},
   "outputs": [],
   "source": [
    "%load_ext autoreload\n",
    "%autoreload 2"
   ]
  },
  {
   "cell_type": "code",
   "execution_count": 3,
   "metadata": {},
   "outputs": [
    {
     "data": {
      "text/html": [
       "<pre style=\"white-space:pre;overflow-x:auto;line-height:normal;font-family:Menlo,'DejaVu Sans Mono',consolas,'Courier New',monospace\"><span style=\"font-weight: bold\">[</span>\n",
       "    <span style=\"color: #008000; text-decoration-color: #008000\">'You are extracting insights from some medical records. The records contain a medical note and a dialogue </span>\n",
       "<span style=\"color: #008000; text-decoration-color: #008000\">between a doctor and a patient. You need to extract values for the following: Chief complaint, History of present </span>\n",
       "<span style=\"color: #008000; text-decoration-color: #008000\">illness, Physical examination, Symptoms experienced by the patient, New medications prescribed or changed, </span>\n",
       "<span style=\"color: #008000; text-decoration-color: #008000\">including dosages (if any), and Follow-up instructions (if any). Your answer should not include any personal </span>\n",
       "<span style=\"color: #008000; text-decoration-color: #008000\">identifiable information (PII) such as name, age, gender, or ID. Use \"the patient\" instead of their name, for </span>\n",
       "<span style=\"color: #008000; text-decoration-color: #008000\">example. Return your answer as a bullet list, where each bullet is formatted like `chief complaint: xx.` If there </span>\n",
       "<span style=\"color: #008000; text-decoration-color: #008000\">is no value for the key, the value should be `N/A`. Keep your response under 100 words.\\n\\n{document}'</span>,\n",
       "    <span style=\"color: #008000; text-decoration-color: #008000\">'You are extracting insights from some medical records. The records contain a medical note and a dialogue </span>\n",
       "<span style=\"color: #008000; text-decoration-color: #008000\">between a doctor and a patient. You need to extract values for the following: Chief complaint, History of present </span>\n",
       "<span style=\"color: #008000; text-decoration-color: #008000\">illness, Physical examination, Symptoms experienced by the patient, New medications prescribed or changed, </span>\n",
       "<span style=\"color: #008000; text-decoration-color: #008000\">including dosages (N/A if not provided), and Follow-up instructions (N/A if not provided). Your answer should not </span>\n",
       "<span style=\"color: #008000; text-decoration-color: #008000\">include any personal identifiable information (PII) such as name, age, gender, or ID. Use \"the patient\" instead of </span>\n",
       "<span style=\"color: #008000; text-decoration-color: #008000\">their name, for example. Return your answer as a bullet list, where each bullet is formatted like `chief complaint:</span>\n",
       "<span style=\"color: #008000; text-decoration-color: #008000\">xx.` If there is no value for the key, the value should be `N/A`. Keep your response around 150 words (you may have</span>\n",
       "<span style=\"color: #008000; text-decoration-color: #008000\">to summarize some extracted values to stay within the word limit).\\n\\n{document}'</span>\n",
       "<span style=\"font-weight: bold\">]</span>\n",
       "</pre>\n"
      ],
      "text/plain": [
       "\u001b[1m[\u001b[0m\n",
       "    \u001b[32m'You are extracting insights from some medical records. The records contain a medical note and a dialogue \u001b[0m\n",
       "\u001b[32mbetween a doctor and a patient. You need to extract values for the following: Chief complaint, History of present \u001b[0m\n",
       "\u001b[32millness, Physical examination, Symptoms experienced by the patient, New medications prescribed or changed, \u001b[0m\n",
       "\u001b[32mincluding dosages \u001b[0m\u001b[32m(\u001b[0m\u001b[32mif any\u001b[0m\u001b[32m)\u001b[0m\u001b[32m, and Follow-up instructions \u001b[0m\u001b[32m(\u001b[0m\u001b[32mif any\u001b[0m\u001b[32m)\u001b[0m\u001b[32m. Your answer should not include any personal \u001b[0m\n",
       "\u001b[32midentifiable information \u001b[0m\u001b[32m(\u001b[0m\u001b[32mPII\u001b[0m\u001b[32m)\u001b[0m\u001b[32m such as name, age, gender, or ID. Use \"the patient\" instead of their name, for \u001b[0m\n",
       "\u001b[32mexample. Return your answer as a bullet list, where each bullet is formatted like `chief complaint: xx.` If there \u001b[0m\n",
       "\u001b[32mis no value for the key, the value should be `N/A`. Keep your response under 100 words.\\n\\n\u001b[0m\u001b[32m{\u001b[0m\u001b[32mdocument\u001b[0m\u001b[32m}\u001b[0m\u001b[32m'\u001b[0m,\n",
       "    \u001b[32m'You are extracting insights from some medical records. The records contain a medical note and a dialogue \u001b[0m\n",
       "\u001b[32mbetween a doctor and a patient. You need to extract values for the following: Chief complaint, History of present \u001b[0m\n",
       "\u001b[32millness, Physical examination, Symptoms experienced by the patient, New medications prescribed or changed, \u001b[0m\n",
       "\u001b[32mincluding dosages \u001b[0m\u001b[32m(\u001b[0m\u001b[32mN/A if not provided\u001b[0m\u001b[32m)\u001b[0m\u001b[32m, and Follow-up instructions \u001b[0m\u001b[32m(\u001b[0m\u001b[32mN/A if not provided\u001b[0m\u001b[32m)\u001b[0m\u001b[32m. Your answer should not \u001b[0m\n",
       "\u001b[32minclude any personal identifiable information \u001b[0m\u001b[32m(\u001b[0m\u001b[32mPII\u001b[0m\u001b[32m)\u001b[0m\u001b[32m such as name, age, gender, or ID. Use \"the patient\" instead of \u001b[0m\n",
       "\u001b[32mtheir name, for example. Return your answer as a bullet list, where each bullet is formatted like `chief complaint:\u001b[0m\n",
       "\u001b[32mxx.` If there is no value for the key, the value should be `N/A`. Keep your response around 150 words \u001b[0m\u001b[32m(\u001b[0m\u001b[32myou may have\u001b[0m\n",
       "\u001b[32mto summarize some extracted values to stay within the word limit\u001b[0m\u001b[32m)\u001b[0m\u001b[32m.\\n\\n\u001b[0m\u001b[32m{\u001b[0m\u001b[32mdocument\u001b[0m\u001b[32m}\u001b[0m\u001b[32m'\u001b[0m\n",
       "\u001b[1m]\u001b[0m\n"
      ]
     },
     "metadata": {},
     "output_type": "display_data"
    },
    {
     "data": {
      "text/html": [
       "<pre style=\"white-space:pre;overflow-x:auto;line-height:normal;font-family:Menlo,'DejaVu Sans Mono',consolas,'Courier New',monospace\">There are <span style=\"color: #008080; text-decoration-color: #008080; font-weight: bold\">2</span> templates.\n",
       "</pre>\n"
      ],
      "text/plain": [
       "There are \u001b[1;36m2\u001b[0m templates.\n"
      ]
     },
     "metadata": {},
     "output_type": "display_data"
    }
   ],
   "source": [
    "dataset_name = \"medical\"\n",
    "from evalgen_experiments.medical.prompt_templates import TEMPLATES\n",
    "\n",
    "prompt_template_strings = TEMPLATES\n",
    "EXAMPLE = {\n",
    "    \"document\": \"Patient ID: virtassist-D2N068-VA052\\nPatient Name: Brian  White\\nAge: 58\\nGender: male\\nChief Complaint: follow-up of chronic problems\\nSecondary Complaints: congestive heart failure;hypertension\\n\\n---------------------------------------------\\nMEDICAL NOTE:\\n\\nCHIEF COMPLAINT\\n\\nFollow-up of chronic problems.\\n\\nHISTORY OF PRESENT ILLNESS\\n\\nBrian White is a 58-year-old male with a past medical history significant for congestive heart failure and hypertension, who presents today for follow-up of his chronic problems.\\n\\nThe patient states he has been feeling out of sorts lately. He is not sure if it is due to the change in the seasons or due to performing lots of projects and some construction on his home. He reports fatigue and lightheadedness. This has been going on for about 5 weeks. While exerting energy, he has experienced some shortness of breath and chest cramps. The patient also notes a slight cough, but he is not sure if it is just the change in seasons.\\n\\nHe feels bloated every once in a while. His diet has been a little bit of a struggle. They had construction on their kitchen begin over Labor Day weekend, and have been eating less healthy food as a result.\\n\\nRegarding his heart failure, he has been pretty good with his salt intake. He has been pretty good about his diet since the last year and is staying on top of that as much as possible. The patient has continued to utilize Lasix daily.\\n\\nFor his hypertension, this has been well controlled with lisinopril 20 mg a day. He has continued to monitor his blood pressure regularly.\\n\\nThe patient did the review of systems sheet when he checked in. He denies weight gain, swelling in the lower extremities, fevers, chills, dizziness, nausea, vomiting, and diarrhea.\\n\\nREVIEW OF SYSTEMS\\n\\n\\u2022 Constitutional: Endorses fatigue. Denies fevers, chills, or weight loss.\\n\\u2022 Cardiovascular: Endorses chest pain or dyspnea on exertion.\\n\\u2022 Respiratory: Endorses cough and shortness of breath.\\n\\u2022 Gastrointestinal: Endorses bloating.\\n\\nPHYSICAL EXAMINATION\\n\\n\\u2022 Neck: JVD 8 cm.\\n\\u2022 Respiratory: Rales bilateral bases.\\n\\u2022 Cardiovascular: 3/6 systolic ejection murmur.\\n\\u2022 Musculoskeletal: 1+ pitting edema bilateral lower extremities.\\n\\nRESULTS\\n\\nX-ray of the chest demonstrates a mild amount of fluid in the lungs.\\n\\nEchocardiogram demonstrates decreased ejection fraction of 45% and mild mitral regurgitation.\\n\\nASSESSMENT AND PLAN\\n\\nBrian White is a 58-year-old male with a past medical history significant for congestive heart failure and hypertension, who presents today for follow up of his chronic problems.\\n\\nCongestive heart failure.\\n\\u2022 Medical Reasoning: The patient reports increased fatigue, dizziness, and chest discomfort on exertion. He also exhibits some jugular venous distention, lung base crackles, and lower extremity edema on exam today. He has been compliant with his current medications but admits to dietary indiscretion lately. His recent echocardiogram demonstrated a reduced ejection fraction of 45%, as well as mitral regurgitation.\\n\\u2022 Additional Testing: We will order a repeat echocardiogram.\\n\\u2022 Medical Treatment: Increase Lasix to 80 mg daily.\\n\\u2022 Patient Education and Counseling: I advised the patient to monitor and record his daily weight and report those to me via the patient portal. He will contact me should he continue to experience any dyspnea.\\n\\nHypertension.\\n\\u2022 Medical Reasoning: This is well controlled based on home monitoring.\\n\\u2022 Medical Treatment: Continue lisinopril 20 mg daily.\\n\\u2022 Patient Education and Counseling: I advised him to monitor and record his blood pressures at home and report these to me via the patient portal.\\n\\nPatient Agreements: The patient understands and agrees with the recommended medical treatment plan.\\n\\n---------------------------------------------\\nDIALOGUE:\\n\\n[doctor] hi , brian . how are you ?\\n[patient] hi , good to see you .\\n[doctor] it's good to see you too . so , i know the nurse told you a little bit about dax .\\n[patient] mm-hmm .\\n[doctor] i'd like to tell dax about you , okay ?\\n[patient] sure .\\n[doctor] so , brian is a 58 year old male with a past medical history significant for congestive heart failure and hypertension , who presents today for follow-up of his chronic problems . so , brian , it's been a little while i've seen you .\\n[patient] mm-hmm .\\n[doctor] whats , what's going on ?\\n[patient] i , i just feel out of sorts lately . i do n't know if it's the change in the seasons or if we're just doing a lot of projects around the house and , and some , some construction on our own . i'm just feeling out of it . lack of , uh , energy . i'm just so tired and fatigued , and i feel kinda ... i feel lightheaded every once in a while .\\n[doctor] okay . all right . um , how long has that been going on for ?\\n[patient] uh , probably since labor day , so about five weeks or so .\\n[doctor] okay . and , have you noticed any , like , symptoms of weight gain , like , like swollen legs , or , you know , your belly feels bloated and things like that ?\\n[patient] i feel , i feel bloated every once in a while .\\n[doctor] okay . all right . um , and , are you taking your , your medications ?\\n[patient] uh , yes , i am .\\n[doctor] okay . and , how about your diet ? are you watching your diet ?\\n[patient] uh , it's been a little bit of a struggle . we began construction on our kitchen over labor day weekend , and it was ... hard to cook or prepare meals so we ate out a lot, and not always the best food out. it , it , it kind of reeked havoc , uh , so it's been maybe off a little bit .\\n[doctor] okay . all right . and , how about , you know , other symptoms , like , have you had a fever or chills ?\\n[patient] no .\\n[doctor] okay , and any problems breathing ? do you feel short of breath ?\\n[patient] uh , just when i'm doing doing the projects . again , not even lifting anything really heavy , it's just that if i'm ex- exerting any energy , i , i kinda feel it at that point .\\n[doctor] okay . do you have any chest pain ?\\n[patient] slight cramps . that seems to go away after about , maybe about an hour or so after i first feel it .\\n[doctor] okay , and how about a cough ?\\n[patient] a , a slight cough , and again , i'm not sure if it's just the change of seasons and i'm getting a cold .\\n[doctor] mm-hmm . okay . all right . well , you know , for the most part , how , you know , before all of this-\\n[patient] mm-hmm .\\n[doctor] . how were you doing with your heart failure ? i know that we've kinda talked about you being able to watch your healthy food intake and that's been kind of a struggle in the past .\\n[patient] i , i , i've actually been pretty good about that ever since . the , the , the last year , it's been a little chaotic , but i wanted to make sure i stayed on top of that .\\n[doctor] okay . all right . are you excited for halloween ?\\n[patient] uh , ca n't wait .\\n[doctor] okay .\\n[patient] our home renovations should be complete by then\\n[doctor] all right , yeah , right .\\n[patient] yeah .\\n[doctor] and , so , lastly , for your high blood pressure , how are you doing with that ? have , are , did you buy the blood pressure cuff like i asked ?\\n[patient] yeah , i , i did , and we do mon- , i , i monitor it regularly . my wife makes sure i stay on top of that , but it's been pretty good .\\n[doctor] okay . all right . well , i know you did the review of systems sheet when you checked in , and you were endorsing this fatigue-\\n[patient] mm-hmm .\\n[doctor] . and a little dizziness and we just talked a lot about a lot of other symptoms .\\n[patient] mm-hmm .\\n[doctor] any other symptoms i might be missing ? nausea or vomiting , diarrhea ?\\n[patient] no .\\n[doctor] anything like that ?\\n[patient] no .\\n[doctor] okay . all right . well , i just want to go ahead and do a quick physical exam .\\n[patient] mm-hmm .\\n[doctor] hey , dragon ? show me the vital signs . so , looking at your vital signs here in the office , everything looks good . you know , your blood pressure and your heart rate and your oxygenation all look really good .\\n[patient] mm-hmm .\\n[doctor] so , i'm gon na just take a listen to a few things and check some things out , and i'll let you know what i find , okay ?\\n[patient] perfect .\\n[doctor] okay . so , on your physical examination , you know , i do appreciate some jugular venous distention to-\\n[patient] mm-hmm .\\n[doctor] to about eight centimeters . on your heart exam , i do appreciate a three out of six systolic ejection murmur , which we've heard in the past . and , on your lung exam , i do appreciate some fine crackles at the bases bilaterally , and your lower extremities have , you know , 1+ pitting edema . so , what does all that mean ? that means i think you're retaining a little bit of fluid .\\n[patient] mm-hmm .\\n[doctor] okay ? i wan na just go ahead and look at some of your results , okay ?\\n[patient] sure .\\n[doctor] hey , dragon ? show me the chest x-ray . so , looking here at the results of your chest x-ray , it does look like you have a little bit of fluid in your lungs there , and that can be just from , um , your heart failure , okay ? hey , dragon ? show me the echocardiogram . so , this is the echocardiogram that we did about four months ago , and this shows that the pumping function of your heart is a little bit reduced at 45 % , and it also shows that leaky valve , the mitral regurgitation that , that you have , okay ? um , so , let me just go over and talk about , a little bit , my assessment and my plan for you .\\n[patient] mm-hmm .\\n[doctor] okay ? so , for your first problem , your congestive heart failure , i think you're retaining fluid , and i wan na go ahead and increase your lasix to 80 mg once a day .\\n[patient] mm-hmm .\\n[doctor] i want you to weigh yourself every day . i want you to call me if you're gaining more weight .\\n[patient] mm-hmm .\\n[doctor] and , i certainly want you to call me if you have any other symptoms of shortness of breath , and i wan na go ahead and order another echocardiogram , okay ?\\n[patient] sure .\\n[doctor] hey , dragon ? order an echocardiogram .\\nlastly , for your high blood pressure , it looks like you're managing it well at this time , okay ? so , i wan na go ahead and continue with the lisinopril 20 mg a day . i want you to continue to record your blood pressures at home , and report them to me in the patient portal if you see they're getting elevated , okay ?\\n[patient] mm-hmm .\\n[doctor] does that sound like a plan ?\\n[patient] that sounds fine .\\n[doctor] okay . um , i'm gon na be in touch with you after we get your test results , and we'll go from there , okay ?\\n[patient] sure .\\n[doctor] all right . hey , dragon , finalize the note .\"\n",
    "}\n",
    "\n",
    "print(prompt_template_strings)\n",
    "print(f\"There are {len(prompt_template_strings)} templates.\")"
   ]
  },
  {
   "cell_type": "code",
   "execution_count": 11,
   "metadata": {},
   "outputs": [
    {
     "name": "stdout",
     "output_type": "stream",
     "text": [
      "Generating assertions...\n",
      "Prompt diff: --- \n",
      "\n",
      "+++ \n",
      "\n",
      "@@ -0,0 +1,8 @@\n",
      "\n",
      "+You are extracting insights from some medical records.\n",
      "+The records contain a medical note and a dialogue between a doctor and a patient.\n",
      "+You need to extract values for the following: Chief complaint, History of present illness, Physical examination, Symptoms experienced by the patient, New medications prescribed or changed, including dosages (if any), and Follow-up instructions (if any).\n",
      "+Your answer should not include any personal identifiable information (PII) such as name, age, gender, or ID.\n",
      "+Use \"the patient\" instead of their name, for example.\n",
      "+Return your answer as a bullet list, where each bullet is formatted like `chief complaint: xx.` If there is no value for the key, the value should be `N/A`.\n",
      "+Keep your response under 100 words.\n",
      "+{document}\n",
      "Generating assertions...\n",
      "Prompt diff: --- \n",
      "\n",
      "+++ \n",
      "\n",
      "@@ -1,8 +1,8 @@\n",
      "\n",
      " You are extracting insights from some medical records.\n",
      " The records contain a medical note and a dialogue between a doctor and a patient.\n",
      "-You need to extract values for the following: Chief complaint, History of present illness, Physical examination, Symptoms experienced by the patient, New medications prescribed or changed, including dosages (if any), and Follow-up instructions (if any).\n",
      "+You need to extract values for the following: Chief complaint, History of present illness, Physical examination, Symptoms experienced by the patient, New medications prescribed or changed, including dosages (N/A if not provided), and Follow-up instructions (N/A if not provided).\n",
      " Your answer should not include any personal identifiable information (PII) such as name, age, gender, or ID.\n",
      " Use \"the patient\" instead of their name, for example.\n",
      " Return your answer as a bullet list, where each bullet is formatted like `chief complaint: xx.` If there is no value for the key, the value should be `N/A`.\n",
      "-Keep your response under 100 words.\n",
      "+Keep your response around 150 words (you may have to summarize some extracted values to stay within the word limit).\n",
      " {document}\n"
     ]
    }
   ],
   "source": [
    "assertions = await generate_candidate_assertions(prompt_template_strings, EXAMPLE)"
   ]
  },
  {
   "cell_type": "code",
   "execution_count": 15,
   "metadata": {},
   "outputs": [],
   "source": [
    "# Append some stuff\n",
    "\n",
    "beginning = \"\"\"from litellm import acompletion\n",
    "\n",
    "\n",
    "async def ask_llm(prompt, response, question):\n",
    "    # Placeholder for asking an expert a true/false question\n",
    "    # In practice, this would involve a complex implementation potentially requiring human input\n",
    "\n",
    "    messages = [\n",
    "        {\n",
    "            \"content\": f\"You are a helpful assistant. Here is the prompt:\\\\n\\\\n{prompt}\\\\n\\\\nHere is the response:\\\\n{response}\",\n",
    "            \"role\": \"system\",\n",
    "        },\n",
    "        {\n",
    "            \"content\": f\"{question}\\\\nOnly answer yes or no.\",\n",
    "            \"role\": \"user\",\n",
    "        },\n",
    "    ]\n",
    "\n",
    "    response = await acompletion(\n",
    "        model=\"azure/gpt-35-turbo\",\n",
    "        messages=messages,\n",
    "    )\n",
    "\n",
    "    # get the cost\n",
    "    completion_tokens = response[\"usage\"][\"completion_tokens\"]\n",
    "    prompt_tokens = response[\"usage\"][\"prompt_tokens\"]\n",
    "\n",
    "    # get the response\n",
    "    reply = response[\"choices\"][0][\"message\"][\"content\"]\n",
    "\n",
    "    if \"yes\" in reply.lower():\n",
    "        return prompt_tokens, completion_tokens, True\n",
    "\n",
    "    return prompt_tokens, completion_tokens, False\n",
    "\"\"\"\n",
    "\n",
    "assertion_text = beginning + assertions[1][0]"
   ]
  },
  {
   "cell_type": "code",
   "execution_count": 16,
   "metadata": {},
   "outputs": [],
   "source": [
    "# Dump to functions.py\n",
    "\n",
    "prefix = f\"/Users/shreyashankar/Documents/projects/spade-experiments/evalgen_experiments/{dataset_name}\"\n",
    "\n",
    "with open(f\"{prefix}/candidate_assertions.py\", \"w\") as f:\n",
    "    f.write(assertion_text)"
   ]
  },
  {
   "cell_type": "code",
   "execution_count": 23,
   "metadata": {},
   "outputs": [
    {
     "data": {
      "text/html": [
       "<div>\n",
       "<style scoped>\n",
       "    .dataframe tbody tr th:only-of-type {\n",
       "        vertical-align: middle;\n",
       "    }\n",
       "\n",
       "    .dataframe tbody tr th {\n",
       "        vertical-align: top;\n",
       "    }\n",
       "\n",
       "    .dataframe thead th {\n",
       "        text-align: right;\n",
       "    }\n",
       "</style>\n",
       "<table border=\"1\" class=\"dataframe\">\n",
       "  <thead>\n",
       "    <tr style=\"text-align: right;\">\n",
       "      <th></th>\n",
       "      <th>prompt</th>\n",
       "      <th>response</th>\n",
       "      <th>model</th>\n",
       "      <th>example</th>\n",
       "    </tr>\n",
       "  </thead>\n",
       "  <tbody>\n",
       "    <tr>\n",
       "      <th>0</th>\n",
       "      <td>You are extracting insights from some medical ...</td>\n",
       "      <td>- Chief complaint: annual exam\\n- History of p...</td>\n",
       "      <td>gpt-3</td>\n",
       "      <td>{'document': \"Patient ID: virtassist-D2N001-VA...</td>\n",
       "    </tr>\n",
       "    <tr>\n",
       "      <th>1</th>\n",
       "      <td>You are extracting insights from some medical ...</td>\n",
       "      <td>- chief complaint: joint pain\\n- history of pr...</td>\n",
       "      <td>gpt-3</td>\n",
       "      <td>{'document': \"Patient ID: virtassist-D2N002-VA...</td>\n",
       "    </tr>\n",
       "    <tr>\n",
       "      <th>2</th>\n",
       "      <td>You are extracting insights from some medical ...</td>\n",
       "      <td>- Chief complaint: back pain\\n- History of pre...</td>\n",
       "      <td>gpt-3</td>\n",
       "      <td>{'document': \"Patient ID: virtassist-D2N003-VA...</td>\n",
       "    </tr>\n",
       "    <tr>\n",
       "      <th>3</th>\n",
       "      <td>You are extracting insights from some medical ...</td>\n",
       "      <td>- Chief complaint: back pain\\n- History of pre...</td>\n",
       "      <td>gpt-3</td>\n",
       "      <td>{'document': \"Patient ID: virtassist-D2N004-VA...</td>\n",
       "    </tr>\n",
       "    <tr>\n",
       "      <th>4</th>\n",
       "      <td>You are extracting insights from some medical ...</td>\n",
       "      <td>- Chief Complaint: right middle finger pain\\n-...</td>\n",
       "      <td>gpt-3</td>\n",
       "      <td>{'document': \"Patient ID: virtassist-D2N005-VA...</td>\n",
       "    </tr>\n",
       "  </tbody>\n",
       "</table>\n",
       "</div>"
      ],
      "text/plain": [
       "                                              prompt  \\\n",
       "0  You are extracting insights from some medical ...   \n",
       "1  You are extracting insights from some medical ...   \n",
       "2  You are extracting insights from some medical ...   \n",
       "3  You are extracting insights from some medical ...   \n",
       "4  You are extracting insights from some medical ...   \n",
       "\n",
       "                                            response  model  \\\n",
       "0  - Chief complaint: annual exam\\n- History of p...  gpt-3   \n",
       "1  - chief complaint: joint pain\\n- history of pr...  gpt-3   \n",
       "2  - Chief complaint: back pain\\n- History of pre...  gpt-3   \n",
       "3  - Chief complaint: back pain\\n- History of pre...  gpt-3   \n",
       "4  - Chief Complaint: right middle finger pain\\n-...  gpt-3   \n",
       "\n",
       "                                             example  \n",
       "0  {'document': \"Patient ID: virtassist-D2N001-VA...  \n",
       "1  {'document': \"Patient ID: virtassist-D2N002-VA...  \n",
       "2  {'document': \"Patient ID: virtassist-D2N003-VA...  \n",
       "3  {'document': \"Patient ID: virtassist-D2N004-VA...  \n",
       "4  {'document': \"Patient ID: virtassist-D2N005-VA...  "
      ]
     },
     "execution_count": 23,
     "metadata": {},
     "output_type": "execute_result"
    }
   ],
   "source": [
    "# Construct reply df with cols prompt,example,response,model\n",
    "\n",
    "# Load examples from the csv\n",
    "import pandas as pd\n",
    "import os\n",
    "curr_dir = os.getcwd()\n",
    "df = pd.read_csv(f\"{curr_dir}/dataset_graded.csv\")\n",
    "record_list = df.to_dict(orient=\"records\")\n",
    "\n",
    "EXAMPLES = []\n",
    "for record in record_list:\n",
    "    EXAMPLES.append({\n",
    "        \"document\": record[\"Var: document\"],\n",
    "        \"id\": record[\"Metavar: id\"],\n",
    "    })\n",
    "\n",
    "\n",
    "reply_df = df[[\"Prompt\", \"Var: document\", \"Response\"]].copy()\n",
    "reply_df[\"model\"] = \"gpt-3\"\n",
    "reply_df[\"example\"] = reply_df[\"Var: document\"].apply(lambda x: str({\"document\": x}))\n",
    "\n",
    "# Drop the Var: document col\n",
    "reply_df.drop(columns=[\"Var: document\"], inplace=True)\n",
    "\n",
    "# Rename cols\n",
    "reply_df.columns = [\"prompt\", \"response\", \"model\", \"example\"]\n",
    "reply_df.head()"
   ]
  },
  {
   "cell_type": "code",
   "execution_count": 25,
   "metadata": {},
   "outputs": [
    {
     "name": "stdout",
     "output_type": "stream",
     "text": [
      "ec177d9afef45755c308b2a41da9080ac986223fbc9814648db4fb6c99053c8d\n",
      "Sleeping for 2 seconds\n",
      "Sleeping for 2 seconds\n",
      "Sleeping for 2 seconds\n",
      "Sleeping for 2 seconds\n",
      "Sleeping for 2 seconds\n",
      "Sleeping for 2 seconds\n",
      "Sleeping for 2 seconds\n",
      "Sleeping for 2 seconds\n",
      "Sleeping for 2 seconds\n",
      "Sleeping for 2 seconds\n",
      "Sleeping for 2 seconds\n",
      "Sleeping for 2 seconds\n",
      "Sleeping for 2 seconds\n",
      "Sleeping for 2 seconds\n",
      "Sleeping for 2 seconds\n",
      "Sleeping for 2 seconds\n",
      "Sleeping for 2 seconds\n",
      "Sleeping for 2 seconds\n",
      "Sleeping for 2 seconds\n",
      "Sleeping for 2 seconds\n",
      "Sleeping for 2 seconds\n",
      "Sleeping for 2 seconds\n",
      "Sleeping for 2 seconds\n",
      "Sleeping for 2 seconds\n",
      "Sleeping for 2 seconds\n",
      "Sleeping for 2 seconds\n",
      "Sleeping for 2 seconds\n",
      "Sleeping for 2 seconds\n",
      "Sleeping for 2 seconds\n",
      "Sleeping for 2 seconds\n",
      "Sleeping for 2 seconds\n",
      "Sleeping for 2 seconds\n",
      "Sleeping for 2 seconds\n",
      "Sleeping for 2 seconds\n",
      "Sleeping for 2 seconds\n",
      "Sleeping for 2 seconds\n",
      "Sleeping for 2 seconds\n",
      "Sleeping for 2 seconds\n",
      "Sleeping for 2 seconds\n",
      "Sleeping for 2 seconds\n",
      "Sleeping for 2 seconds\n",
      "Sleeping for 2 seconds\n",
      "Sleeping for 2 seconds\n",
      "Sleeping for 2 seconds\n",
      "Sleeping for 2 seconds\n",
      "Sleeping for 2 seconds\n",
      "Sleeping for 2 seconds\n",
      "Sleeping for 2 seconds\n",
      "Sleeping for 2 seconds\n",
      "Sleeping for 2 seconds\n",
      "Sleeping for 2 seconds\n",
      "Sleeping for 2 seconds\n",
      "Sleeping for 2 seconds\n",
      "Sleeping for 2 seconds\n",
      "Sleeping for 2 seconds\n",
      "Sleeping for 2 seconds\n",
      "Sleeping for 2 seconds\n",
      "Sleeping for 2 seconds\n",
      "Sleeping for 2 seconds\n",
      "Sleeping for 2 seconds\n",
      "Sleeping for 2 seconds\n",
      "Sleeping for 2 seconds\n",
      "Sleeping for 2 seconds\n",
      "Sleeping for 2 seconds\n",
      "Sleeping for 2 seconds\n",
      "Sleeping for 2 seconds\n",
      "Sleeping for 2 seconds\n",
      "Sleeping for 2 seconds\n",
      "Sleeping for 2 seconds\n",
      "Sleeping for 2 seconds\n",
      "Sleeping for 2 seconds\n",
      "Sleeping for 2 seconds\n",
      "Sleeping for 2 seconds\n",
      "Sleeping for 2 seconds\n",
      "Sleeping for 2 seconds\n",
      "Sleeping for 2 seconds\n",
      "Sleeping for 2 seconds\n",
      "Sleeping for 2 seconds\n",
      "Sleeping for 2 seconds\n",
      "Sleeping for 2 seconds\n",
      "Sleeping for 2 seconds\n",
      "Sleeping for 2 seconds\n",
      "Sleeping for 2 seconds\n",
      "Sleeping for 2 seconds\n"
     ]
    }
   ],
   "source": [
    "from evalgen_experiments.medical.candidate_assertions import ALL_FUNCTIONS\n",
    "\n",
    "res = await execute_candidate_assertions(dataset_name, prompt_template_strings[-1], EXAMPLES, ALL_FUNCTIONS, reply_df=reply_df)\n"
   ]
  },
  {
   "cell_type": "code",
   "execution_count": 26,
   "metadata": {},
   "outputs": [
    {
     "data": {
      "text/html": [
       "<pre style=\"white-space:pre;overflow-x:auto;line-height:normal;font-family:Menlo,'DejaVu Sans Mono',consolas,'Courier New',monospace\">Num candidate functions: <span style=\"color: #008080; text-decoration-color: #008080; font-weight: bold\">20</span>\n",
       "</pre>\n"
      ],
      "text/plain": [
       "Num candidate functions: \u001b[1;36m20\u001b[0m\n"
      ]
     },
     "metadata": {},
     "output_type": "display_data"
    },
    {
     "data": {
      "text/html": [
       "<pre style=\"white-space:pre;overflow-x:auto;line-height:normal;font-family:Menlo,'DejaVu Sans Mono',consolas,'Courier New',monospace\">Num good examples: <span style=\"color: #008080; text-decoration-color: #008080; font-weight: bold\">57</span>\n",
       "</pre>\n"
      ],
      "text/plain": [
       "Num good examples: \u001b[1;36m57\u001b[0m\n"
      ]
     },
     "metadata": {},
     "output_type": "display_data"
    },
    {
     "data": {
      "text/html": [
       "<pre style=\"white-space:pre;overflow-x:auto;line-height:normal;font-family:Menlo,'DejaVu Sans Mono',consolas,'Courier New',monospace\">Num bad examples: <span style=\"color: #008080; text-decoration-color: #008080; font-weight: bold\">27</span>\n",
       "</pre>\n"
      ],
      "text/plain": [
       "Num bad examples: \u001b[1;36m27\u001b[0m\n"
      ]
     },
     "metadata": {},
     "output_type": "display_data"
    }
   ],
   "source": [
    "label_df = pd.DataFrame({\"response\": df[\"Response\"].values, \"label\": df[\"grade\"].values})\n",
    "# Print stats\n",
    "print(f\"Num candidate functions: {len(ALL_FUNCTIONS)}\")\n",
    "print(f\"Num good examples: {len(label_df[label_df['label'] == 1])}\")\n",
    "print(f\"Num bad examples: {len(label_df[label_df['label'] == 0])}\")\n",
    "\n",
    "optimizer_dict = prepare_for_optimizer(res, label_df)"
   ]
  },
  {
   "cell_type": "code",
   "execution_count": 27,
   "metadata": {},
   "outputs": [],
   "source": [
    "# Pickle all the results\n",
    "import inspect\n",
    "\n",
    "path_name = f\"/Users/shreyashankar/Documents/projects/spade-experiments/evalgen_experiments/{dataset_name}/optimizer_input.pkl\"\n",
    "\n",
    "# optimizer_dict[\"K\"] = K\n",
    "optimizer_dict[\"spade_functions\"] = {func.__name__: inspect.getsource(func) for func in ALL_FUNCTIONS}\n",
    "import pickle\n",
    "\n",
    "with open(path_name, \"wb\") as f:\n",
    "    pickle.dump(optimizer_dict, f)"
   ]
  },
  {
   "cell_type": "markdown",
   "metadata": {},
   "source": [
    "## Evaluating Subsumption With High Precision"
   ]
  },
  {
   "cell_type": "code",
   "execution_count": 28,
   "metadata": {},
   "outputs": [
    {
     "name": "stdout",
     "output_type": "stream",
     "text": [
      "Based on the provided functions, we can identify pairs where one function implies the other or where both imply each other due to overlapping checks:\n",
      "\n",
      "1. `assert_response_bullet_list_format` implies `assert_bullet_list_correct_format`\n",
      "   - If `assert_response_bullet_list_format` returns True, it means all lines start with a \"-\", which is a part of what `assert_bullet_list_correct_format` checks for. However, `assert_bullet_list_correct_format` also checks for \": \" in each bullet and that it ends with \".\", which the former does not.\n",
      "\n",
      "2. `assert_response_bullet_key_value_format` ⇔ `assert_bullet_list_correct_format`\n",
      "   - If `assert_response_bullet_key_value_format` returns True, then `assert_bullet_list_correct_format` should too, as both check the format of bullet points with a \"key: value.\" structure. However, note that `assert_response_bullet_key_value_format` doesn't specifically check that each bullet starts with \"- \", suggesting `assert_bullet_list_correct_format` might be more stringent.\n",
      "\n",
      "3. `assert_response_has_required_keys_with_na` ⇔ `assert_inclusion_of_specific_keys`\n",
      "   - If `assert_response_has_required_keys_with_na` returns True, it's checking for required keys and also checking if \"N/A\" is in the response for missing values. This implies that the keys are included; thus, `assert_inclusion_of_specific_keys` should also return True. However, `assert_inclusion_of_specific_keys` does not check for the presence of \"N/A\", meaning it is not a two-way implication. \n",
      "   - If every key is included from `assert_inclusion_of_specific_keys`, it's implied that `assert_response_has_required_keys_with_na` would also return True, assuming \"N/A\" is not a concern in this case.\n",
      "\n",
      "4. `assert_no_pii_in_response` ⇔ `assert_no_pii_present`\n",
      "   - Both functions check for the absence of Personal Identifiable Information (PII), although `assert_no_pii_present` uses an LLM query approach, there is no reason to assume it covers more or less than `assert_no_pii_in_response`.\n",
      "\n",
      "5. `assert_na_usage_for_missing_data` ⇔ `assert_response_has_required_keys_with_na`\n",
      "   - Both functions check that \"N/A\" is used for missing data. The former specifies this for medications and follow-up instructions, while the latter is for any key.\n",
      "\n",
      "6. `assert_na_usage_for_missing_data` ⇔ `assert_explicit_na_if_no_meds_changed`\n",
      "   - If `assert_na_usage_for_missing_data` returns True for the medications part, it means that \"N/A\" is confirmed present when no medications are referenced, which is what `assert_explicit_na_if_no_meds_changed` checks for.\n",
      "\n",
      "7. `assert_na_usage_for_missing_data` ⇔ `assert_explicit_na_if_no_follow_up`\n",
      "   - If `assert_na_usage_for_missing_data` is True for the follow-up instructions part, it implies that \"N/A\" is used appropriately which is the same check that `assert_explicit_na_if_no_follow_up` performs.\n",
      "\n",
      "8. `assert_adherence_to_formal_clinical_tone` ⇔ `assert_neutral_clinical_tone`\n",
      "   - Both functions aim to check the tone of the response, one for it being \"formal and clinical\", and the other for it being \"neutral, professional, and objective\", which are similar aspects of the tone expected in clinical settings.\n",
      "\n",
      "9. `assert_response_under_word_limit` ⇔ `assert_adjusted_word_count`\n",
      "   - While these functions don't exactly imply each other due to different word count limits, they both check for word count adherence, so their check is similar but with different thresholds.\n",
      "\n",
      "Identifying pairs where one function implies the other can be a complex task due to nuances in their implementation. If a check in one function is part of another function's checks and the rest of the conditions are assumed to be met, it can be said that one function implies the other. However, where certain specifics are examined in one function and not in the other, it results in a single direction implication.\n",
      "```json\n",
      "[\n",
      "    (\"assert_response_bullet_list_format\", \"assert_bullet_list_correct_format\"),\n",
      "    (\"assert_response_bullet_key_value_format\", \"assert_bullet_list_correct_format\"),\n",
      "    (\"assert_bullet_list_correct_format\", \"assert_response_bullet_key_value_format\"),\n",
      "    (\"assert_response_has_required_keys_with_na\", \"assert_inclusion_of_specific_keys\"),\n",
      "    (\"assert_inclusion_of_specific_keys\", \"assert_response_has_required_keys_with_na\"),\n",
      "    (\"assert_no_pii_in_response\", \"assert_no_pii_present\"),\n",
      "    (\"assert_no_pii_present\", \"assert_no_pii_in_response\"),\n",
      "    (\"assert_na_usage_for_missing_data\", \"assert_explicit_na_if_no_meds_changed\"),\n",
      "    (\"assert_na_usage_for_missing_data\", \"assert_explicit_na_if_no_follow_up\"),\n",
      "    (\"assert_explicit_na_if_no_meds_changed\", \"assert_na_usage_for_missing_data\"),\n",
      "    (\"assert_explicit_na_if_no_follow_up\", \"assert_na_usage_for_missing_data\"),\n",
      "    (\"assert_adherence_to_formal_clinical_tone\", \"assert_neutral_clinical_tone\"),\n",
      "    (\"assert_neutral_clinical_tone\", \"assert_adherence_to_formal_clinical_tone\")\n",
      "]\n",
      "```\n",
      "[\n",
      "    (\"assert_response_bullet_list_format\", \"assert_bullet_list_correct_format\"),\n",
      "    (\"assert_response_bullet_key_value_format\", \"assert_bullet_list_correct_format\"),\n",
      "    (\"assert_bullet_list_correct_format\", \"assert_response_bullet_key_value_format\"),\n",
      "    (\"assert_response_has_required_keys_with_na\", \"assert_inclusion_of_specific_keys\"),\n",
      "    (\"assert_inclusion_of_specific_keys\", \"assert_response_has_required_keys_with_na\"),\n",
      "    (\"assert_no_pii_in_response\", \"assert_no_pii_present\"),\n",
      "    (\"assert_no_pii_present\", \"assert_no_pii_in_response\"),\n",
      "    (\"assert_na_usage_for_missing_data\", \"assert_explicit_na_if_no_meds_changed\"),\n",
      "    (\"assert_na_usage_for_missing_data\", \"assert_explicit_na_if_no_follow_up\"),\n",
      "    (\"assert_explicit_na_if_no_meds_changed\", \"assert_na_usage_for_missing_data\"),\n",
      "    (\"assert_explicit_na_if_no_follow_up\", \"assert_na_usage_for_missing_data\"),\n",
      "    (\"assert_adherence_to_formal_clinical_tone\", \"assert_neutral_clinical_tone\"),\n",
      "    (\"assert_neutral_clinical_tone\", \"assert_adherence_to_formal_clinical_tone\")\n",
      "]\n",
      "Using transitivity based on assert_na_usage_for_missing_data\n"
     ]
    },
    {
     "data": {
      "text/plain": [
       "0.035"
      ]
     },
     "execution_count": 28,
     "metadata": {},
     "output_type": "execute_result"
    }
   ],
   "source": [
    "from spade.check_subsumes import identify_subsumption_pairs\n",
    "from evalgen_experiments.medical.candidate_assertions import ALL_FUNCTIONS\n",
    "import pickle\n",
    "\n",
    "dataset_name = \"medical\"\n",
    "path_name = f\"/Users/shreyashankar/Documents/projects/spade-experiments/evalgen_experiments/{dataset_name}/optimizer_input.pkl\"\n",
    "with open(path_name, \"rb\") as f:\n",
    "    optimizer_dict = pickle.load(f)\n",
    "K_and_pretty_df = await identify_subsumption_pairs(optimizer_dict[\"M\"], ALL_FUNCTIONS, optimizer_dict[\"func_order\"])\n",
    "\n",
    "K_and_pretty_df[\"K\"].sum() / (K_and_pretty_df[\"K\"].shape[0] * K_and_pretty_df[\"K\"].shape[1])"
   ]
  },
  {
   "cell_type": "code",
   "execution_count": 47,
   "metadata": {},
   "outputs": [
    {
     "name": "stdout",
     "output_type": "stream",
     "text": [
      "Welcome to the CBC MILP Solver \n",
      "Version: 2.10.3 \n",
      "Build Date: Dec 15 2019 \n",
      "\n",
      "command line - /Users/shreyashankar/miniforge3/envs/promptdelta/lib/python3.10/site-packages/pulp/solverdir/cbc/osx/64/cbc /var/folders/nq/ldkhrrws0xb9whw7b6rpzhc00000gn/T/057c3329c3aa416fb4b7e353ef344d84-pulp.mps timeMode elapsed branch printingOptions all solution /var/folders/nq/ldkhrrws0xb9whw7b6rpzhc00000gn/T/057c3329c3aa416fb4b7e353ef344d84-pulp.sol (default strategy 1)\n",
      "At line 2 NAME          MODEL\n",
      "At line 3 ROWS\n",
      "At line 3394 COLUMNS\n",
      "At line 12934 RHS\n",
      "At line 16324 BOUNDS\n",
      "At line 18136 ENDATA\n",
      "Problem MODEL has 3389 rows, 1811 columns and 5897 elements\n",
      "Coin0008I MODEL read with 0 errors\n",
      "Option for timeMode changed from cpu to elapsed\n",
      "Continuous objective value is 0.2 - 0.00 seconds\n",
      "Cgl0002I 934 variables fixed\n",
      "Cgl0003I 31 fixed, 0 tightened bounds, 36 strengthened rows, 0 substitutions\n",
      "Cgl0004I processed model has 10 rows, 13 columns (13 integer (13 of which binary)) and 32 elements\n",
      "Cutoff increment increased from 1e-05 to 0.9999\n",
      "Cbc0038I Initial state - 3 integers unsatisfied sum - 0.6\n",
      "Cbc0038I Pass   1: suminf.    0.60000 (3) obj. 1.2 iterations 3\n",
      "Cbc0038I Solution found of 2\n",
      "Cbc0038I Before mini branch and bound, 7 integers at bound fixed and 0 continuous\n",
      "Cbc0038I Mini branch and bound did not improve solution (0.03 seconds)\n",
      "Cbc0038I After 0.03 seconds - Feasibility pump exiting with objective of 2 - took 0.00 seconds\n",
      "Cbc0012I Integer solution of 2 found by feasibility pump after 0 iterations and 0 nodes (0.03 seconds)\n",
      "Cbc0001I Search completed - best objective 2, took 0 iterations and 0 nodes (0.03 seconds)\n",
      "Cbc0035I Maximum depth 0, 3 variables fixed on reduced cost\n",
      "Cuts at root node changed objective from 1.2 to 1.2\n",
      "Probing was tried 0 times and created 0 cuts of which 0 were active after adding rounds of cuts (0.000 seconds)\n",
      "Gomory was tried 0 times and created 0 cuts of which 0 were active after adding rounds of cuts (0.000 seconds)\n",
      "Knapsack was tried 0 times and created 0 cuts of which 0 were active after adding rounds of cuts (0.000 seconds)\n",
      "Clique was tried 0 times and created 0 cuts of which 0 were active after adding rounds of cuts (0.000 seconds)\n",
      "MixedIntegerRounding2 was tried 0 times and created 0 cuts of which 0 were active after adding rounds of cuts (0.000 seconds)\n",
      "FlowCover was tried 0 times and created 0 cuts of which 0 were active after adding rounds of cuts (0.000 seconds)\n",
      "TwoMirCuts was tried 0 times and created 0 cuts of which 0 were active after adding rounds of cuts (0.000 seconds)\n",
      "ZeroHalf was tried 0 times and created 0 cuts of which 0 were active after adding rounds of cuts (0.000 seconds)\n",
      "\n",
      "Result - Optimal solution found\n",
      "\n",
      "Objective value:                2.00000000\n",
      "Enumerated nodes:               0\n",
      "Total iterations:               0\n",
      "Time (CPU seconds):             0.02\n",
      "Time (Wallclock seconds):       0.04\n",
      "\n",
      "Option for printingOptions changed from normal to all\n",
      "Total time (CPU seconds):       0.03   (Wallclock seconds):       0.05\n",
      "\n"
     ]
    },
    {
     "data": {
      "text/html": [
       "<pre style=\"white-space:pre;overflow-x:auto;line-height:normal;font-family:Menlo,'DejaVu Sans Mono',consolas,'Courier New',monospace\">Solution Found:\n",
       "</pre>\n"
      ],
      "text/plain": [
       "Solution Found:\n"
      ]
     },
     "metadata": {},
     "output_type": "display_data"
    },
    {
     "data": {
      "text/html": [
       "<pre style=\"white-space:pre;overflow-x:auto;line-height:normal;font-family:Menlo,'DejaVu Sans Mono',consolas,'Courier New',monospace\">Selected Functions: <span style=\"font-weight: bold\">[</span><span style=\"color: #008080; text-decoration-color: #008080; font-weight: bold\">11</span>, <span style=\"color: #008080; text-decoration-color: #008080; font-weight: bold\">19</span><span style=\"font-weight: bold\">]</span>\n",
       "</pre>\n"
      ],
      "text/plain": [
       "Selected Functions: \u001b[1m[\u001b[0m\u001b[1;36m11\u001b[0m, \u001b[1;36m19\u001b[0m\u001b[1m]\u001b[0m\n"
      ]
     },
     "metadata": {},
     "output_type": "display_data"
    },
    {
     "name": "stdout",
     "output_type": "stream",
     "text": [
      "Welcome to the CBC MILP Solver \n",
      "Version: 2.10.3 \n",
      "Build Date: Dec 15 2019 \n",
      "\n",
      "command line - /Users/shreyashankar/miniforge3/envs/promptdelta/lib/python3.10/site-packages/pulp/solverdir/cbc/osx/64/cbc /var/folders/nq/ldkhrrws0xb9whw7b6rpzhc00000gn/T/fe3119646868427d842b8c1bef25d377-pulp.mps timeMode elapsed branch printingOptions all solution /var/folders/nq/ldkhrrws0xb9whw7b6rpzhc00000gn/T/fe3119646868427d842b8c1bef25d377-pulp.sol (default strategy 1)\n",
      "At line 2 NAME          MODEL\n",
      "At line 3 ROWS\n",
      "At line 4254 COLUMNS\n",
      "At line 16388 RHS\n",
      "At line 20638 BOUNDS\n",
      "At line 22890 ENDATA\n",
      "Problem MODEL has 4249 rows, 2251 columns and 7611 elements\n",
      "Coin0008I MODEL read with 0 errors\n",
      "Option for timeMode changed from cpu to elapsed\n",
      "Continuous objective value is 11.2282 - 0.01 seconds\n",
      "Cgl0002I 1329 variables fixed\n",
      "Cgl0003I 36 fixed, 0 tightened bounds, 0 strengthened rows, 5 substitutions\n",
      "Cgl0003I 0 fixed, 0 tightened bounds, 3 strengthened rows, 4 substitutions\n",
      "Cgl0003I 0 fixed, 0 tightened bounds, 4 strengthened rows, 0 substitutions\n",
      "Cgl0003I 0 fixed, 0 tightened bounds, 1 strengthened rows, 0 substitutions\n",
      "Cgl0004I processed model has 36 rows, 24 columns (24 integer (24 of which binary)) and 99 elements\n",
      "Cutoff increment increased from 1e-05 to 0.9999\n",
      "Cbc0038I Initial state - 1 integers unsatisfied sum - 0.27\n",
      "Cbc0038I Solution found of 12\n",
      "Cbc0038I Before mini branch and bound, 23 integers at bound fixed and 0 continuous\n",
      "Cbc0038I Mini branch and bound did not improve solution (0.02 seconds)\n",
      "Cbc0038I After 0.02 seconds - Feasibility pump exiting with objective of 12 - took 0.00 seconds\n",
      "Cbc0012I Integer solution of 12 found by feasibility pump after 0 iterations and 0 nodes (0.02 seconds)\n",
      "Cbc0001I Search completed - best objective 12, took 0 iterations and 0 nodes (0.02 seconds)\n",
      "Cbc0035I Maximum depth 0, 0 variables fixed on reduced cost\n",
      "Cuts at root node changed objective from 12 to 12\n",
      "Probing was tried 0 times and created 0 cuts of which 0 were active after adding rounds of cuts (0.000 seconds)\n",
      "Gomory was tried 0 times and created 0 cuts of which 0 were active after adding rounds of cuts (0.000 seconds)\n",
      "Knapsack was tried 0 times and created 0 cuts of which 0 were active after adding rounds of cuts (0.000 seconds)\n",
      "Clique was tried 0 times and created 0 cuts of which 0 were active after adding rounds of cuts (0.000 seconds)\n",
      "MixedIntegerRounding2 was tried 0 times and created 0 cuts of which 0 were active after adding rounds of cuts (0.000 seconds)\n",
      "FlowCover was tried 0 times and created 0 cuts of which 0 were active after adding rounds of cuts (0.000 seconds)\n",
      "TwoMirCuts was tried 0 times and created 0 cuts of which 0 were active after adding rounds of cuts (0.000 seconds)\n",
      "ZeroHalf was tried 0 times and created 0 cuts of which 0 were active after adding rounds of cuts (0.000 seconds)\n",
      "\n",
      "Result - Optimal solution found\n",
      "\n",
      "Objective value:                12.00000000\n",
      "Enumerated nodes:               0\n",
      "Total iterations:               0\n",
      "Time (CPU seconds):             0.02\n",
      "Time (Wallclock seconds):       0.03\n",
      "\n",
      "Option for printingOptions changed from normal to all\n",
      "Total time (CPU seconds):       0.03   (Wallclock seconds):       0.04\n",
      "\n"
     ]
    },
    {
     "name": "stderr",
     "output_type": "stream",
     "text": [
      "/Users/shreyashankar/miniforge3/envs/promptdelta/lib/python3.10/site-packages/pulp/pulp.py:1704: UserWarning: Overwriting previously set objective.\n",
      "  warnings.warn(\"Overwriting previously set objective.\")\n"
     ]
    },
    {
     "data": {
      "text/html": [
       "<pre style=\"white-space:pre;overflow-x:auto;line-height:normal;font-family:Menlo,'DejaVu Sans Mono',consolas,'Courier New',monospace\">Solution Found:\n",
       "</pre>\n"
      ],
      "text/plain": [
       "Solution Found:\n"
      ]
     },
     "metadata": {},
     "output_type": "display_data"
    },
    {
     "data": {
      "text/html": [
       "<pre style=\"white-space:pre;overflow-x:auto;line-height:normal;font-family:Menlo,'DejaVu Sans Mono',consolas,'Courier New',monospace\">Selected Functions: <span style=\"font-weight: bold\">[</span><span style=\"color: #008080; text-decoration-color: #008080; font-weight: bold\">8</span>, <span style=\"color: #008080; text-decoration-color: #008080; font-weight: bold\">11</span>, <span style=\"color: #008080; text-decoration-color: #008080; font-weight: bold\">12</span>, <span style=\"color: #008080; text-decoration-color: #008080; font-weight: bold\">16</span>, <span style=\"color: #008080; text-decoration-color: #008080; font-weight: bold\">19</span><span style=\"font-weight: bold\">]</span>\n",
       "</pre>\n"
      ],
      "text/plain": [
       "Selected Functions: \u001b[1m[\u001b[0m\u001b[1;36m8\u001b[0m, \u001b[1;36m11\u001b[0m, \u001b[1;36m12\u001b[0m, \u001b[1;36m16\u001b[0m, \u001b[1;36m19\u001b[0m\u001b[1m]\u001b[0m\n"
      ]
     },
     "metadata": {},
     "output_type": "display_data"
    },
    {
     "data": {
      "text/html": [
       "<pre style=\"white-space:pre;overflow-x:auto;line-height:normal;font-family:Menlo,'DejaVu Sans Mono',consolas,'Courier New',monospace\">       method       ffr  example failure coverage  frac_functions_selected  \\\n",
       "<span style=\"color: #008080; text-decoration-color: #008080; font-weight: bold\">0</span>  spade_base  <span style=\"color: #008080; text-decoration-color: #008080; font-weight: bold\">0.140351</span>                  <span style=\"color: #008080; text-decoration-color: #008080; font-weight: bold\">0.333333</span>                     <span style=\"color: #008080; text-decoration-color: #008080; font-weight: bold\">0.35</span>   \n",
       "<span style=\"color: #008080; text-decoration-color: #008080; font-weight: bold\">1</span>   spade_cov  <span style=\"color: #008080; text-decoration-color: #008080; font-weight: bold\">0.087719</span>                  <span style=\"color: #008080; text-decoration-color: #008080; font-weight: bold\">0.259259</span>                     <span style=\"color: #008080; text-decoration-color: #008080; font-weight: bold\">0.10</span>   \n",
       "<span style=\"color: #008080; text-decoration-color: #008080; font-weight: bold\">2</span>   spade_sub  <span style=\"color: #008080; text-decoration-color: #008080; font-weight: bold\">0.105263</span>                  <span style=\"color: #008080; text-decoration-color: #008080; font-weight: bold\">0.333333</span>                     <span style=\"color: #008080; text-decoration-color: #008080; font-weight: bold\">0.25</span>   \n",
       "\n",
       "   frac_non_subsumed_excluded_functions  \n",
       "<span style=\"color: #008080; text-decoration-color: #008080; font-weight: bold\">0</span>                                   <span style=\"color: #008080; text-decoration-color: #008080; font-weight: bold\">0.0</span>  \n",
       "<span style=\"color: #008080; text-decoration-color: #008080; font-weight: bold\">1</span>                                   <span style=\"color: #008080; text-decoration-color: #008080; font-weight: bold\">0.2</span>  \n",
       "<span style=\"color: #008080; text-decoration-color: #008080; font-weight: bold\">2</span>                                   <span style=\"color: #008080; text-decoration-color: #008080; font-weight: bold\">0.0</span>  \n",
       "</pre>\n"
      ],
      "text/plain": [
       "       method       ffr  example failure coverage  frac_functions_selected  \\\n",
       "\u001b[1;36m0\u001b[0m  spade_base  \u001b[1;36m0.140351\u001b[0m                  \u001b[1;36m0.333333\u001b[0m                     \u001b[1;36m0.35\u001b[0m   \n",
       "\u001b[1;36m1\u001b[0m   spade_cov  \u001b[1;36m0.087719\u001b[0m                  \u001b[1;36m0.259259\u001b[0m                     \u001b[1;36m0.10\u001b[0m   \n",
       "\u001b[1;36m2\u001b[0m   spade_sub  \u001b[1;36m0.105263\u001b[0m                  \u001b[1;36m0.333333\u001b[0m                     \u001b[1;36m0.25\u001b[0m   \n",
       "\n",
       "   frac_non_subsumed_excluded_functions  \n",
       "\u001b[1;36m0\u001b[0m                                   \u001b[1;36m0.0\u001b[0m  \n",
       "\u001b[1;36m1\u001b[0m                                   \u001b[1;36m0.2\u001b[0m  \n",
       "\u001b[1;36m2\u001b[0m                                   \u001b[1;36m0.0\u001b[0m  \n"
      ]
     },
     "metadata": {},
     "output_type": "display_data"
    }
   ],
   "source": [
    "# Pickle all the results\n",
    "import inspect\n",
    "from spade.optimizer import select_functions\n",
    "\n",
    "path_name = f\"/Users/shreyashankar/Documents/projects/spade-experiments/evalgen_experiments/{dataset_name}/optimizer_input.pkl\"\n",
    "\n",
    "optimizer_dict[\"K\"] = K_and_pretty_df[\"K\"]\n",
    "optimizer_dict[\"spade_functions\"] = {func.__name__: inspect.getsource(func) for func in ALL_FUNCTIONS}\n",
    "import pickle\n",
    "\n",
    "with open(path_name, \"wb\") as f:\n",
    "    pickle.dump(optimizer_dict, f)\n",
    "    \n",
    "# Dump subsumption df\n",
    "K_and_pretty_df[\"human_readable_results\"].to_csv(f\"/Users/shreyashankar/Documents/projects/spade-experiments/evalgen_experiments/{dataset_name}/subsumption_results.csv\", index=False)\n",
    "\n",
    "# Solve the optimization problem\n",
    "optimizer_res = select_functions(path_name, tau=0.11, alpha=0.2)\n",
    "\n",
    "# Turn into DF\n",
    "import pandas as pd\n",
    "\n",
    "optimizer_res_df = []\n",
    "for method in [\"spade_base\", \"spade_cov\", \"spade_sub\"]:\n",
    "    optimizer_res_df.append({\"method\": method, \"ffr\": optimizer_res[method][\"ffr\"], \"example failure coverage\": optimizer_res[method][\"coverage\"], \"frac_functions_selected\": optimizer_res[method][\"frac_functions_selected\"], \"frac_non_subsumed_excluded_functions\": optimizer_res[method][\"frac_non_subsumed_excluded_functions\"]})\n",
    "    \n",
    "optimizer_res_df = pd.DataFrame(optimizer_res_df)\n",
    "print(optimizer_res_df)\n",
    "\n",
    "# Pickle the results\n",
    "# import pickle\n",
    "# with open(f\"/Users/shreyashankar/Documents/projects/promptdelta/paper_experiments/{dataset_name}/optimizer_results.pkl\", \"wb\") as f:\n",
    "#     pickle.dump(optimizer_res, f)"
   ]
  },
  {
   "cell_type": "code",
   "execution_count": 48,
   "metadata": {},
   "outputs": [
    {
     "data": {
      "text/html": [
       "<pre style=\"white-space:pre;overflow-x:auto;line-height:normal;font-family:Menlo,'DejaVu Sans Mono',consolas,'Courier New',monospace\">spade_base\n",
       "</pre>\n"
      ],
      "text/plain": [
       "spade_base\n"
      ]
     },
     "metadata": {},
     "output_type": "display_data"
    },
    {
     "data": {
      "text/html": [
       "<pre style=\"white-space:pre;overflow-x:auto;line-height:normal;font-family:Menlo,'DejaVu Sans Mono',consolas,'Courier New',monospace\"><span style=\"font-weight: bold\">[</span>\n",
       "    <span style=\"color: #008000; text-decoration-color: #008000\">'assert_adherence_to_formal_clinical_tone'</span>,\n",
       "    <span style=\"color: #008000; text-decoration-color: #008000\">'assert_explicit_na_if_no_follow_up'</span>,\n",
       "    <span style=\"color: #008000; text-decoration-color: #008000\">'assert_explicit_na_if_no_meds_changed'</span>,\n",
       "    <span style=\"color: #008000; text-decoration-color: #008000\">'assert_na_usage_for_missing_data'</span>,\n",
       "    <span style=\"color: #008000; text-decoration-color: #008000\">'assert_neutral_clinical_tone'</span>,\n",
       "    <span style=\"color: #008000; text-decoration-color: #008000\">'assert_response_bullet_list_format'</span>,\n",
       "    <span style=\"color: #008000; text-decoration-color: #008000\">'assert_use_of_the_patient_instead_of_name'</span>\n",
       "<span style=\"font-weight: bold\">]</span>\n",
       "</pre>\n"
      ],
      "text/plain": [
       "\u001b[1m[\u001b[0m\n",
       "    \u001b[32m'assert_adherence_to_formal_clinical_tone'\u001b[0m,\n",
       "    \u001b[32m'assert_explicit_na_if_no_follow_up'\u001b[0m,\n",
       "    \u001b[32m'assert_explicit_na_if_no_meds_changed'\u001b[0m,\n",
       "    \u001b[32m'assert_na_usage_for_missing_data'\u001b[0m,\n",
       "    \u001b[32m'assert_neutral_clinical_tone'\u001b[0m,\n",
       "    \u001b[32m'assert_response_bullet_list_format'\u001b[0m,\n",
       "    \u001b[32m'assert_use_of_the_patient_instead_of_name'\u001b[0m\n",
       "\u001b[1m]\u001b[0m\n"
      ]
     },
     "metadata": {},
     "output_type": "display_data"
    },
    {
     "data": {
      "text/html": [
       "<pre style=\"white-space:pre;overflow-x:auto;line-height:normal;font-family:Menlo,'DejaVu Sans Mono',consolas,'Courier New',monospace\">async def <span style=\"color: #800080; text-decoration-color: #800080; font-weight: bold\">assert_adherence_to_formal_clinical_tone</span><span style=\"font-weight: bold\">(</span>response: str<span style=\"font-weight: bold\">)</span> -&gt; bool:\n",
       "    <span style=\"color: #008000; text-decoration-color: #008000\">\"\"</span>\"\n",
       "    Checks if the response maintains a formal and clinical tone appropriate for medical record analysis.\n",
       "    <span style=\"color: #008000; text-decoration-color: #008000\">\"\"</span>\"\n",
       "    question = <span style=\"color: #008000; text-decoration-color: #008000\">\"Does the response maintain a formal and clinical tone appropriate for medical record analysis?\"</span>\n",
       "    return await <span style=\"color: #800080; text-decoration-color: #800080; font-weight: bold\">ask_llm</span><span style=\"font-weight: bold\">(</span>response, question<span style=\"font-weight: bold\">)</span>\n",
       "\n",
       "</pre>\n"
      ],
      "text/plain": [
       "async def \u001b[1;35massert_adherence_to_formal_clinical_tone\u001b[0m\u001b[1m(\u001b[0mresponse: str\u001b[1m)\u001b[0m -> bool:\n",
       "    \u001b[32m\"\"\u001b[0m\"\n",
       "    Checks if the response maintains a formal and clinical tone appropriate for medical record analysis.\n",
       "    \u001b[32m\"\"\u001b[0m\"\n",
       "    question = \u001b[32m\"Does the response maintain a formal and clinical tone appropriate for medical record analysis?\"\u001b[0m\n",
       "    return await \u001b[1;35mask_llm\u001b[0m\u001b[1m(\u001b[0mresponse, question\u001b[1m)\u001b[0m\n",
       "\n"
      ]
     },
     "metadata": {},
     "output_type": "display_data"
    },
    {
     "data": {
      "text/html": [
       "<pre style=\"white-space:pre;overflow-x:auto;line-height:normal;font-family:Menlo,'DejaVu Sans Mono',consolas,'Courier New',monospace\">async def <span style=\"color: #800080; text-decoration-color: #800080; font-weight: bold\">assert_explicit_na_if_no_follow_up</span><span style=\"font-weight: bold\">(</span>response: str<span style=\"font-weight: bold\">)</span> -&gt; bool:\n",
       "    <span style=\"color: #008000; text-decoration-color: #008000\">\"\"</span>\"\n",
       "    Checks if the response explicitly states <span style=\"color: #008000; text-decoration-color: #008000\">'N/A'</span> for follow-up instructions when no follow-up details are \n",
       "provided.\n",
       "    <span style=\"color: #008000; text-decoration-color: #008000\">\"\"</span>\"\n",
       "    if <span style=\"color: #008000; text-decoration-color: #008000\">\"follow-up instructions\"</span> not in <span style=\"color: #800080; text-decoration-color: #800080; font-weight: bold\">response.lower</span><span style=\"font-weight: bold\">()</span>:\n",
       "        return <span style=\"color: #008000; text-decoration-color: #008000\">\"n/a\"</span> in <span style=\"color: #800080; text-decoration-color: #800080; font-weight: bold\">response.lower</span><span style=\"font-weight: bold\">()</span>\n",
       "    return <span style=\"color: #00ff00; text-decoration-color: #00ff00; font-style: italic\">True</span>  # Should return true if the segment is present, to not be consequential\n",
       "\n",
       "</pre>\n"
      ],
      "text/plain": [
       "async def \u001b[1;35massert_explicit_na_if_no_follow_up\u001b[0m\u001b[1m(\u001b[0mresponse: str\u001b[1m)\u001b[0m -> bool:\n",
       "    \u001b[32m\"\"\u001b[0m\"\n",
       "    Checks if the response explicitly states \u001b[32m'N/A'\u001b[0m for follow-up instructions when no follow-up details are \n",
       "provided.\n",
       "    \u001b[32m\"\"\u001b[0m\"\n",
       "    if \u001b[32m\"follow-up instructions\"\u001b[0m not in \u001b[1;35mresponse.lower\u001b[0m\u001b[1m(\u001b[0m\u001b[1m)\u001b[0m:\n",
       "        return \u001b[32m\"n/a\"\u001b[0m in \u001b[1;35mresponse.lower\u001b[0m\u001b[1m(\u001b[0m\u001b[1m)\u001b[0m\n",
       "    return \u001b[3;92mTrue\u001b[0m  # Should return true if the segment is present, to not be consequential\n",
       "\n"
      ]
     },
     "metadata": {},
     "output_type": "display_data"
    },
    {
     "data": {
      "text/html": [
       "<pre style=\"white-space:pre;overflow-x:auto;line-height:normal;font-family:Menlo,'DejaVu Sans Mono',consolas,'Courier New',monospace\">async def <span style=\"color: #800080; text-decoration-color: #800080; font-weight: bold\">assert_explicit_na_if_no_meds_changed</span><span style=\"font-weight: bold\">(</span>response: str<span style=\"font-weight: bold\">)</span> -&gt; bool:\n",
       "    <span style=\"color: #008000; text-decoration-color: #008000\">\"\"</span>\"\n",
       "    Checks if the response explicitly states <span style=\"color: #008000; text-decoration-color: #008000\">'N/A'</span> for dosages when no new medications are prescribed or changed.\n",
       "    <span style=\"color: #008000; text-decoration-color: #008000\">\"\"</span>\"\n",
       "    if <span style=\"color: #008000; text-decoration-color: #008000\">\"new medications prescribed or changed\"</span> not in <span style=\"color: #800080; text-decoration-color: #800080; font-weight: bold\">response.lower</span><span style=\"font-weight: bold\">()</span>:\n",
       "        return <span style=\"color: #008000; text-decoration-color: #008000\">\"n/a\"</span> in <span style=\"color: #800080; text-decoration-color: #800080; font-weight: bold\">response.lower</span><span style=\"font-weight: bold\">()</span>\n",
       "    return <span style=\"color: #00ff00; text-decoration-color: #00ff00; font-style: italic\">True</span>  # Should return true if the segment is present, to not be consequential\n",
       "\n",
       "</pre>\n"
      ],
      "text/plain": [
       "async def \u001b[1;35massert_explicit_na_if_no_meds_changed\u001b[0m\u001b[1m(\u001b[0mresponse: str\u001b[1m)\u001b[0m -> bool:\n",
       "    \u001b[32m\"\"\u001b[0m\"\n",
       "    Checks if the response explicitly states \u001b[32m'N/A'\u001b[0m for dosages when no new medications are prescribed or changed.\n",
       "    \u001b[32m\"\"\u001b[0m\"\n",
       "    if \u001b[32m\"new medications prescribed or changed\"\u001b[0m not in \u001b[1;35mresponse.lower\u001b[0m\u001b[1m(\u001b[0m\u001b[1m)\u001b[0m:\n",
       "        return \u001b[32m\"n/a\"\u001b[0m in \u001b[1;35mresponse.lower\u001b[0m\u001b[1m(\u001b[0m\u001b[1m)\u001b[0m\n",
       "    return \u001b[3;92mTrue\u001b[0m  # Should return true if the segment is present, to not be consequential\n",
       "\n"
      ]
     },
     "metadata": {},
     "output_type": "display_data"
    },
    {
     "data": {
      "text/html": [
       "<pre style=\"white-space:pre;overflow-x:auto;line-height:normal;font-family:Menlo,'DejaVu Sans Mono',consolas,'Courier New',monospace\">async def <span style=\"color: #800080; text-decoration-color: #800080; font-weight: bold\">assert_na_usage_for_missing_data</span><span style=\"font-weight: bold\">(</span>response: str<span style=\"font-weight: bold\">)</span> -&gt; bool:\n",
       "    <span style=\"color: #008000; text-decoration-color: #008000\">\"\"</span>\"\n",
       "    Checks if <span style=\"color: #008000; text-decoration-color: #008000\">'N/A'</span> is used appropriately for data points that are not available.\n",
       "    <span style=\"color: #008000; text-decoration-color: #008000\">\"\"</span>\"\n",
       "    response = <span style=\"color: #800080; text-decoration-color: #800080; font-weight: bold\">response.lower</span><span style=\"font-weight: bold\">()</span>\n",
       "    is_meds_present = <span style=\"color: #008000; text-decoration-color: #008000\">\"new medications prescribed or changed\"</span> in response\n",
       "    is_followup_present = <span style=\"color: #008000; text-decoration-color: #008000\">\"follow-up instructions\"</span> in response\n",
       "\n",
       "    meds_index = <span style=\"color: #800080; text-decoration-color: #800080; font-weight: bold\">response.find</span><span style=\"font-weight: bold\">(</span><span style=\"color: #008000; text-decoration-color: #008000\">\"new medications prescribed or changed\"</span><span style=\"font-weight: bold\">)</span>\n",
       "    followup_index = <span style=\"color: #800080; text-decoration-color: #800080; font-weight: bold\">response.find</span><span style=\"font-weight: bold\">(</span><span style=\"color: #008000; text-decoration-color: #008000\">\"follow-up instructions\"</span><span style=\"font-weight: bold\">)</span>\n",
       "\n",
       "    check_meds = <span style=\"font-weight: bold\">(</span>\n",
       "        <span style=\"color: #008000; text-decoration-color: #008000\">\"n/a\"</span> in response\n",
       "        if not is_meds_present\n",
       "        else <span style=\"color: #00ff00; text-decoration-color: #00ff00; font-style: italic\">True</span>\n",
       "    <span style=\"font-weight: bold\">)</span>\n",
       "    check_followup = <span style=\"font-weight: bold\">(</span>\n",
       "        <span style=\"color: #008000; text-decoration-color: #008000\">\"n/a\"</span> in response\n",
       "        if not is_followup_present\n",
       "        else <span style=\"color: #00ff00; text-decoration-color: #00ff00; font-style: italic\">True</span>\n",
       "    <span style=\"font-weight: bold\">)</span>\n",
       "\n",
       "    return check_meds and check_followup\n",
       "\n",
       "</pre>\n"
      ],
      "text/plain": [
       "async def \u001b[1;35massert_na_usage_for_missing_data\u001b[0m\u001b[1m(\u001b[0mresponse: str\u001b[1m)\u001b[0m -> bool:\n",
       "    \u001b[32m\"\"\u001b[0m\"\n",
       "    Checks if \u001b[32m'N/A'\u001b[0m is used appropriately for data points that are not available.\n",
       "    \u001b[32m\"\"\u001b[0m\"\n",
       "    response = \u001b[1;35mresponse.lower\u001b[0m\u001b[1m(\u001b[0m\u001b[1m)\u001b[0m\n",
       "    is_meds_present = \u001b[32m\"new medications prescribed or changed\"\u001b[0m in response\n",
       "    is_followup_present = \u001b[32m\"follow-up instructions\"\u001b[0m in response\n",
       "\n",
       "    meds_index = \u001b[1;35mresponse.find\u001b[0m\u001b[1m(\u001b[0m\u001b[32m\"new medications prescribed or changed\"\u001b[0m\u001b[1m)\u001b[0m\n",
       "    followup_index = \u001b[1;35mresponse.find\u001b[0m\u001b[1m(\u001b[0m\u001b[32m\"follow-up instructions\"\u001b[0m\u001b[1m)\u001b[0m\n",
       "\n",
       "    check_meds = \u001b[1m(\u001b[0m\n",
       "        \u001b[32m\"n/a\"\u001b[0m in response\n",
       "        if not is_meds_present\n",
       "        else \u001b[3;92mTrue\u001b[0m\n",
       "    \u001b[1m)\u001b[0m\n",
       "    check_followup = \u001b[1m(\u001b[0m\n",
       "        \u001b[32m\"n/a\"\u001b[0m in response\n",
       "        if not is_followup_present\n",
       "        else \u001b[3;92mTrue\u001b[0m\n",
       "    \u001b[1m)\u001b[0m\n",
       "\n",
       "    return check_meds and check_followup\n",
       "\n"
      ]
     },
     "metadata": {},
     "output_type": "display_data"
    },
    {
     "data": {
      "text/html": [
       "<pre style=\"white-space:pre;overflow-x:auto;line-height:normal;font-family:Menlo,'DejaVu Sans Mono',consolas,'Courier New',monospace\">async def <span style=\"color: #800080; text-decoration-color: #800080; font-weight: bold\">assert_neutral_clinical_tone</span><span style=\"font-weight: bold\">(</span>response: str<span style=\"font-weight: bold\">)</span> -&gt; bool:\n",
       "    <span style=\"color: #008000; text-decoration-color: #008000\">\"\"</span>\"\n",
       "    Determines if the tone of the response is neutral, professional, and objective.\n",
       "    <span style=\"color: #008000; text-decoration-color: #008000\">\"\"</span>\"\n",
       "    question = <span style=\"color: #008000; text-decoration-color: #008000\">\"Is the tone of the response neutral, professional, and objective?\"</span>\n",
       "    return await <span style=\"color: #800080; text-decoration-color: #800080; font-weight: bold\">ask_llm</span><span style=\"font-weight: bold\">(</span>response, question<span style=\"font-weight: bold\">)</span>\n",
       "\n",
       "</pre>\n"
      ],
      "text/plain": [
       "async def \u001b[1;35massert_neutral_clinical_tone\u001b[0m\u001b[1m(\u001b[0mresponse: str\u001b[1m)\u001b[0m -> bool:\n",
       "    \u001b[32m\"\"\u001b[0m\"\n",
       "    Determines if the tone of the response is neutral, professional, and objective.\n",
       "    \u001b[32m\"\"\u001b[0m\"\n",
       "    question = \u001b[32m\"Is the tone of the response neutral, professional, and objective?\"\u001b[0m\n",
       "    return await \u001b[1;35mask_llm\u001b[0m\u001b[1m(\u001b[0mresponse, question\u001b[1m)\u001b[0m\n",
       "\n"
      ]
     },
     "metadata": {},
     "output_type": "display_data"
    },
    {
     "data": {
      "text/html": [
       "<pre style=\"white-space:pre;overflow-x:auto;line-height:normal;font-family:Menlo,'DejaVu Sans Mono',consolas,'Courier New',monospace\">async def <span style=\"color: #800080; text-decoration-color: #800080; font-weight: bold\">assert_response_bullet_list_format</span><span style=\"font-weight: bold\">(</span>response: str<span style=\"font-weight: bold\">)</span> -&gt; bool:\n",
       "    <span style=\"color: #008000; text-decoration-color: #008000\">\"\"</span>\"\n",
       "    Checks if the response is formatted as a bullet list.\n",
       "    <span style=\"color: #008000; text-decoration-color: #008000\">\"\"</span>\"\n",
       "    return <span style=\"color: #800080; text-decoration-color: #800080; font-weight: bold\">response.strip</span><span style=\"font-weight: bold\">()</span><span style=\"color: #800080; text-decoration-color: #800080; font-weight: bold\">.startswith</span><span style=\"font-weight: bold\">(</span><span style=\"color: #008000; text-decoration-color: #008000\">\"-\"</span><span style=\"font-weight: bold\">)</span> and <span style=\"color: #800080; text-decoration-color: #800080; font-weight: bold\">all</span><span style=\"font-weight: bold\">(</span>\n",
       "        <span style=\"color: #800080; text-decoration-color: #800080; font-weight: bold\">line.strip</span><span style=\"font-weight: bold\">()</span><span style=\"color: #800080; text-decoration-color: #800080; font-weight: bold\">.startswith</span><span style=\"font-weight: bold\">(</span><span style=\"color: #008000; text-decoration-color: #008000\">\"-\"</span><span style=\"font-weight: bold\">)</span> for line in <span style=\"color: #800080; text-decoration-color: #800080; font-weight: bold\">response.splitlines</span><span style=\"font-weight: bold\">()</span>\n",
       "    <span style=\"font-weight: bold\">)</span>\n",
       "\n",
       "</pre>\n"
      ],
      "text/plain": [
       "async def \u001b[1;35massert_response_bullet_list_format\u001b[0m\u001b[1m(\u001b[0mresponse: str\u001b[1m)\u001b[0m -> bool:\n",
       "    \u001b[32m\"\"\u001b[0m\"\n",
       "    Checks if the response is formatted as a bullet list.\n",
       "    \u001b[32m\"\"\u001b[0m\"\n",
       "    return \u001b[1;35mresponse.strip\u001b[0m\u001b[1m(\u001b[0m\u001b[1m)\u001b[0m\u001b[1;35m.startswith\u001b[0m\u001b[1m(\u001b[0m\u001b[32m\"-\"\u001b[0m\u001b[1m)\u001b[0m and \u001b[1;35mall\u001b[0m\u001b[1m(\u001b[0m\n",
       "        \u001b[1;35mline.strip\u001b[0m\u001b[1m(\u001b[0m\u001b[1m)\u001b[0m\u001b[1;35m.startswith\u001b[0m\u001b[1m(\u001b[0m\u001b[32m\"-\"\u001b[0m\u001b[1m)\u001b[0m for line in \u001b[1;35mresponse.splitlines\u001b[0m\u001b[1m(\u001b[0m\u001b[1m)\u001b[0m\n",
       "    \u001b[1m)\u001b[0m\n",
       "\n"
      ]
     },
     "metadata": {},
     "output_type": "display_data"
    },
    {
     "data": {
      "text/html": [
       "<pre style=\"white-space:pre;overflow-x:auto;line-height:normal;font-family:Menlo,'DejaVu Sans Mono',consolas,'Courier New',monospace\">async def <span style=\"color: #800080; text-decoration-color: #800080; font-weight: bold\">assert_use_of_the_patient_instead_of_name</span><span style=\"font-weight: bold\">(</span>response: str<span style=\"font-weight: bold\">)</span> -&gt; bool:\n",
       "    <span style=\"color: #008000; text-decoration-color: #008000\">\"\"</span>\"\n",
       "    Checks if <span style=\"color: #008000; text-decoration-color: #008000\">'the patient'</span> is used instead of personal names in the response.\n",
       "    <span style=\"color: #008000; text-decoration-color: #008000\">\"\"</span>\"\n",
       "\n",
       "    return <span style=\"color: #008000; text-decoration-color: #008000\">\"the patient\"</span> in <span style=\"color: #800080; text-decoration-color: #800080; font-weight: bold\">response.lower</span><span style=\"font-weight: bold\">()</span>\n",
       "\n",
       "</pre>\n"
      ],
      "text/plain": [
       "async def \u001b[1;35massert_use_of_the_patient_instead_of_name\u001b[0m\u001b[1m(\u001b[0mresponse: str\u001b[1m)\u001b[0m -> bool:\n",
       "    \u001b[32m\"\"\u001b[0m\"\n",
       "    Checks if \u001b[32m'the patient'\u001b[0m is used instead of personal names in the response.\n",
       "    \u001b[32m\"\"\u001b[0m\"\n",
       "\n",
       "    return \u001b[32m\"the patient\"\u001b[0m in \u001b[1;35mresponse.lower\u001b[0m\u001b[1m(\u001b[0m\u001b[1m)\u001b[0m\n",
       "\n"
      ]
     },
     "metadata": {},
     "output_type": "display_data"
    },
    {
     "data": {
      "text/html": [
       "<pre style=\"white-space:pre;overflow-x:auto;line-height:normal;font-family:Menlo,'DejaVu Sans Mono',consolas,'Courier New',monospace\">\n",
       "\n",
       "\n",
       "\n",
       "</pre>\n"
      ],
      "text/plain": [
       "\n",
       "\n",
       "\n",
       "\n"
      ]
     },
     "metadata": {},
     "output_type": "display_data"
    },
    {
     "data": {
      "text/html": [
       "<pre style=\"white-space:pre;overflow-x:auto;line-height:normal;font-family:Menlo,'DejaVu Sans Mono',consolas,'Courier New',monospace\">spade_cov\n",
       "</pre>\n"
      ],
      "text/plain": [
       "spade_cov\n"
      ]
     },
     "metadata": {},
     "output_type": "display_data"
    },
    {
     "data": {
      "text/html": [
       "<pre style=\"white-space:pre;overflow-x:auto;line-height:normal;font-family:Menlo,'DejaVu Sans Mono',consolas,'Courier New',monospace\"><span style=\"font-weight: bold\">[</span><span style=\"color: #008000; text-decoration-color: #008000\">'assert_na_usage_for_missing_data'</span>, <span style=\"color: #008000; text-decoration-color: #008000\">'assert_use_of_the_patient_instead_of_name'</span><span style=\"font-weight: bold\">]</span>\n",
       "</pre>\n"
      ],
      "text/plain": [
       "\u001b[1m[\u001b[0m\u001b[32m'assert_na_usage_for_missing_data'\u001b[0m, \u001b[32m'assert_use_of_the_patient_instead_of_name'\u001b[0m\u001b[1m]\u001b[0m\n"
      ]
     },
     "metadata": {},
     "output_type": "display_data"
    },
    {
     "data": {
      "text/html": [
       "<pre style=\"white-space:pre;overflow-x:auto;line-height:normal;font-family:Menlo,'DejaVu Sans Mono',consolas,'Courier New',monospace\">async def <span style=\"color: #800080; text-decoration-color: #800080; font-weight: bold\">assert_na_usage_for_missing_data</span><span style=\"font-weight: bold\">(</span>response: str<span style=\"font-weight: bold\">)</span> -&gt; bool:\n",
       "    <span style=\"color: #008000; text-decoration-color: #008000\">\"\"</span>\"\n",
       "    Checks if <span style=\"color: #008000; text-decoration-color: #008000\">'N/A'</span> is used appropriately for data points that are not available.\n",
       "    <span style=\"color: #008000; text-decoration-color: #008000\">\"\"</span>\"\n",
       "    response = <span style=\"color: #800080; text-decoration-color: #800080; font-weight: bold\">response.lower</span><span style=\"font-weight: bold\">()</span>\n",
       "    is_meds_present = <span style=\"color: #008000; text-decoration-color: #008000\">\"new medications prescribed or changed\"</span> in response\n",
       "    is_followup_present = <span style=\"color: #008000; text-decoration-color: #008000\">\"follow-up instructions\"</span> in response\n",
       "\n",
       "    meds_index = <span style=\"color: #800080; text-decoration-color: #800080; font-weight: bold\">response.find</span><span style=\"font-weight: bold\">(</span><span style=\"color: #008000; text-decoration-color: #008000\">\"new medications prescribed or changed\"</span><span style=\"font-weight: bold\">)</span>\n",
       "    followup_index = <span style=\"color: #800080; text-decoration-color: #800080; font-weight: bold\">response.find</span><span style=\"font-weight: bold\">(</span><span style=\"color: #008000; text-decoration-color: #008000\">\"follow-up instructions\"</span><span style=\"font-weight: bold\">)</span>\n",
       "\n",
       "    check_meds = <span style=\"font-weight: bold\">(</span>\n",
       "        <span style=\"color: #008000; text-decoration-color: #008000\">\"n/a\"</span> in response\n",
       "        if not is_meds_present\n",
       "        else <span style=\"color: #00ff00; text-decoration-color: #00ff00; font-style: italic\">True</span>\n",
       "    <span style=\"font-weight: bold\">)</span>\n",
       "    check_followup = <span style=\"font-weight: bold\">(</span>\n",
       "        <span style=\"color: #008000; text-decoration-color: #008000\">\"n/a\"</span> in response\n",
       "        if not is_followup_present\n",
       "        else <span style=\"color: #00ff00; text-decoration-color: #00ff00; font-style: italic\">True</span>\n",
       "    <span style=\"font-weight: bold\">)</span>\n",
       "\n",
       "    return check_meds and check_followup\n",
       "\n",
       "</pre>\n"
      ],
      "text/plain": [
       "async def \u001b[1;35massert_na_usage_for_missing_data\u001b[0m\u001b[1m(\u001b[0mresponse: str\u001b[1m)\u001b[0m -> bool:\n",
       "    \u001b[32m\"\"\u001b[0m\"\n",
       "    Checks if \u001b[32m'N/A'\u001b[0m is used appropriately for data points that are not available.\n",
       "    \u001b[32m\"\"\u001b[0m\"\n",
       "    response = \u001b[1;35mresponse.lower\u001b[0m\u001b[1m(\u001b[0m\u001b[1m)\u001b[0m\n",
       "    is_meds_present = \u001b[32m\"new medications prescribed or changed\"\u001b[0m in response\n",
       "    is_followup_present = \u001b[32m\"follow-up instructions\"\u001b[0m in response\n",
       "\n",
       "    meds_index = \u001b[1;35mresponse.find\u001b[0m\u001b[1m(\u001b[0m\u001b[32m\"new medications prescribed or changed\"\u001b[0m\u001b[1m)\u001b[0m\n",
       "    followup_index = \u001b[1;35mresponse.find\u001b[0m\u001b[1m(\u001b[0m\u001b[32m\"follow-up instructions\"\u001b[0m\u001b[1m)\u001b[0m\n",
       "\n",
       "    check_meds = \u001b[1m(\u001b[0m\n",
       "        \u001b[32m\"n/a\"\u001b[0m in response\n",
       "        if not is_meds_present\n",
       "        else \u001b[3;92mTrue\u001b[0m\n",
       "    \u001b[1m)\u001b[0m\n",
       "    check_followup = \u001b[1m(\u001b[0m\n",
       "        \u001b[32m\"n/a\"\u001b[0m in response\n",
       "        if not is_followup_present\n",
       "        else \u001b[3;92mTrue\u001b[0m\n",
       "    \u001b[1m)\u001b[0m\n",
       "\n",
       "    return check_meds and check_followup\n",
       "\n"
      ]
     },
     "metadata": {},
     "output_type": "display_data"
    },
    {
     "data": {
      "text/html": [
       "<pre style=\"white-space:pre;overflow-x:auto;line-height:normal;font-family:Menlo,'DejaVu Sans Mono',consolas,'Courier New',monospace\">async def <span style=\"color: #800080; text-decoration-color: #800080; font-weight: bold\">assert_use_of_the_patient_instead_of_name</span><span style=\"font-weight: bold\">(</span>response: str<span style=\"font-weight: bold\">)</span> -&gt; bool:\n",
       "    <span style=\"color: #008000; text-decoration-color: #008000\">\"\"</span>\"\n",
       "    Checks if <span style=\"color: #008000; text-decoration-color: #008000\">'the patient'</span> is used instead of personal names in the response.\n",
       "    <span style=\"color: #008000; text-decoration-color: #008000\">\"\"</span>\"\n",
       "\n",
       "    return <span style=\"color: #008000; text-decoration-color: #008000\">\"the patient\"</span> in <span style=\"color: #800080; text-decoration-color: #800080; font-weight: bold\">response.lower</span><span style=\"font-weight: bold\">()</span>\n",
       "\n",
       "</pre>\n"
      ],
      "text/plain": [
       "async def \u001b[1;35massert_use_of_the_patient_instead_of_name\u001b[0m\u001b[1m(\u001b[0mresponse: str\u001b[1m)\u001b[0m -> bool:\n",
       "    \u001b[32m\"\"\u001b[0m\"\n",
       "    Checks if \u001b[32m'the patient'\u001b[0m is used instead of personal names in the response.\n",
       "    \u001b[32m\"\"\u001b[0m\"\n",
       "\n",
       "    return \u001b[32m\"the patient\"\u001b[0m in \u001b[1;35mresponse.lower\u001b[0m\u001b[1m(\u001b[0m\u001b[1m)\u001b[0m\n",
       "\n"
      ]
     },
     "metadata": {},
     "output_type": "display_data"
    },
    {
     "data": {
      "text/html": [
       "<pre style=\"white-space:pre;overflow-x:auto;line-height:normal;font-family:Menlo,'DejaVu Sans Mono',consolas,'Courier New',monospace\">\n",
       "\n",
       "\n",
       "\n",
       "</pre>\n"
      ],
      "text/plain": [
       "\n",
       "\n",
       "\n",
       "\n"
      ]
     },
     "metadata": {},
     "output_type": "display_data"
    },
    {
     "data": {
      "text/html": [
       "<pre style=\"white-space:pre;overflow-x:auto;line-height:normal;font-family:Menlo,'DejaVu Sans Mono',consolas,'Courier New',monospace\">spade_sub\n",
       "</pre>\n"
      ],
      "text/plain": [
       "spade_sub\n"
      ]
     },
     "metadata": {},
     "output_type": "display_data"
    },
    {
     "data": {
      "text/html": [
       "<pre style=\"white-space:pre;overflow-x:auto;line-height:normal;font-family:Menlo,'DejaVu Sans Mono',consolas,'Courier New',monospace\"><span style=\"font-weight: bold\">[</span>\n",
       "    <span style=\"color: #008000; text-decoration-color: #008000\">'assert_explicit_na_if_no_meds_changed'</span>,\n",
       "    <span style=\"color: #008000; text-decoration-color: #008000\">'assert_na_usage_for_missing_data'</span>,\n",
       "    <span style=\"color: #008000; text-decoration-color: #008000\">'assert_neutral_clinical_tone'</span>,\n",
       "    <span style=\"color: #008000; text-decoration-color: #008000\">'assert_response_bullet_list_format'</span>,\n",
       "    <span style=\"color: #008000; text-decoration-color: #008000\">'assert_use_of_the_patient_instead_of_name'</span>\n",
       "<span style=\"font-weight: bold\">]</span>\n",
       "</pre>\n"
      ],
      "text/plain": [
       "\u001b[1m[\u001b[0m\n",
       "    \u001b[32m'assert_explicit_na_if_no_meds_changed'\u001b[0m,\n",
       "    \u001b[32m'assert_na_usage_for_missing_data'\u001b[0m,\n",
       "    \u001b[32m'assert_neutral_clinical_tone'\u001b[0m,\n",
       "    \u001b[32m'assert_response_bullet_list_format'\u001b[0m,\n",
       "    \u001b[32m'assert_use_of_the_patient_instead_of_name'\u001b[0m\n",
       "\u001b[1m]\u001b[0m\n"
      ]
     },
     "metadata": {},
     "output_type": "display_data"
    },
    {
     "data": {
      "text/html": [
       "<pre style=\"white-space:pre;overflow-x:auto;line-height:normal;font-family:Menlo,'DejaVu Sans Mono',consolas,'Courier New',monospace\">async def <span style=\"color: #800080; text-decoration-color: #800080; font-weight: bold\">assert_explicit_na_if_no_meds_changed</span><span style=\"font-weight: bold\">(</span>response: str<span style=\"font-weight: bold\">)</span> -&gt; bool:\n",
       "    <span style=\"color: #008000; text-decoration-color: #008000\">\"\"</span>\"\n",
       "    Checks if the response explicitly states <span style=\"color: #008000; text-decoration-color: #008000\">'N/A'</span> for dosages when no new medications are prescribed or changed.\n",
       "    <span style=\"color: #008000; text-decoration-color: #008000\">\"\"</span>\"\n",
       "    if <span style=\"color: #008000; text-decoration-color: #008000\">\"new medications prescribed or changed\"</span> not in <span style=\"color: #800080; text-decoration-color: #800080; font-weight: bold\">response.lower</span><span style=\"font-weight: bold\">()</span>:\n",
       "        return <span style=\"color: #008000; text-decoration-color: #008000\">\"n/a\"</span> in <span style=\"color: #800080; text-decoration-color: #800080; font-weight: bold\">response.lower</span><span style=\"font-weight: bold\">()</span>\n",
       "    return <span style=\"color: #00ff00; text-decoration-color: #00ff00; font-style: italic\">True</span>  # Should return true if the segment is present, to not be consequential\n",
       "\n",
       "</pre>\n"
      ],
      "text/plain": [
       "async def \u001b[1;35massert_explicit_na_if_no_meds_changed\u001b[0m\u001b[1m(\u001b[0mresponse: str\u001b[1m)\u001b[0m -> bool:\n",
       "    \u001b[32m\"\"\u001b[0m\"\n",
       "    Checks if the response explicitly states \u001b[32m'N/A'\u001b[0m for dosages when no new medications are prescribed or changed.\n",
       "    \u001b[32m\"\"\u001b[0m\"\n",
       "    if \u001b[32m\"new medications prescribed or changed\"\u001b[0m not in \u001b[1;35mresponse.lower\u001b[0m\u001b[1m(\u001b[0m\u001b[1m)\u001b[0m:\n",
       "        return \u001b[32m\"n/a\"\u001b[0m in \u001b[1;35mresponse.lower\u001b[0m\u001b[1m(\u001b[0m\u001b[1m)\u001b[0m\n",
       "    return \u001b[3;92mTrue\u001b[0m  # Should return true if the segment is present, to not be consequential\n",
       "\n"
      ]
     },
     "metadata": {},
     "output_type": "display_data"
    },
    {
     "data": {
      "text/html": [
       "<pre style=\"white-space:pre;overflow-x:auto;line-height:normal;font-family:Menlo,'DejaVu Sans Mono',consolas,'Courier New',monospace\">async def <span style=\"color: #800080; text-decoration-color: #800080; font-weight: bold\">assert_na_usage_for_missing_data</span><span style=\"font-weight: bold\">(</span>response: str<span style=\"font-weight: bold\">)</span> -&gt; bool:\n",
       "    <span style=\"color: #008000; text-decoration-color: #008000\">\"\"</span>\"\n",
       "    Checks if <span style=\"color: #008000; text-decoration-color: #008000\">'N/A'</span> is used appropriately for data points that are not available.\n",
       "    <span style=\"color: #008000; text-decoration-color: #008000\">\"\"</span>\"\n",
       "    response = <span style=\"color: #800080; text-decoration-color: #800080; font-weight: bold\">response.lower</span><span style=\"font-weight: bold\">()</span>\n",
       "    is_meds_present = <span style=\"color: #008000; text-decoration-color: #008000\">\"new medications prescribed or changed\"</span> in response\n",
       "    is_followup_present = <span style=\"color: #008000; text-decoration-color: #008000\">\"follow-up instructions\"</span> in response\n",
       "\n",
       "    meds_index = <span style=\"color: #800080; text-decoration-color: #800080; font-weight: bold\">response.find</span><span style=\"font-weight: bold\">(</span><span style=\"color: #008000; text-decoration-color: #008000\">\"new medications prescribed or changed\"</span><span style=\"font-weight: bold\">)</span>\n",
       "    followup_index = <span style=\"color: #800080; text-decoration-color: #800080; font-weight: bold\">response.find</span><span style=\"font-weight: bold\">(</span><span style=\"color: #008000; text-decoration-color: #008000\">\"follow-up instructions\"</span><span style=\"font-weight: bold\">)</span>\n",
       "\n",
       "    check_meds = <span style=\"font-weight: bold\">(</span>\n",
       "        <span style=\"color: #008000; text-decoration-color: #008000\">\"n/a\"</span> in response\n",
       "        if not is_meds_present\n",
       "        else <span style=\"color: #00ff00; text-decoration-color: #00ff00; font-style: italic\">True</span>\n",
       "    <span style=\"font-weight: bold\">)</span>\n",
       "    check_followup = <span style=\"font-weight: bold\">(</span>\n",
       "        <span style=\"color: #008000; text-decoration-color: #008000\">\"n/a\"</span> in response\n",
       "        if not is_followup_present\n",
       "        else <span style=\"color: #00ff00; text-decoration-color: #00ff00; font-style: italic\">True</span>\n",
       "    <span style=\"font-weight: bold\">)</span>\n",
       "\n",
       "    return check_meds and check_followup\n",
       "\n",
       "</pre>\n"
      ],
      "text/plain": [
       "async def \u001b[1;35massert_na_usage_for_missing_data\u001b[0m\u001b[1m(\u001b[0mresponse: str\u001b[1m)\u001b[0m -> bool:\n",
       "    \u001b[32m\"\"\u001b[0m\"\n",
       "    Checks if \u001b[32m'N/A'\u001b[0m is used appropriately for data points that are not available.\n",
       "    \u001b[32m\"\"\u001b[0m\"\n",
       "    response = \u001b[1;35mresponse.lower\u001b[0m\u001b[1m(\u001b[0m\u001b[1m)\u001b[0m\n",
       "    is_meds_present = \u001b[32m\"new medications prescribed or changed\"\u001b[0m in response\n",
       "    is_followup_present = \u001b[32m\"follow-up instructions\"\u001b[0m in response\n",
       "\n",
       "    meds_index = \u001b[1;35mresponse.find\u001b[0m\u001b[1m(\u001b[0m\u001b[32m\"new medications prescribed or changed\"\u001b[0m\u001b[1m)\u001b[0m\n",
       "    followup_index = \u001b[1;35mresponse.find\u001b[0m\u001b[1m(\u001b[0m\u001b[32m\"follow-up instructions\"\u001b[0m\u001b[1m)\u001b[0m\n",
       "\n",
       "    check_meds = \u001b[1m(\u001b[0m\n",
       "        \u001b[32m\"n/a\"\u001b[0m in response\n",
       "        if not is_meds_present\n",
       "        else \u001b[3;92mTrue\u001b[0m\n",
       "    \u001b[1m)\u001b[0m\n",
       "    check_followup = \u001b[1m(\u001b[0m\n",
       "        \u001b[32m\"n/a\"\u001b[0m in response\n",
       "        if not is_followup_present\n",
       "        else \u001b[3;92mTrue\u001b[0m\n",
       "    \u001b[1m)\u001b[0m\n",
       "\n",
       "    return check_meds and check_followup\n",
       "\n"
      ]
     },
     "metadata": {},
     "output_type": "display_data"
    },
    {
     "data": {
      "text/html": [
       "<pre style=\"white-space:pre;overflow-x:auto;line-height:normal;font-family:Menlo,'DejaVu Sans Mono',consolas,'Courier New',monospace\">async def <span style=\"color: #800080; text-decoration-color: #800080; font-weight: bold\">assert_neutral_clinical_tone</span><span style=\"font-weight: bold\">(</span>response: str<span style=\"font-weight: bold\">)</span> -&gt; bool:\n",
       "    <span style=\"color: #008000; text-decoration-color: #008000\">\"\"</span>\"\n",
       "    Determines if the tone of the response is neutral, professional, and objective.\n",
       "    <span style=\"color: #008000; text-decoration-color: #008000\">\"\"</span>\"\n",
       "    question = <span style=\"color: #008000; text-decoration-color: #008000\">\"Is the tone of the response neutral, professional, and objective?\"</span>\n",
       "    return await <span style=\"color: #800080; text-decoration-color: #800080; font-weight: bold\">ask_llm</span><span style=\"font-weight: bold\">(</span>response, question<span style=\"font-weight: bold\">)</span>\n",
       "\n",
       "</pre>\n"
      ],
      "text/plain": [
       "async def \u001b[1;35massert_neutral_clinical_tone\u001b[0m\u001b[1m(\u001b[0mresponse: str\u001b[1m)\u001b[0m -> bool:\n",
       "    \u001b[32m\"\"\u001b[0m\"\n",
       "    Determines if the tone of the response is neutral, professional, and objective.\n",
       "    \u001b[32m\"\"\u001b[0m\"\n",
       "    question = \u001b[32m\"Is the tone of the response neutral, professional, and objective?\"\u001b[0m\n",
       "    return await \u001b[1;35mask_llm\u001b[0m\u001b[1m(\u001b[0mresponse, question\u001b[1m)\u001b[0m\n",
       "\n"
      ]
     },
     "metadata": {},
     "output_type": "display_data"
    },
    {
     "data": {
      "text/html": [
       "<pre style=\"white-space:pre;overflow-x:auto;line-height:normal;font-family:Menlo,'DejaVu Sans Mono',consolas,'Courier New',monospace\">async def <span style=\"color: #800080; text-decoration-color: #800080; font-weight: bold\">assert_response_bullet_list_format</span><span style=\"font-weight: bold\">(</span>response: str<span style=\"font-weight: bold\">)</span> -&gt; bool:\n",
       "    <span style=\"color: #008000; text-decoration-color: #008000\">\"\"</span>\"\n",
       "    Checks if the response is formatted as a bullet list.\n",
       "    <span style=\"color: #008000; text-decoration-color: #008000\">\"\"</span>\"\n",
       "    return <span style=\"color: #800080; text-decoration-color: #800080; font-weight: bold\">response.strip</span><span style=\"font-weight: bold\">()</span><span style=\"color: #800080; text-decoration-color: #800080; font-weight: bold\">.startswith</span><span style=\"font-weight: bold\">(</span><span style=\"color: #008000; text-decoration-color: #008000\">\"-\"</span><span style=\"font-weight: bold\">)</span> and <span style=\"color: #800080; text-decoration-color: #800080; font-weight: bold\">all</span><span style=\"font-weight: bold\">(</span>\n",
       "        <span style=\"color: #800080; text-decoration-color: #800080; font-weight: bold\">line.strip</span><span style=\"font-weight: bold\">()</span><span style=\"color: #800080; text-decoration-color: #800080; font-weight: bold\">.startswith</span><span style=\"font-weight: bold\">(</span><span style=\"color: #008000; text-decoration-color: #008000\">\"-\"</span><span style=\"font-weight: bold\">)</span> for line in <span style=\"color: #800080; text-decoration-color: #800080; font-weight: bold\">response.splitlines</span><span style=\"font-weight: bold\">()</span>\n",
       "    <span style=\"font-weight: bold\">)</span>\n",
       "\n",
       "</pre>\n"
      ],
      "text/plain": [
       "async def \u001b[1;35massert_response_bullet_list_format\u001b[0m\u001b[1m(\u001b[0mresponse: str\u001b[1m)\u001b[0m -> bool:\n",
       "    \u001b[32m\"\"\u001b[0m\"\n",
       "    Checks if the response is formatted as a bullet list.\n",
       "    \u001b[32m\"\"\u001b[0m\"\n",
       "    return \u001b[1;35mresponse.strip\u001b[0m\u001b[1m(\u001b[0m\u001b[1m)\u001b[0m\u001b[1;35m.startswith\u001b[0m\u001b[1m(\u001b[0m\u001b[32m\"-\"\u001b[0m\u001b[1m)\u001b[0m and \u001b[1;35mall\u001b[0m\u001b[1m(\u001b[0m\n",
       "        \u001b[1;35mline.strip\u001b[0m\u001b[1m(\u001b[0m\u001b[1m)\u001b[0m\u001b[1;35m.startswith\u001b[0m\u001b[1m(\u001b[0m\u001b[32m\"-\"\u001b[0m\u001b[1m)\u001b[0m for line in \u001b[1;35mresponse.splitlines\u001b[0m\u001b[1m(\u001b[0m\u001b[1m)\u001b[0m\n",
       "    \u001b[1m)\u001b[0m\n",
       "\n"
      ]
     },
     "metadata": {},
     "output_type": "display_data"
    },
    {
     "data": {
      "text/html": [
       "<pre style=\"white-space:pre;overflow-x:auto;line-height:normal;font-family:Menlo,'DejaVu Sans Mono',consolas,'Courier New',monospace\">async def <span style=\"color: #800080; text-decoration-color: #800080; font-weight: bold\">assert_use_of_the_patient_instead_of_name</span><span style=\"font-weight: bold\">(</span>response: str<span style=\"font-weight: bold\">)</span> -&gt; bool:\n",
       "    <span style=\"color: #008000; text-decoration-color: #008000\">\"\"</span>\"\n",
       "    Checks if <span style=\"color: #008000; text-decoration-color: #008000\">'the patient'</span> is used instead of personal names in the response.\n",
       "    <span style=\"color: #008000; text-decoration-color: #008000\">\"\"</span>\"\n",
       "\n",
       "    return <span style=\"color: #008000; text-decoration-color: #008000\">\"the patient\"</span> in <span style=\"color: #800080; text-decoration-color: #800080; font-weight: bold\">response.lower</span><span style=\"font-weight: bold\">()</span>\n",
       "\n",
       "</pre>\n"
      ],
      "text/plain": [
       "async def \u001b[1;35massert_use_of_the_patient_instead_of_name\u001b[0m\u001b[1m(\u001b[0mresponse: str\u001b[1m)\u001b[0m -> bool:\n",
       "    \u001b[32m\"\"\u001b[0m\"\n",
       "    Checks if \u001b[32m'the patient'\u001b[0m is used instead of personal names in the response.\n",
       "    \u001b[32m\"\"\u001b[0m\"\n",
       "\n",
       "    return \u001b[32m\"the patient\"\u001b[0m in \u001b[1;35mresponse.lower\u001b[0m\u001b[1m(\u001b[0m\u001b[1m)\u001b[0m\n",
       "\n"
      ]
     },
     "metadata": {},
     "output_type": "display_data"
    },
    {
     "data": {
      "text/html": [
       "<pre style=\"white-space:pre;overflow-x:auto;line-height:normal;font-family:Menlo,'DejaVu Sans Mono',consolas,'Courier New',monospace\">\n",
       "\n",
       "\n",
       "\n",
       "</pre>\n"
      ],
      "text/plain": [
       "\n",
       "\n",
       "\n",
       "\n"
      ]
     },
     "metadata": {},
     "output_type": "display_data"
    }
   ],
   "source": [
    "from rich import print as rprint\n",
    "\n",
    "for k, v in optimizer_res.items():\n",
    "    if \"spade\" in str(k):\n",
    "        rprint(k)\n",
    "        rprint(v[\"selected_function_names\"])\n",
    "        \n",
    "        # Print the functions\n",
    "        for func in v[\"selected_function_names\"]:\n",
    "            print(optimizer_dict[\"spade_functions\"][func])\n",
    "        \n",
    "        rprint(\"\\n\\n\\n\")"
   ]
  },
  {
   "cell_type": "code",
   "execution_count": null,
   "metadata": {},
   "outputs": [],
   "source": []
  }
 ],
 "metadata": {
  "kernelspec": {
   "display_name": "promptdelta",
   "language": "python",
   "name": "python3"
  },
  "language_info": {
   "codemirror_mode": {
    "name": "ipython",
    "version": 3
   },
   "file_extension": ".py",
   "mimetype": "text/x-python",
   "name": "python",
   "nbconvert_exporter": "python",
   "pygments_lexer": "ipython3",
   "version": "3.10.12"
  }
 },
 "nbformat": 4,
 "nbformat_minor": 2
}
