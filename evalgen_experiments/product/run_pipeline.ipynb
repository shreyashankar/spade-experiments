{
 "cells": [
  {
   "cell_type": "code",
   "execution_count": 1,
   "metadata": {},
   "outputs": [
    {
     "name": "stderr",
     "output_type": "stream",
     "text": [
      "[nltk_data] Downloading package punkt to\n",
      "[nltk_data]     /Users/shreyashankar/nltk_data...\n",
      "[nltk_data]   Package punkt is already up-to-date!\n"
     ]
    }
   ],
   "source": [
    "# This notebook needs to be run in the root folder.\n",
    "import pandas as pd\n",
    "from spade.candidate_gen import generate_candidate_assertions\n",
    "from spade.execute_assertions import execute_candidate_assertions\n",
    "from spade.label_results import prepare_for_optimizer\n",
    "from spade.check_subsumes import evaluate_all_subsumes, collate_subsumption_results\n",
    "from spade.optimizer import select_functions\n",
    "from rich import print"
   ]
  },
  {
   "cell_type": "code",
   "execution_count": 2,
   "metadata": {},
   "outputs": [],
   "source": [
    "%load_ext autoreload\n",
    "%autoreload 2"
   ]
  },
  {
   "cell_type": "code",
   "execution_count": 3,
   "metadata": {},
   "outputs": [
    {
     "data": {
      "text/html": [
       "<pre style=\"white-space:pre;overflow-x:auto;line-height:normal;font-family:Menlo,'DejaVu Sans Mono',consolas,'Courier New',monospace\"><span style=\"font-weight: bold\">[</span>\n",
       "    <span style=\"color: #008000; text-decoration-color: #008000\">\"You are an expert copywriter. You need to write an e-commerce product description based on the product details</span>\n",
       "<span style=\"color: #008000; text-decoration-color: #008000\">and customer reviews. Your description should be SEO-optimized. It should use an active voice and include the </span>\n",
       "<span style=\"color: #008000; text-decoration-color: #008000\">product's features, benefits, unique selling points without overpromising, and a call to action for the buyer. </span>\n",
       "<span style=\"color: #008000; text-decoration-color: #008000\">Benefits describe how product features will work for the buyer, addressing exactly how the product will improve </span>\n",
       "<span style=\"color: #008000; text-decoration-color: #008000\">their lives. Clearly distinguish between features (e.g., lightweight, USB-chargeable) and benefits (e.g., </span>\n",
       "<span style=\"color: #008000; text-decoration-color: #008000\">convenience, nutritious drinks on-the-go). Don't mention weaknesses of the product or use generic or repetitive </span>\n",
       "<span style=\"color: #008000; text-decoration-color: #008000\">language. Divide your description into readable chunks divided by relevant subheadings. Keep your description </span>\n",
       "<span style=\"color: #008000; text-decoration-color: #008000\">around 200 words, in Markdown format.\\n\\n{document}\"</span>,\n",
       "    <span style=\"color: #008000; text-decoration-color: #008000\">\"You are an expert copywriter. You need to write an e-commerce product description based on the product details</span>\n",
       "<span style=\"color: #008000; text-decoration-color: #008000\">and customer reviews. Your description should be SEO-optimized. It should use an active voice and include the </span>\n",
       "<span style=\"color: #008000; text-decoration-color: #008000\">product's features, benefits, unique selling points without overpromising, and a call to action for the buyer. </span>\n",
       "<span style=\"color: #008000; text-decoration-color: #008000\">Benefits describe how product features will work for the buyer, addressing exactly how the product will improve </span>\n",
       "<span style=\"color: #008000; text-decoration-color: #008000\">their lives. Clearly distinguish between features (e.g., lightweight, USB-chargeable) and benefits (e.g., </span>\n",
       "<span style=\"color: #008000; text-decoration-color: #008000\">convenience, nutritious drinks on-the-go). Don't mention weaknesses of the product or use generic or repetitive </span>\n",
       "<span style=\"color: #008000; text-decoration-color: #008000\">language. Don't make up review text or quotes. Don't include any links. Don't cite the reviews too heavily. Divide </span>\n",
       "<span style=\"color: #008000; text-decoration-color: #008000\">your description into readable chunks divided by relevant subheadings. Keep your description around 200 words, no </span>\n",
       "<span style=\"color: #008000; text-decoration-color: #008000\">more than 300, in Markdown format.\\n\\n{document}\"</span>\n",
       "<span style=\"font-weight: bold\">]</span>\n",
       "</pre>\n"
      ],
      "text/plain": [
       "\u001b[1m[\u001b[0m\n",
       "    \u001b[32m\"You are an expert copywriter. You need to write an e-commerce product description based on the product details\u001b[0m\n",
       "\u001b[32mand customer reviews. Your description should be SEO-optimized. It should use an active voice and include the \u001b[0m\n",
       "\u001b[32mproduct's features, benefits, unique selling points without overpromising, and a call to action for the buyer. \u001b[0m\n",
       "\u001b[32mBenefits describe how product features will work for the buyer, addressing exactly how the product will improve \u001b[0m\n",
       "\u001b[32mtheir lives. Clearly distinguish between features \u001b[0m\u001b[32m(\u001b[0m\u001b[32me.g., lightweight, USB-chargeable\u001b[0m\u001b[32m)\u001b[0m\u001b[32m and benefits \u001b[0m\u001b[32m(\u001b[0m\u001b[32me.g., \u001b[0m\n",
       "\u001b[32mconvenience, nutritious drinks on-the-go\u001b[0m\u001b[32m)\u001b[0m\u001b[32m. Don't mention weaknesses of the product or use generic or repetitive \u001b[0m\n",
       "\u001b[32mlanguage. Divide your description into readable chunks divided by relevant subheadings. Keep your description \u001b[0m\n",
       "\u001b[32maround 200 words, in Markdown format.\\n\\n\u001b[0m\u001b[32m{\u001b[0m\u001b[32mdocument\u001b[0m\u001b[32m}\u001b[0m\u001b[32m\"\u001b[0m,\n",
       "    \u001b[32m\"You are an expert copywriter. You need to write an e-commerce product description based on the product details\u001b[0m\n",
       "\u001b[32mand customer reviews. Your description should be SEO-optimized. It should use an active voice and include the \u001b[0m\n",
       "\u001b[32mproduct's features, benefits, unique selling points without overpromising, and a call to action for the buyer. \u001b[0m\n",
       "\u001b[32mBenefits describe how product features will work for the buyer, addressing exactly how the product will improve \u001b[0m\n",
       "\u001b[32mtheir lives. Clearly distinguish between features \u001b[0m\u001b[32m(\u001b[0m\u001b[32me.g., lightweight, USB-chargeable\u001b[0m\u001b[32m)\u001b[0m\u001b[32m and benefits \u001b[0m\u001b[32m(\u001b[0m\u001b[32me.g., \u001b[0m\n",
       "\u001b[32mconvenience, nutritious drinks on-the-go\u001b[0m\u001b[32m)\u001b[0m\u001b[32m. Don't mention weaknesses of the product or use generic or repetitive \u001b[0m\n",
       "\u001b[32mlanguage. Don't make up review text or quotes. Don't include any links. Don't cite the reviews too heavily. Divide \u001b[0m\n",
       "\u001b[32myour description into readable chunks divided by relevant subheadings. Keep your description around 200 words, no \u001b[0m\n",
       "\u001b[32mmore than 300, in Markdown format.\\n\\n\u001b[0m\u001b[32m{\u001b[0m\u001b[32mdocument\u001b[0m\u001b[32m}\u001b[0m\u001b[32m\"\u001b[0m\n",
       "\u001b[1m]\u001b[0m\n"
      ]
     },
     "metadata": {},
     "output_type": "display_data"
    },
    {
     "data": {
      "text/html": [
       "<pre style=\"white-space:pre;overflow-x:auto;line-height:normal;font-family:Menlo,'DejaVu Sans Mono',consolas,'Courier New',monospace\">There are <span style=\"color: #008080; text-decoration-color: #008080; font-weight: bold\">2</span> templates.\n",
       "</pre>\n"
      ],
      "text/plain": [
       "There are \u001b[1;36m2\u001b[0m templates.\n"
      ]
     },
     "metadata": {},
     "output_type": "display_data"
    }
   ],
   "source": [
    "dataset_name = \"product\"\n",
    "from evalgen_experiments.product.prompt_templates import TEMPLATES\n",
    "\n",
    "prompt_template_strings = TEMPLATES\n",
    "EXAMPLE = {\n",
    "    \"document\": \"\"\"Product ID: B000NWD020\n",
    "Title: Yardley of London Moisturizing Soap Sweet Summer Aloe and Avocado 3+1\n",
    "Average Rating: 4.1\n",
    "Number of Ratings: 19\n",
    "Features: ['Fresh Aloe & Avocado with Creamy Avocado & Olive Oil Extracts', 'The actual product may be different than product image']\n",
    "Description: ['INDICATIONS: A light, refreshing scent of aloe with a hint of sweet cucumber. This gentle soap contains aloe vera to help soothe and heal the skin. Not tested on animals.']\n",
    "Price: 12.45\n",
    "Store: Yardley\n",
    "Details: {\"\"Item Form\"\": \"\"Cream\"\", \"\"Skin Type\"\": \"\"Dry\"\", \"\"Brand\"\": \"\"Yardley\"\", \"\"Scent\"\": \"\"Cucumber,Avocado\"\", \"\"Age Range (Description)\"\": \"\"Senior,Adult,Tween,Teen,Child\"\", \"\"Is Discontinued By Manufacturer\"\": \"\"No\"\", \"\"Item model number\"\": \"\"LORNAMEAD866673\"\", \"\"UPC\"\": \"\"041840873713\"\", \"\"Manufacturer\"\": \"\"Yardley\"\"}\n",
    "Review Text: My daughter uses this soap for my grandson's acute excema!  It works wonders!  It clears his skin right up, and it smells good too!  LOVE THIS SOAP! Typical of Yardley, a nicely scented soap that I look forward to using.  I would buy it, or any Yardley soap again (love the lemon and lavender scents too,)  They make me feel refreshed. Great soap with light scent. Decent price. Smells wonderful, great as a skin moisturizer.  Shipped QUICKLY and the price was definitely right.  I will buy this again. I will never order this product again!! This soap makes my skin dry out!!! It smells great though, but smell is not everything. Great product I was disappointed to see them sold in my local dollar store. *sigh* I was disappointed to see them sold in my local dollar store. *sigh*\"\"\"\n",
    "}\n",
    "\n",
    "print(prompt_template_strings)\n",
    "print(f\"There are {len(prompt_template_strings)} templates.\")"
   ]
  },
  {
   "cell_type": "code",
   "execution_count": 4,
   "metadata": {},
   "outputs": [
    {
     "name": "stdout",
     "output_type": "stream",
     "text": [
      "Generating assertions...\n",
      "Prompt diff: --- \n",
      "\n",
      "+++ \n",
      "\n",
      "@@ -0,0 +1,10 @@\n",
      "\n",
      "+You are an expert copywriter.\n",
      "+You need to write an e-commerce product description based on the product details and customer reviews.\n",
      "+Your description should be SEO-optimized.\n",
      "+It should use an active voice and include the product's features, benefits, unique selling points without overpromising, and a call to action for the buyer.\n",
      "+Benefits describe how product features will work for the buyer, addressing exactly how the product will improve their lives.\n",
      "+Clearly distinguish between features (e.g., lightweight, USB-chargeable) and benefits (e.g., convenience, nutritious drinks on-the-go).\n",
      "+Don't mention weaknesses of the product or use generic or repetitive language.\n",
      "+Divide your description into readable chunks divided by relevant subheadings.\n",
      "+Keep your description around 200 words, in Markdown format.\n",
      "+{document}\n",
      "Generating assertions...\n",
      "Prompt diff: --- \n",
      "\n",
      "+++ \n",
      "\n",
      "@@ -5,6 +5,9 @@\n",
      "\n",
      " Benefits describe how product features will work for the buyer, addressing exactly how the product will improve their lives.\n",
      " Clearly distinguish between features (e.g., lightweight, USB-chargeable) and benefits (e.g., convenience, nutritious drinks on-the-go).\n",
      " Don't mention weaknesses of the product or use generic or repetitive language.\n",
      "+Don't make up review text or quotes.\n",
      "+Don't include any links.\n",
      "+Don't cite the reviews too heavily.\n",
      " Divide your description into readable chunks divided by relevant subheadings.\n",
      "-Keep your description around 200 words, in Markdown format.\n",
      "+Keep your description around 200 words, no more than 300, in Markdown format.\n",
      " {document}\n"
     ]
    }
   ],
   "source": [
    "assertions = await generate_candidate_assertions(prompt_template_strings, EXAMPLE)"
   ]
  },
  {
   "cell_type": "code",
   "execution_count": 5,
   "metadata": {},
   "outputs": [],
   "source": [
    "# Append some stuff\n",
    "\n",
    "beginning = \"\"\"from litellm import acompletion\n",
    "\n",
    "\n",
    "async def ask_llm(response, question):\n",
    "    # Placeholder for asking an expert a true/false question\n",
    "    # In practice, this would involve a complex implementation potentially requiring human input\n",
    "\n",
    "    messages = [\n",
    "        {\n",
    "            \"content\": f\"You are a helpful assistant. Here is a response you will be evaluating:\\\\n{response}\",\n",
    "            \"role\": \"system\",\n",
    "        },\n",
    "        {\n",
    "            \"content\": f\"{question}\\\\nOnly answer yes or no.\",\n",
    "            \"role\": \"user\",\n",
    "        },\n",
    "    ]\n",
    "\n",
    "    response = await acompletion(\n",
    "        model=\"azure/gpt-35-turbo\",\n",
    "        messages=messages,\n",
    "    )\n",
    "\n",
    "    # get the cost\n",
    "    completion_tokens = response[\"usage\"][\"completion_tokens\"]\n",
    "    prompt_tokens = response[\"usage\"][\"prompt_tokens\"]\n",
    "\n",
    "    # get the response\n",
    "    reply = response[\"choices\"][0][\"message\"][\"content\"]\n",
    "\n",
    "    if \"yes\" in reply.lower():\n",
    "        return prompt_tokens, completion_tokens, True\n",
    "\n",
    "    return prompt_tokens, completion_tokens, False\n",
    "\"\"\"\n",
    "\n",
    "assertion_text = beginning + assertions[1][0]"
   ]
  },
  {
   "cell_type": "code",
   "execution_count": 6,
   "metadata": {},
   "outputs": [],
   "source": [
    "# Dump to functions.py\n",
    "\n",
    "prefix = f\"/Users/shreyashankar/Documents/projects/spade-experiments/evalgen_experiments/{dataset_name}\"\n",
    "\n",
    "with open(f\"{prefix}/candidate_assertions.py\", \"w\") as f:\n",
    "    f.write(assertion_text)"
   ]
  },
  {
   "cell_type": "code",
   "execution_count": 4,
   "metadata": {},
   "outputs": [
    {
     "data": {
      "text/html": [
       "<div>\n",
       "<style scoped>\n",
       "    .dataframe tbody tr th:only-of-type {\n",
       "        vertical-align: middle;\n",
       "    }\n",
       "\n",
       "    .dataframe tbody tr th {\n",
       "        vertical-align: top;\n",
       "    }\n",
       "\n",
       "    .dataframe thead th {\n",
       "        text-align: right;\n",
       "    }\n",
       "</style>\n",
       "<table border=\"1\" class=\"dataframe\">\n",
       "  <thead>\n",
       "    <tr style=\"text-align: right;\">\n",
       "      <th></th>\n",
       "      <th>prompt</th>\n",
       "      <th>response</th>\n",
       "      <th>model</th>\n",
       "      <th>example</th>\n",
       "    </tr>\n",
       "  </thead>\n",
       "  <tbody>\n",
       "    <tr>\n",
       "      <th>0</th>\n",
       "      <td>You are an expert copywriter. You need to writ...</td>\n",
       "      <td># Yardley of London Moisturizing Soap Sweet Su...</td>\n",
       "      <td>gpt-3</td>\n",
       "      <td>{'document': '\\nProduct ID: B000NWD020\\nTitle:...</td>\n",
       "    </tr>\n",
       "    <tr>\n",
       "      <th>1</th>\n",
       "      <td>You are an expert copywriter. You need to writ...</td>\n",
       "      <td># Magick Botanicals Conditioner for Thinning H...</td>\n",
       "      <td>gpt-3</td>\n",
       "      <td>{'document': '\\nProduct ID: B0011DN60Q\\nTitle:...</td>\n",
       "    </tr>\n",
       "    <tr>\n",
       "      <th>2</th>\n",
       "      <td>You are an expert copywriter. You need to writ...</td>\n",
       "      <td># Supernail China Silk Wrap, 72 Inch\\n\\n## Enh...</td>\n",
       "      <td>gpt-3</td>\n",
       "      <td>{'document': '\\nProduct ID: B001MP47WE\\nTitle:...</td>\n",
       "    </tr>\n",
       "    <tr>\n",
       "      <th>3</th>\n",
       "      <td>You are an expert copywriter. You need to writ...</td>\n",
       "      <td># Stage Blood 4 oz\\n\\n## Realistic Stage Blood...</td>\n",
       "      <td>gpt-3</td>\n",
       "      <td>{'document': '\\nProduct ID: B002EV3JBU\\nTitle:...</td>\n",
       "    </tr>\n",
       "    <tr>\n",
       "      <th>4</th>\n",
       "      <td>You are an expert copywriter. You need to writ...</td>\n",
       "      <td># MERMAID Vegetable Glycerin Bar Soap\\n\\n**Pri...</td>\n",
       "      <td>gpt-3</td>\n",
       "      <td>{'document': '\\nProduct ID: B00355HFQE\\nTitle:...</td>\n",
       "    </tr>\n",
       "  </tbody>\n",
       "</table>\n",
       "</div>"
      ],
      "text/plain": [
       "                                              prompt  \\\n",
       "0  You are an expert copywriter. You need to writ...   \n",
       "1  You are an expert copywriter. You need to writ...   \n",
       "2  You are an expert copywriter. You need to writ...   \n",
       "3  You are an expert copywriter. You need to writ...   \n",
       "4  You are an expert copywriter. You need to writ...   \n",
       "\n",
       "                                            response  model  \\\n",
       "0  # Yardley of London Moisturizing Soap Sweet Su...  gpt-3   \n",
       "1  # Magick Botanicals Conditioner for Thinning H...  gpt-3   \n",
       "2  # Supernail China Silk Wrap, 72 Inch\\n\\n## Enh...  gpt-3   \n",
       "3  # Stage Blood 4 oz\\n\\n## Realistic Stage Blood...  gpt-3   \n",
       "4  # MERMAID Vegetable Glycerin Bar Soap\\n\\n**Pri...  gpt-3   \n",
       "\n",
       "                                             example  \n",
       "0  {'document': '\\nProduct ID: B000NWD020\\nTitle:...  \n",
       "1  {'document': '\\nProduct ID: B0011DN60Q\\nTitle:...  \n",
       "2  {'document': '\\nProduct ID: B001MP47WE\\nTitle:...  \n",
       "3  {'document': '\\nProduct ID: B002EV3JBU\\nTitle:...  \n",
       "4  {'document': '\\nProduct ID: B00355HFQE\\nTitle:...  "
      ]
     },
     "execution_count": 4,
     "metadata": {},
     "output_type": "execute_result"
    }
   ],
   "source": [
    "# Construct reply df with cols prompt,example,response,model\n",
    "\n",
    "# Load examples from the csv\n",
    "import pandas as pd\n",
    "import os\n",
    "curr_dir = os.getcwd()\n",
    "df = pd.read_csv(f\"{curr_dir}/dataset_graded.csv\")\n",
    "record_list = df.to_dict(orient=\"records\")\n",
    "\n",
    "EXAMPLES = []\n",
    "for record in record_list:\n",
    "    EXAMPLES.append({\n",
    "        \"document\": record[\"Var: document\"],\n",
    "        \"id\": record[\"Metavar: id\"],\n",
    "    })\n",
    "\n",
    "\n",
    "reply_df = df[[\"Prompt\", \"Var: document\", \"Response\"]].copy()\n",
    "reply_df[\"model\"] = \"gpt-3\"\n",
    "reply_df[\"example\"] = reply_df[\"Var: document\"].apply(lambda x: str({\"document\": x}))\n",
    "\n",
    "# Drop the Var: document col\n",
    "reply_df.drop(columns=[\"Var: document\"], inplace=True)\n",
    "\n",
    "# Rename cols\n",
    "reply_df.columns = [\"prompt\", \"response\", \"model\", \"example\"]\n",
    "reply_df.head()"
   ]
  },
  {
   "cell_type": "code",
   "execution_count": 5,
   "metadata": {},
   "outputs": [
    {
     "name": "stdout",
     "output_type": "stream",
     "text": [
      "082e9b8b136b215a0e98a3a78e867789f01711fc94f3e8d10e76a8ff1a01cedc\n",
      "Sleeping for 2 seconds\n",
      "Sleeping for 2 seconds\n",
      "Sleeping for 2 seconds\n",
      "Sleeping for 2 seconds\n",
      "Sleeping for 2 seconds\n",
      "Sleeping for 2 seconds\n",
      "Sleeping for 2 seconds\n",
      "Sleeping for 2 seconds\n",
      "Sleeping for 2 seconds\n",
      "Sleeping for 2 seconds\n",
      "Sleeping for 2 seconds\n",
      "Sleeping for 2 seconds\n",
      "Sleeping for 2 seconds\n",
      "Sleeping for 2 seconds\n",
      "Sleeping for 2 seconds\n",
      "Sleeping for 2 seconds\n",
      "Sleeping for 2 seconds\n",
      "Sleeping for 2 seconds\n",
      "Sleeping for 2 seconds\n",
      "Sleeping for 2 seconds\n",
      "Sleeping for 2 seconds\n",
      "Sleeping for 2 seconds\n",
      "Sleeping for 2 seconds\n",
      "Sleeping for 2 seconds\n",
      "Sleeping for 2 seconds\n",
      "Sleeping for 2 seconds\n",
      "Sleeping for 2 seconds\n",
      "Sleeping for 2 seconds\n",
      "Sleeping for 2 seconds\n",
      "Sleeping for 2 seconds\n",
      "Sleeping for 2 seconds\n",
      "Sleeping for 2 seconds\n",
      "Sleeping for 2 seconds\n",
      "Sleeping for 2 seconds\n",
      "Sleeping for 2 seconds\n",
      "Sleeping for 2 seconds\n",
      "Sleeping for 2 seconds\n",
      "Sleeping for 2 seconds\n",
      "Sleeping for 2 seconds\n",
      "Sleeping for 2 seconds\n",
      "Sleeping for 2 seconds\n",
      "Sleeping for 2 seconds\n",
      "Sleeping for 2 seconds\n",
      "Sleeping for 2 seconds\n",
      "Sleeping for 2 seconds\n",
      "Sleeping for 2 seconds\n",
      "Sleeping for 2 seconds\n",
      "Sleeping for 2 seconds\n",
      "Sleeping for 2 seconds\n",
      "Sleeping for 2 seconds\n",
      "Sleeping for 2 seconds\n",
      "Sleeping for 2 seconds\n",
      "Sleeping for 2 seconds\n",
      "Sleeping for 2 seconds\n",
      "Sleeping for 2 seconds\n",
      "Sleeping for 2 seconds\n",
      "Sleeping for 2 seconds\n",
      "Sleeping for 2 seconds\n",
      "Sleeping for 2 seconds\n",
      "Sleeping for 2 seconds\n",
      "Sleeping for 2 seconds\n",
      "Sleeping for 2 seconds\n",
      "Sleeping for 2 seconds\n",
      "Sleeping for 2 seconds\n",
      "Sleeping for 2 seconds\n",
      "Sleeping for 2 seconds\n",
      "Sleeping for 2 seconds\n",
      "Sleeping for 2 seconds\n",
      "Sleeping for 2 seconds\n",
      "Sleeping for 2 seconds\n",
      "Sleeping for 2 seconds\n",
      "Sleeping for 2 seconds\n",
      "Sleeping for 2 seconds\n",
      "Sleeping for 2 seconds\n",
      "Sleeping for 2 seconds\n",
      "Sleeping for 2 seconds\n",
      "Sleeping for 2 seconds\n",
      "Sleeping for 2 seconds\n",
      "Sleeping for 2 seconds\n",
      "Sleeping for 2 seconds\n",
      "Sleeping for 2 seconds\n",
      "Sleeping for 2 seconds\n",
      "Sleeping for 2 seconds\n",
      "Sleeping for 2 seconds\n",
      "Sleeping for 2 seconds\n",
      "Sleeping for 2 seconds\n",
      "Sleeping for 2 seconds\n",
      "Sleeping for 2 seconds\n",
      "Sleeping for 2 seconds\n",
      "Sleeping for 2 seconds\n",
      "Sleeping for 2 seconds\n",
      "Sleeping for 2 seconds\n",
      "Sleeping for 2 seconds\n",
      "Sleeping for 2 seconds\n",
      "Sleeping for 2 seconds\n",
      "Sleeping for 2 seconds\n",
      "Sleeping for 2 seconds\n",
      "Sleeping for 2 seconds\n",
      "Sleeping for 2 seconds\n",
      "Sleeping for 2 seconds\n"
     ]
    }
   ],
   "source": [
    "from evalgen_experiments.product.candidate_assertions import ALL_FUNCTIONS\n",
    "\n",
    "res = await execute_candidate_assertions(dataset_name, prompt_template_strings[-1], EXAMPLES, ALL_FUNCTIONS, reply_df=reply_df)\n"
   ]
  },
  {
   "cell_type": "code",
   "execution_count": 6,
   "metadata": {},
   "outputs": [
    {
     "data": {
      "text/html": [
       "<pre style=\"white-space:pre;overflow-x:auto;line-height:normal;font-family:Menlo,'DejaVu Sans Mono',consolas,'Courier New',monospace\">Num candidate functions: <span style=\"color: #008080; text-decoration-color: #008080; font-weight: bold\">20</span>\n",
       "</pre>\n"
      ],
      "text/plain": [
       "Num candidate functions: \u001b[1;36m20\u001b[0m\n"
      ]
     },
     "metadata": {},
     "output_type": "display_data"
    },
    {
     "data": {
      "text/html": [
       "<pre style=\"white-space:pre;overflow-x:auto;line-height:normal;font-family:Menlo,'DejaVu Sans Mono',consolas,'Courier New',monospace\">Num good examples: <span style=\"color: #008080; text-decoration-color: #008080; font-weight: bold\">51</span>\n",
       "</pre>\n"
      ],
      "text/plain": [
       "Num good examples: \u001b[1;36m51\u001b[0m\n"
      ]
     },
     "metadata": {},
     "output_type": "display_data"
    },
    {
     "data": {
      "text/html": [
       "<pre style=\"white-space:pre;overflow-x:auto;line-height:normal;font-family:Menlo,'DejaVu Sans Mono',consolas,'Courier New',monospace\">Num bad examples: <span style=\"color: #008080; text-decoration-color: #008080; font-weight: bold\">49</span>\n",
       "</pre>\n"
      ],
      "text/plain": [
       "Num bad examples: \u001b[1;36m49\u001b[0m\n"
      ]
     },
     "metadata": {},
     "output_type": "display_data"
    }
   ],
   "source": [
    "label_df = pd.DataFrame({\"response\": df[\"Response\"].values, \"label\": df[\"grade\"].values})\n",
    "# Print stats\n",
    "print(f\"Num candidate functions: {len(ALL_FUNCTIONS)}\")\n",
    "print(f\"Num good examples: {len(label_df[label_df['label'] == 1])}\")\n",
    "print(f\"Num bad examples: {len(label_df[label_df['label'] == 0])}\")\n",
    "\n",
    "optimizer_dict = prepare_for_optimizer(res, label_df)"
   ]
  },
  {
   "cell_type": "code",
   "execution_count": 7,
   "metadata": {},
   "outputs": [],
   "source": [
    "# Pickle all the results\n",
    "import inspect\n",
    "\n",
    "path_name = f\"/Users/shreyashankar/Documents/projects/spade-experiments/evalgen_experiments/{dataset_name}/optimizer_input.pkl\"\n",
    "\n",
    "# optimizer_dict[\"K\"] = K\n",
    "optimizer_dict[\"spade_functions\"] = {func.__name__: inspect.getsource(func) for func in ALL_FUNCTIONS}\n",
    "import pickle\n",
    "\n",
    "with open(path_name, \"wb\") as f:\n",
    "    pickle.dump(optimizer_dict, f)"
   ]
  },
  {
   "cell_type": "markdown",
   "metadata": {},
   "source": [
    "## Evaluating Subsumption With High Precision"
   ]
  },
  {
   "cell_type": "code",
   "execution_count": 8,
   "metadata": {},
   "outputs": [
    {
     "name": "stdout",
     "output_type": "stream",
     "text": [
      "Based on the descriptions and functionality of the assertion functions provided, the following pairs of functions are redundant or one implies the other:\n",
      "\n",
      "1. `assert_approx_200_words(response: str)` and `assert_proper_length(response: str)`:\n",
      "- `assert_proper_length` implies `assert_approx_200_words` because `assert_proper_length` checks for 200 to 300 words which includes the range of \"approximately 200\" words (180 to 220) that `assert_approx_200_words` checks for. However, the reverse is not true because `assert_proper_length` also allows up to 300 words.\n",
      "\n",
      "2. `assert_markdown_format_a(response: str)` and `assert_markdown_formatting_b(response: str)`:\n",
      "- Not all Markdown features are checked similarly, but `assert_markdown_formatting_b` requires the response to start with a header `# ` and have at least one subheader, these are also criteria in `assert_markdown_format_a`. This means if `assert_markdown_formatting_b` returns True, there must be at least one header and one subheader, so part of what `assert_markdown_format_a` checks for is covered. Still, `assert_markdown_format_a` does not imply `assert_markdown_formatting_b` because `assert_markdown_format_a` doesn't require the response to start with a header or necessarily contain a subheader.\n",
      "\n",
      "3. `assert_includes_features_and_benefits(response: str)` and `assert_features_and_benefits_distinction(response: str)`:\n",
      "- These function names suggest a focus on features and benefits, but they do not imply each other. The former asserts that both features and benefits are included, but not necessarily distinguished. The latter checks for a clear distinction between the two, which does not necessarily mean they are both included.\n",
      "\n",
      "4. `assert_distinguishes_features_benefits(response: str)` and `assert_features_and_benefits_distinction(response: str)`:\n",
      "- These two functions check for a distinction between features and benefits, so they imply each other. Both are looking for clarity in how features and benefits are described and delineated.\n",
      "\n",
      "5. `assert_not_mention_weaknesses(response: str)` and `assert_no_weakness_mention(response: str)`:\n",
      "- Both of these functions are checking to ensure that no weaknesses of the product are mentioned in the response. Therefore, they imply each other.\n",
      "\n",
      "6. `assert_readable_chunks_with_subheadings_a(response: str)` and `assert_readable_chunks_with_subheadings_b(response: str)`:\n",
      "- These functions both check for the presence of subheadings dividing the text, although they use slightly different criteria. `assert_readable_chunks_with_subheadings_b` implies `assert_readable_chunks_with_subheadings_a` if we assume that \"## \" occurs with double newlines as it checks for a subheading and a formatting style, but not vice versa since `assert_readable_chunks_with_subheadings_a` does not consider the content beyond the hashes.\n",
      "\n",
      "7. `assert_avoid_generic_repetitive_language(response: str)` and `assert_no_generic_repetitive_language_a(response: str)`:\n",
      "- These functions both aim to avoid generic or repetitive language. However, they do not strictly imply each other because they could use different thresholds or definitions for what constitutes generic or repetitive language.\n",
      "\n",
      "8. `assert_no_overpromise(response: str)` does not seem to have a direct implication pair within these functions based on the descriptions provided.\n",
      "\n",
      "9. `assert_seo_optimized(response: str)` does not seem to have a direct implication pair within these functions based on the descriptions provided.\n",
      "\n",
      "10. `assert_no_fabricated_reviews(response: str)` does not seem to have a direct implication pair within these functions based on the descriptions provided.\n",
      "\n",
      "11. `assert_no_links_in_response(response: str)` does not seem to have a direct implication pair within these functions based on the descriptions provided.\n",
      "\n",
      "12. `assert_reviews_not_overcited(response: str)` does not seem to have a direct implication pair within these functions based on the descriptions provided.\n",
      "\n",
      "13. `assert_active_voice(response: str)` does not seem to have a direct implication pair within these functions based on the descriptions provided.\n",
      "\n",
      "14. `assert_includes_unique_selling_points_and_cta(response: str)` does not seem to have a direct implication pair within these functions based on the descriptions provided.\n",
      "\n",
      "In conclusion:\n",
      "- `assert_proper_length` implies `assert_approx_200_words`\n",
      "- `assert_markdown_formatting_b` implies part of `assert_markdown_format_a`\n",
      "- `assert_distinguishes_features_benefits` implies `assert_features_and_benefits_distinction` and vice versa\n",
      "- `assert_not_mention_weaknesses` implies `assert_no_weakness_mention` and vice versa\n",
      "- `assert_readable_chunks_with_subheadings_b` partly implies `assert_readable_chunks_with_subheadings_a`, depending on the document structure\n",
      "\n",
      "Remaining functions appear unique in their checks or do not strictly imply each other based on their descriptions.\n",
      "```json\n",
      "[\n",
      "    (\"assert_proper_length\", \"assert_approx_200_words\"),\n",
      "    (\"assert_markdown_formatting_b\", \"assert_markdown_format_a\"),\n",
      "    (\"assert_distinguishes_features_benefits\", \"assert_features_and_benefits_distinction\"),\n",
      "    (\"assert_features_and_benefits_distinction\", \"assert_distinguishes_features_benefits\"),\n",
      "    (\"assert_not_mention_weaknesses\", \"assert_no_weakness_mention\"),\n",
      "    (\"assert_no_weakness_mention\", \"assert_not_mention_weaknesses\"),\n",
      "    (\"assert_readable_chunks_with_subheadings_b\", \"assert_readable_chunks_with_subheadings_a\")\n",
      "]\n",
      "```\n",
      "[\n",
      "    (\"assert_proper_length\", \"assert_approx_200_words\"),\n",
      "    (\"assert_markdown_formatting_b\", \"assert_markdown_format_a\"),\n",
      "    (\"assert_distinguishes_features_benefits\", \"assert_features_and_benefits_distinction\"),\n",
      "    (\"assert_features_and_benefits_distinction\", \"assert_distinguishes_features_benefits\"),\n",
      "    (\"assert_not_mention_weaknesses\", \"assert_no_weakness_mention\"),\n",
      "    (\"assert_no_weakness_mention\", \"assert_not_mention_weaknesses\"),\n",
      "    (\"assert_readable_chunks_with_subheadings_b\", \"assert_readable_chunks_with_subheadings_a\")\n",
      "]\n"
     ]
    },
    {
     "data": {
      "text/plain": [
       "0.0175"
      ]
     },
     "execution_count": 8,
     "metadata": {},
     "output_type": "execute_result"
    }
   ],
   "source": [
    "from spade.check_subsumes import identify_subsumption_pairs\n",
    "from evalgen_experiments.product.candidate_assertions import ALL_FUNCTIONS\n",
    "import pickle\n",
    "\n",
    "dataset_name = \"product\"\n",
    "path_name = f\"/Users/shreyashankar/Documents/projects/spade-experiments/evalgen_experiments/{dataset_name}/optimizer_input.pkl\"\n",
    "with open(path_name, \"rb\") as f:\n",
    "    optimizer_dict = pickle.load(f)\n",
    "K_and_pretty_df = await identify_subsumption_pairs(optimizer_dict[\"M\"], ALL_FUNCTIONS, optimizer_dict[\"func_order\"])\n",
    "\n",
    "K_and_pretty_df[\"K\"].sum() / (K_and_pretty_df[\"K\"].shape[0] * K_and_pretty_df[\"K\"].shape[1])"
   ]
  },
  {
   "cell_type": "code",
   "execution_count": 9,
   "metadata": {},
   "outputs": [
    {
     "name": "stdout",
     "output_type": "stream",
     "text": [
      "Welcome to the CBC MILP Solver \n",
      "Version: 2.10.3 \n",
      "Build Date: Dec 15 2019 \n",
      "\n",
      "command line - /Users/shreyashankar/miniforge3/envs/promptdelta/lib/python3.10/site-packages/pulp/solverdir/cbc/osx/64/cbc /var/folders/nq/ldkhrrws0xb9whw7b6rpzhc00000gn/T/4afdd655646f4e3e97519de262ded34d-pulp.mps timeMode elapsed branch printingOptions all solution /var/folders/nq/ldkhrrws0xb9whw7b6rpzhc00000gn/T/4afdd655646f4e3e97519de262ded34d-pulp.sol (default strategy 1)\n",
      "At line 2 NAME          MODEL\n",
      "At line 3 ROWS\n",
      "At line 4056 COLUMNS\n",
      "At line 15415 RHS\n",
      "At line 19467 BOUNDS\n",
      "At line 21637 ENDATA\n",
      "Problem MODEL has 4051 rows, 2169 columns and 7000 elements\n",
      "Coin0008I MODEL read with 0 errors\n",
      "Option for timeMode changed from cpu to elapsed\n",
      "Continuous objective value is 0.2 - 0.01 seconds\n",
      "Cgl0002I 1149 variables fixed\n",
      "Cgl0003I 46 fixed, 0 tightened bounds, 48 strengthened rows, 0 substitutions\n",
      "Cgl0003I 57 fixed, 0 tightened bounds, 0 strengthened rows, 0 substitutions\n",
      "Cgl0003I 13 fixed, 0 tightened bounds, 0 strengthened rows, 0 substitutions\n",
      "Cgl0004I processed model has 0 rows, 0 columns (0 integer (0 of which binary)) and 0 elements\n",
      "Cbc3007W No integer variables - nothing to do\n",
      "Cuts at root node changed objective from 2 to -1.79769e+308\n",
      "Probing was tried 0 times and created 0 cuts of which 0 were active after adding rounds of cuts (0.000 seconds)\n",
      "Gomory was tried 0 times and created 0 cuts of which 0 were active after adding rounds of cuts (0.000 seconds)\n",
      "Knapsack was tried 0 times and created 0 cuts of which 0 were active after adding rounds of cuts (0.000 seconds)\n",
      "Clique was tried 0 times and created 0 cuts of which 0 were active after adding rounds of cuts (0.000 seconds)\n",
      "MixedIntegerRounding2 was tried 0 times and created 0 cuts of which 0 were active after adding rounds of cuts (0.000 seconds)\n",
      "FlowCover was tried 0 times and created 0 cuts of which 0 were active after adding rounds of cuts (0.000 seconds)\n",
      "TwoMirCuts was tried 0 times and created 0 cuts of which 0 were active after adding rounds of cuts (0.000 seconds)\n",
      "ZeroHalf was tried 0 times and created 0 cuts of which 0 were active after adding rounds of cuts (0.000 seconds)\n",
      "\n",
      "Result - Optimal solution found\n",
      "\n",
      "Objective value:                2.00000000\n",
      "Enumerated nodes:               0\n",
      "Total iterations:               6\n",
      "Time (CPU seconds):             0.03\n",
      "Time (Wallclock seconds):       0.04\n",
      "\n",
      "Option for printingOptions changed from normal to all\n",
      "Total time (CPU seconds):       0.04   (Wallclock seconds):       0.06\n",
      "\n"
     ]
    },
    {
     "data": {
      "text/html": [
       "<pre style=\"white-space:pre;overflow-x:auto;line-height:normal;font-family:Menlo,'DejaVu Sans Mono',consolas,'Courier New',monospace\">Solution Found:\n",
       "</pre>\n"
      ],
      "text/plain": [
       "Solution Found:\n"
      ]
     },
     "metadata": {},
     "output_type": "display_data"
    },
    {
     "data": {
      "text/html": [
       "<pre style=\"white-space:pre;overflow-x:auto;line-height:normal;font-family:Menlo,'DejaVu Sans Mono',consolas,'Courier New',monospace\">Selected Functions: <span style=\"font-weight: bold\">[</span><span style=\"color: #008080; text-decoration-color: #008080; font-weight: bold\">2</span>, <span style=\"color: #008080; text-decoration-color: #008080; font-weight: bold\">11</span><span style=\"font-weight: bold\">]</span>\n",
       "</pre>\n"
      ],
      "text/plain": [
       "Selected Functions: \u001b[1m[\u001b[0m\u001b[1;36m2\u001b[0m, \u001b[1;36m11\u001b[0m\u001b[1m]\u001b[0m\n"
      ]
     },
     "metadata": {},
     "output_type": "display_data"
    },
    {
     "name": "stdout",
     "output_type": "stream",
     "text": [
      "Welcome to the CBC MILP Solver \n",
      "Version: 2.10.3 \n",
      "Build Date: Dec 15 2019 \n",
      "\n",
      "command line - /Users/shreyashankar/miniforge3/envs/promptdelta/lib/python3.10/site-packages/pulp/solverdir/cbc/osx/64/cbc /var/folders/nq/ldkhrrws0xb9whw7b6rpzhc00000gn/T/9ab1f9ac6f7549d28f00d6bb9b9bb75a-pulp.mps timeMode elapsed branch printingOptions all solution /var/folders/nq/ldkhrrws0xb9whw7b6rpzhc00000gn/T/9ab1f9ac6f7549d28f00d6bb9b9bb75a-pulp.sol (default strategy 1)\n",
      "At line 2 NAME          MODEL\n",
      "At line 3 ROWS\n",
      "At line 4916 COLUMNS\n",
      "At line 18862 RHS\n",
      "At line 23774 BOUNDS\n",
      "At line 26384 ENDATA\n",
      "Problem MODEL has 4911 rows, 2609 columns and 8707 elements\n",
      "Coin0008I MODEL read with 0 errors\n",
      "Option for timeMode changed from cpu to elapsed\n",
      "Continuous objective value is 12.7146 - 0.01 seconds\n",
      "Cgl0002I 1555 variables fixed\n",
      "Cgl0003I 51 fixed, 0 tightened bounds, 0 strengthened rows, 4 substitutions\n",
      "Cgl0003I 2 fixed, 0 tightened bounds, 0 strengthened rows, 0 substitutions\n",
      "Cgl0003I 4 fixed, 0 tightened bounds, 0 strengthened rows, 0 substitutions\n",
      "Cgl0003I 63 fixed, 0 tightened bounds, 0 strengthened rows, 7 substitutions\n",
      "Cgl0003I 2 fixed, 0 tightened bounds, 0 strengthened rows, 0 substitutions\n",
      "Cgl0004I processed model has 0 rows, 0 columns (0 integer (0 of which binary)) and 0 elements\n",
      "Cbc3007W No integer variables - nothing to do\n",
      "Cuts at root node changed objective from 14 to -1.79769e+308\n",
      "Probing was tried 0 times and created 0 cuts of which 0 were active after adding rounds of cuts (0.000 seconds)\n",
      "Gomory was tried 0 times and created 0 cuts of which 0 were active after adding rounds of cuts (0.000 seconds)\n",
      "Knapsack was tried 0 times and created 0 cuts of which 0 were active after adding rounds of cuts (0.000 seconds)\n",
      "Clique was tried 0 times and created 0 cuts of which 0 were active after adding rounds of cuts (0.000 seconds)\n",
      "MixedIntegerRounding2 was tried 0 times and created 0 cuts of which 0 were active after adding rounds of cuts (0.000 seconds)\n",
      "FlowCover was tried 0 times and created 0 cuts of which 0 were active after adding rounds of cuts (0.000 seconds)\n",
      "TwoMirCuts was tried 0 times and created 0 cuts of which 0 were active after adding rounds of cuts (0.000 seconds)\n",
      "ZeroHalf was tried 0 times and created 0 cuts of which 0 were active after adding rounds of cuts (0.000 seconds)\n",
      "\n",
      "Result - Optimal solution found\n",
      "\n",
      "Objective value:                14.00000000\n",
      "Enumerated nodes:               0\n",
      "Total iterations:               94\n",
      "Time (CPU seconds):             0.03\n",
      "Time (Wallclock seconds):       0.03\n",
      "\n",
      "Option for printingOptions changed from normal to all\n",
      "Total time (CPU seconds):       0.04   (Wallclock seconds):       0.05\n",
      "\n"
     ]
    },
    {
     "name": "stderr",
     "output_type": "stream",
     "text": [
      "/Users/shreyashankar/miniforge3/envs/promptdelta/lib/python3.10/site-packages/pulp/pulp.py:1704: UserWarning: Overwriting previously set objective.\n",
      "  warnings.warn(\"Overwriting previously set objective.\")\n"
     ]
    },
    {
     "data": {
      "text/html": [
       "<pre style=\"white-space:pre;overflow-x:auto;line-height:normal;font-family:Menlo,'DejaVu Sans Mono',consolas,'Courier New',monospace\">Solution Found:\n",
       "</pre>\n"
      ],
      "text/plain": [
       "Solution Found:\n"
      ]
     },
     "metadata": {},
     "output_type": "display_data"
    },
    {
     "data": {
      "text/html": [
       "<pre style=\"white-space:pre;overflow-x:auto;line-height:normal;font-family:Menlo,'DejaVu Sans Mono',consolas,'Courier New',monospace\">Selected Functions: <span style=\"font-weight: bold\">[</span><span style=\"color: #008080; text-decoration-color: #008080; font-weight: bold\">2</span>, <span style=\"color: #008080; text-decoration-color: #008080; font-weight: bold\">6</span>, <span style=\"color: #008080; text-decoration-color: #008080; font-weight: bold\">9</span>, <span style=\"color: #008080; text-decoration-color: #008080; font-weight: bold\">11</span>, <span style=\"color: #008080; text-decoration-color: #008080; font-weight: bold\">13</span><span style=\"font-weight: bold\">]</span>\n",
       "</pre>\n"
      ],
      "text/plain": [
       "Selected Functions: \u001b[1m[\u001b[0m\u001b[1;36m2\u001b[0m, \u001b[1;36m6\u001b[0m, \u001b[1;36m9\u001b[0m, \u001b[1;36m11\u001b[0m, \u001b[1;36m13\u001b[0m\u001b[1m]\u001b[0m\n"
      ]
     },
     "metadata": {},
     "output_type": "display_data"
    },
    {
     "data": {
      "text/html": [
       "<pre style=\"white-space:pre;overflow-x:auto;line-height:normal;font-family:Menlo,'DejaVu Sans Mono',consolas,'Courier New',monospace\">       method       ffr  example failure coverage  frac_functions_selected  \\\n",
       "<span style=\"color: #008080; text-decoration-color: #008080; font-weight: bold\">0</span>  spade_base  <span style=\"color: #008080; text-decoration-color: #008080; font-weight: bold\">0.235294</span>                  <span style=\"color: #008080; text-decoration-color: #008080; font-weight: bold\">0.306122</span>                     <span style=\"color: #008080; text-decoration-color: #008080; font-weight: bold\">0.40</span>   \n",
       "<span style=\"color: #008080; text-decoration-color: #008080; font-weight: bold\">1</span>   spade_cov  <span style=\"color: #008080; text-decoration-color: #008080; font-weight: bold\">0.098039</span>                  <span style=\"color: #008080; text-decoration-color: #008080; font-weight: bold\">0.204082</span>                     <span style=\"color: #008080; text-decoration-color: #008080; font-weight: bold\">0.10</span>   \n",
       "<span style=\"color: #008080; text-decoration-color: #008080; font-weight: bold\">2</span>   spade_sub  <span style=\"color: #008080; text-decoration-color: #008080; font-weight: bold\">0.098039</span>                  <span style=\"color: #008080; text-decoration-color: #008080; font-weight: bold\">0.204082</span>                     <span style=\"color: #008080; text-decoration-color: #008080; font-weight: bold\">0.25</span>   \n",
       "\n",
       "   frac_non_subsumed_excluded_functions  \n",
       "<span style=\"color: #008080; text-decoration-color: #008080; font-weight: bold\">0</span>                                  <span style=\"color: #008080; text-decoration-color: #008080; font-weight: bold\">0.00</span>  \n",
       "<span style=\"color: #008080; text-decoration-color: #008080; font-weight: bold\">1</span>                                  <span style=\"color: #008080; text-decoration-color: #008080; font-weight: bold\">0.15</span>  \n",
       "<span style=\"color: #008080; text-decoration-color: #008080; font-weight: bold\">2</span>                                  <span style=\"color: #008080; text-decoration-color: #008080; font-weight: bold\">0.00</span>  \n",
       "</pre>\n"
      ],
      "text/plain": [
       "       method       ffr  example failure coverage  frac_functions_selected  \\\n",
       "\u001b[1;36m0\u001b[0m  spade_base  \u001b[1;36m0.235294\u001b[0m                  \u001b[1;36m0.306122\u001b[0m                     \u001b[1;36m0.40\u001b[0m   \n",
       "\u001b[1;36m1\u001b[0m   spade_cov  \u001b[1;36m0.098039\u001b[0m                  \u001b[1;36m0.204082\u001b[0m                     \u001b[1;36m0.10\u001b[0m   \n",
       "\u001b[1;36m2\u001b[0m   spade_sub  \u001b[1;36m0.098039\u001b[0m                  \u001b[1;36m0.204082\u001b[0m                     \u001b[1;36m0.25\u001b[0m   \n",
       "\n",
       "   frac_non_subsumed_excluded_functions  \n",
       "\u001b[1;36m0\u001b[0m                                  \u001b[1;36m0.00\u001b[0m  \n",
       "\u001b[1;36m1\u001b[0m                                  \u001b[1;36m0.15\u001b[0m  \n",
       "\u001b[1;36m2\u001b[0m                                  \u001b[1;36m0.00\u001b[0m  \n"
      ]
     },
     "metadata": {},
     "output_type": "display_data"
    }
   ],
   "source": [
    "# Pickle all the results\n",
    "import inspect\n",
    "from spade.optimizer import select_functions\n",
    "\n",
    "path_name = f\"/Users/shreyashankar/Documents/projects/spade-experiments/evalgen_experiments/{dataset_name}/optimizer_input.pkl\"\n",
    "\n",
    "optimizer_dict[\"K\"] = K_and_pretty_df[\"K\"]\n",
    "optimizer_dict[\"spade_functions\"] = {func.__name__: inspect.getsource(func) for func in ALL_FUNCTIONS}\n",
    "import pickle\n",
    "\n",
    "with open(path_name, \"wb\") as f:\n",
    "    pickle.dump(optimizer_dict, f)\n",
    "    \n",
    "# Dump subsumption df\n",
    "K_and_pretty_df[\"human_readable_results\"].to_csv(f\"/Users/shreyashankar/Documents/projects/spade-experiments/evalgen_experiments/{dataset_name}/subsumption_results.csv\", index=False)\n",
    "\n",
    "# Solve the optimization problem\n",
    "optimizer_res = select_functions(path_name, tau=0.11, alpha=0.2)\n",
    "\n",
    "# Turn into DF\n",
    "import pandas as pd\n",
    "\n",
    "optimizer_res_df = []\n",
    "for method in [\"spade_base\", \"spade_cov\", \"spade_sub\"]:\n",
    "    optimizer_res_df.append({\"method\": method, \"ffr\": optimizer_res[method][\"ffr\"], \"example failure coverage\": optimizer_res[method][\"coverage\"], \"frac_functions_selected\": optimizer_res[method][\"frac_functions_selected\"], \"frac_non_subsumed_excluded_functions\": optimizer_res[method][\"frac_non_subsumed_excluded_functions\"]})\n",
    "    \n",
    "optimizer_res_df = pd.DataFrame(optimizer_res_df)\n",
    "print(optimizer_res_df)\n",
    "\n",
    "# Pickle the results\n",
    "# import pickle\n",
    "# with open(f\"/Users/shreyashankar/Documents/projects/promptdelta/paper_experiments/{dataset_name}/optimizer_results.pkl\", \"wb\") as f:\n",
    "#     pickle.dump(optimizer_res, f)"
   ]
  },
  {
   "cell_type": "code",
   "execution_count": 10,
   "metadata": {},
   "outputs": [
    {
     "data": {
      "text/html": [
       "<pre style=\"white-space:pre;overflow-x:auto;line-height:normal;font-family:Menlo,'DejaVu Sans Mono',consolas,'Courier New',monospace\">spade_base\n",
       "</pre>\n"
      ],
      "text/plain": [
       "spade_base\n"
      ]
     },
     "metadata": {},
     "output_type": "display_data"
    },
    {
     "data": {
      "text/html": [
       "<pre style=\"white-space:pre;overflow-x:auto;line-height:normal;font-family:Menlo,'DejaVu Sans Mono',consolas,'Courier New',monospace\"><span style=\"font-weight: bold\">[</span>\n",
       "    <span style=\"color: #008000; text-decoration-color: #008000\">'assert_avoid_generic_repetitive_language'</span>,\n",
       "    <span style=\"color: #008000; text-decoration-color: #008000\">'assert_includes_features_and_benefits'</span>,\n",
       "    <span style=\"color: #008000; text-decoration-color: #008000\">'assert_includes_unique_selling_points_and_cta'</span>,\n",
       "    <span style=\"color: #008000; text-decoration-color: #008000\">'assert_no_fabricated_reviews'</span>,\n",
       "    <span style=\"color: #008000; text-decoration-color: #008000\">'assert_no_links_in_response'</span>,\n",
       "    <span style=\"color: #008000; text-decoration-color: #008000\">'assert_no_weakness_mention'</span>,\n",
       "    <span style=\"color: #008000; text-decoration-color: #008000\">'assert_readable_chunks_with_subheadings_a'</span>,\n",
       "    <span style=\"color: #008000; text-decoration-color: #008000\">'assert_readable_chunks_with_subheadings_b'</span>\n",
       "<span style=\"font-weight: bold\">]</span>\n",
       "</pre>\n"
      ],
      "text/plain": [
       "\u001b[1m[\u001b[0m\n",
       "    \u001b[32m'assert_avoid_generic_repetitive_language'\u001b[0m,\n",
       "    \u001b[32m'assert_includes_features_and_benefits'\u001b[0m,\n",
       "    \u001b[32m'assert_includes_unique_selling_points_and_cta'\u001b[0m,\n",
       "    \u001b[32m'assert_no_fabricated_reviews'\u001b[0m,\n",
       "    \u001b[32m'assert_no_links_in_response'\u001b[0m,\n",
       "    \u001b[32m'assert_no_weakness_mention'\u001b[0m,\n",
       "    \u001b[32m'assert_readable_chunks_with_subheadings_a'\u001b[0m,\n",
       "    \u001b[32m'assert_readable_chunks_with_subheadings_b'\u001b[0m\n",
       "\u001b[1m]\u001b[0m\n"
      ]
     },
     "metadata": {},
     "output_type": "display_data"
    },
    {
     "data": {
      "text/html": [
       "<pre style=\"white-space:pre;overflow-x:auto;line-height:normal;font-family:Menlo,'DejaVu Sans Mono',consolas,'Courier New',monospace\">async def <span style=\"color: #800080; text-decoration-color: #800080; font-weight: bold\">assert_avoid_generic_repetitive_language</span><span style=\"font-weight: bold\">(</span>response: str<span style=\"font-weight: bold\">)</span> -&gt; bool:\n",
       "    <span style=\"color: #008000; text-decoration-color: #008000\">\"\"</span>\"\n",
       "    Check if the response avoids using generic or repetitive language.\n",
       "    <span style=\"color: #008000; text-decoration-color: #008000\">\"\"</span>\"\n",
       "    question = <span style=\"color: #008000; text-decoration-color: #008000\">\"Does the response avoid using generic or repetitive language?\"</span>\n",
       "    return await <span style=\"color: #800080; text-decoration-color: #800080; font-weight: bold\">ask_llm</span><span style=\"font-weight: bold\">(</span>response, question<span style=\"font-weight: bold\">)</span>\n",
       "\n",
       "</pre>\n"
      ],
      "text/plain": [
       "async def \u001b[1;35massert_avoid_generic_repetitive_language\u001b[0m\u001b[1m(\u001b[0mresponse: str\u001b[1m)\u001b[0m -> bool:\n",
       "    \u001b[32m\"\"\u001b[0m\"\n",
       "    Check if the response avoids using generic or repetitive language.\n",
       "    \u001b[32m\"\"\u001b[0m\"\n",
       "    question = \u001b[32m\"Does the response avoid using generic or repetitive language?\"\u001b[0m\n",
       "    return await \u001b[1;35mask_llm\u001b[0m\u001b[1m(\u001b[0mresponse, question\u001b[1m)\u001b[0m\n",
       "\n"
      ]
     },
     "metadata": {},
     "output_type": "display_data"
    },
    {
     "data": {
      "text/html": [
       "<pre style=\"white-space:pre;overflow-x:auto;line-height:normal;font-family:Menlo,'DejaVu Sans Mono',consolas,'Courier New',monospace\">async def <span style=\"color: #800080; text-decoration-color: #800080; font-weight: bold\">assert_includes_features_and_benefits</span><span style=\"font-weight: bold\">(</span>response: str<span style=\"font-weight: bold\">)</span> -&gt; bool:\n",
       "    <span style=\"color: #008000; text-decoration-color: #008000\">\"\"</span>\"\n",
       "    Check if the response includes both the product's features and benefits.\n",
       "    <span style=\"color: #008000; text-decoration-color: #008000\">\"\"</span>\"\n",
       "    question = <span style=\"color: #008000; text-decoration-color: #008000\">\"Does the response include both the product's features and benefits?\"</span>\n",
       "    return await <span style=\"color: #800080; text-decoration-color: #800080; font-weight: bold\">ask_llm</span><span style=\"font-weight: bold\">(</span>response, question<span style=\"font-weight: bold\">)</span>\n",
       "\n",
       "</pre>\n"
      ],
      "text/plain": [
       "async def \u001b[1;35massert_includes_features_and_benefits\u001b[0m\u001b[1m(\u001b[0mresponse: str\u001b[1m)\u001b[0m -> bool:\n",
       "    \u001b[32m\"\"\u001b[0m\"\n",
       "    Check if the response includes both the product's features and benefits.\n",
       "    \u001b[32m\"\"\u001b[0m\"\n",
       "    question = \u001b[32m\"Does the response include both the product's features and benefits?\"\u001b[0m\n",
       "    return await \u001b[1;35mask_llm\u001b[0m\u001b[1m(\u001b[0mresponse, question\u001b[1m)\u001b[0m\n",
       "\n"
      ]
     },
     "metadata": {},
     "output_type": "display_data"
    },
    {
     "data": {
      "text/html": [
       "<pre style=\"white-space:pre;overflow-x:auto;line-height:normal;font-family:Menlo,'DejaVu Sans Mono',consolas,'Courier New',monospace\">async def <span style=\"color: #800080; text-decoration-color: #800080; font-weight: bold\">assert_includes_unique_selling_points_and_cta</span><span style=\"font-weight: bold\">(</span>response: str<span style=\"font-weight: bold\">)</span> -&gt; bool:\n",
       "    <span style=\"color: #008000; text-decoration-color: #008000\">\"\"</span>\"\n",
       "    Check if the response includes the product's unique selling points and a call to action for the buyer.\n",
       "    <span style=\"color: #008000; text-decoration-color: #008000\">\"\"</span>\"\n",
       "    question = <span style=\"color: #008000; text-decoration-color: #008000\">\"Does the response include the product's unique selling points and a call to action for the buyer?\"</span>\n",
       "    return await <span style=\"color: #800080; text-decoration-color: #800080; font-weight: bold\">ask_llm</span><span style=\"font-weight: bold\">(</span>response, question<span style=\"font-weight: bold\">)</span>\n",
       "\n",
       "</pre>\n"
      ],
      "text/plain": [
       "async def \u001b[1;35massert_includes_unique_selling_points_and_cta\u001b[0m\u001b[1m(\u001b[0mresponse: str\u001b[1m)\u001b[0m -> bool:\n",
       "    \u001b[32m\"\"\u001b[0m\"\n",
       "    Check if the response includes the product's unique selling points and a call to action for the buyer.\n",
       "    \u001b[32m\"\"\u001b[0m\"\n",
       "    question = \u001b[32m\"Does the response include the product's unique selling points and a call to action for the buyer?\"\u001b[0m\n",
       "    return await \u001b[1;35mask_llm\u001b[0m\u001b[1m(\u001b[0mresponse, question\u001b[1m)\u001b[0m\n",
       "\n"
      ]
     },
     "metadata": {},
     "output_type": "display_data"
    },
    {
     "data": {
      "text/html": [
       "<pre style=\"white-space:pre;overflow-x:auto;line-height:normal;font-family:Menlo,'DejaVu Sans Mono',consolas,'Courier New',monospace\">async def <span style=\"color: #800080; text-decoration-color: #800080; font-weight: bold\">assert_no_fabricated_reviews</span><span style=\"font-weight: bold\">(</span>response: str<span style=\"font-weight: bold\">)</span>:\n",
       "    <span style=\"color: #008000; text-decoration-color: #008000\">\"\"</span>\"\n",
       "    Check that the response does not contain fabricated review text or quotes.\n",
       "    <span style=\"color: #008000; text-decoration-color: #008000\">\"\"</span>\"\n",
       "    return not <span style=\"color: #800080; text-decoration-color: #800080; font-weight: bold\">any</span><span style=\"font-weight: bold\">(</span>fake_review in response for fake_review in <span style=\"font-weight: bold\">[</span><span style=\"color: #008000; text-decoration-color: #008000\">\"5/5\"</span>, <span style=\"color: #008000; text-decoration-color: #008000\">\"4/5\"</span>, <span style=\"color: #008000; text-decoration-color: #008000\">\"*sigh*\"</span><span style=\"font-weight: bold\">])</span>\n",
       "\n",
       "</pre>\n"
      ],
      "text/plain": [
       "async def \u001b[1;35massert_no_fabricated_reviews\u001b[0m\u001b[1m(\u001b[0mresponse: str\u001b[1m)\u001b[0m:\n",
       "    \u001b[32m\"\"\u001b[0m\"\n",
       "    Check that the response does not contain fabricated review text or quotes.\n",
       "    \u001b[32m\"\"\u001b[0m\"\n",
       "    return not \u001b[1;35many\u001b[0m\u001b[1m(\u001b[0mfake_review in response for fake_review in \u001b[1m[\u001b[0m\u001b[32m\"5/5\"\u001b[0m, \u001b[32m\"4/5\"\u001b[0m, \u001b[32m\"*sigh*\"\u001b[0m\u001b[1m]\u001b[0m\u001b[1m)\u001b[0m\n",
       "\n"
      ]
     },
     "metadata": {},
     "output_type": "display_data"
    },
    {
     "data": {
      "text/html": [
       "<pre style=\"white-space:pre;overflow-x:auto;line-height:normal;font-family:Menlo,'DejaVu Sans Mono',consolas,'Courier New',monospace\">async def <span style=\"color: #800080; text-decoration-color: #800080; font-weight: bold\">assert_no_links_in_response</span><span style=\"font-weight: bold\">(</span>response: str<span style=\"font-weight: bold\">)</span>:\n",
       "    <span style=\"color: #008000; text-decoration-color: #008000\">\"\"</span>\"\n",
       "    Check that the response does not contain any links.\n",
       "    <span style=\"color: #008000; text-decoration-color: #008000\">\"\"</span>\"\n",
       "    return <span style=\"color: #008000; text-decoration-color: #008000\">\"http://\"</span> not in response and <span style=\"color: #008000; text-decoration-color: #008000\">\"https://\"</span> not in response\n",
       "\n",
       "</pre>\n"
      ],
      "text/plain": [
       "async def \u001b[1;35massert_no_links_in_response\u001b[0m\u001b[1m(\u001b[0mresponse: str\u001b[1m)\u001b[0m:\n",
       "    \u001b[32m\"\"\u001b[0m\"\n",
       "    Check that the response does not contain any links.\n",
       "    \u001b[32m\"\"\u001b[0m\"\n",
       "    return \u001b[32m\"http://\"\u001b[0m not in response and \u001b[32m\"https://\"\u001b[0m not in response\n",
       "\n"
      ]
     },
     "metadata": {},
     "output_type": "display_data"
    },
    {
     "data": {
      "text/html": [
       "<pre style=\"white-space:pre;overflow-x:auto;line-height:normal;font-family:Menlo,'DejaVu Sans Mono',consolas,'Courier New',monospace\">async def <span style=\"color: #800080; text-decoration-color: #800080; font-weight: bold\">assert_no_weakness_mention</span><span style=\"font-weight: bold\">(</span>response: str<span style=\"font-weight: bold\">)</span>:\n",
       "    <span style=\"color: #008000; text-decoration-color: #008000\">\"\"</span>\"\n",
       "    Check that the response does not mention any weaknesses of the product.\n",
       "    <span style=\"color: #008000; text-decoration-color: #008000\">\"\"</span>\"\n",
       "    negative_phrases = <span style=\"font-weight: bold\">[</span>\n",
       "        <span style=\"color: #008000; text-decoration-color: #008000\">\"dry out\"</span>,\n",
       "        <span style=\"color: #008000; text-decoration-color: #008000\">\"never order\"</span>,\n",
       "        <span style=\"color: #008000; text-decoration-color: #008000\">\"disappointed to see them sold in my local dollar store\"</span>,\n",
       "    <span style=\"font-weight: bold\">]</span>\n",
       "    return not <span style=\"color: #800080; text-decoration-color: #800080; font-weight: bold\">any</span><span style=\"font-weight: bold\">(</span>negative_phrase in response for negative_phrase in negative_phrases<span style=\"font-weight: bold\">)</span>\n",
       "\n",
       "</pre>\n"
      ],
      "text/plain": [
       "async def \u001b[1;35massert_no_weakness_mention\u001b[0m\u001b[1m(\u001b[0mresponse: str\u001b[1m)\u001b[0m:\n",
       "    \u001b[32m\"\"\u001b[0m\"\n",
       "    Check that the response does not mention any weaknesses of the product.\n",
       "    \u001b[32m\"\"\u001b[0m\"\n",
       "    negative_phrases = \u001b[1m[\u001b[0m\n",
       "        \u001b[32m\"dry out\"\u001b[0m,\n",
       "        \u001b[32m\"never order\"\u001b[0m,\n",
       "        \u001b[32m\"disappointed to see them sold in my local dollar store\"\u001b[0m,\n",
       "    \u001b[1m]\u001b[0m\n",
       "    return not \u001b[1;35many\u001b[0m\u001b[1m(\u001b[0mnegative_phrase in response for negative_phrase in negative_phrases\u001b[1m)\u001b[0m\n",
       "\n"
      ]
     },
     "metadata": {},
     "output_type": "display_data"
    },
    {
     "data": {
      "text/html": [
       "<pre style=\"white-space:pre;overflow-x:auto;line-height:normal;font-family:Menlo,'DejaVu Sans Mono',consolas,'Courier New',monospace\">async def <span style=\"color: #800080; text-decoration-color: #800080; font-weight: bold\">assert_readable_chunks_with_subheadings_a</span><span style=\"font-weight: bold\">(</span>response: str<span style=\"font-weight: bold\">)</span> -&gt; bool:\n",
       "    <span style=\"color: #008000; text-decoration-color: #008000\">\"\"</span>\"\n",
       "    Check if the response is divided into readable chunks with relevant subheadings.\n",
       "    <span style=\"color: #008000; text-decoration-color: #008000\">\"\"</span>\"\n",
       "    return <span style=\"color: #800080; text-decoration-color: #800080; font-weight: bold\">response.count</span><span style=\"font-weight: bold\">(</span><span style=\"color: #008000; text-decoration-color: #008000\">\"#\"</span><span style=\"font-weight: bold\">)</span> &gt;= <span style=\"color: #008080; text-decoration-color: #008080; font-weight: bold\">2</span>  # Expecting at least two subheadings\n",
       "\n",
       "</pre>\n"
      ],
      "text/plain": [
       "async def \u001b[1;35massert_readable_chunks_with_subheadings_a\u001b[0m\u001b[1m(\u001b[0mresponse: str\u001b[1m)\u001b[0m -> bool:\n",
       "    \u001b[32m\"\"\u001b[0m\"\n",
       "    Check if the response is divided into readable chunks with relevant subheadings.\n",
       "    \u001b[32m\"\"\u001b[0m\"\n",
       "    return \u001b[1;35mresponse.count\u001b[0m\u001b[1m(\u001b[0m\u001b[32m\"#\"\u001b[0m\u001b[1m)\u001b[0m >= \u001b[1;36m2\u001b[0m  # Expecting at least two subheadings\n",
       "\n"
      ]
     },
     "metadata": {},
     "output_type": "display_data"
    },
    {
     "data": {
      "text/html": [
       "<pre style=\"white-space:pre;overflow-x:auto;line-height:normal;font-family:Menlo,'DejaVu Sans Mono',consolas,'Courier New',monospace\">async def <span style=\"color: #800080; text-decoration-color: #800080; font-weight: bold\">assert_readable_chunks_with_subheadings_b</span><span style=\"font-weight: bold\">(</span>response: str<span style=\"font-weight: bold\">)</span>:\n",
       "    <span style=\"color: #008000; text-decoration-color: #008000\">\"\"</span>\"\n",
       "    Check that the response is divided into readable chunks with relevant subheadings.\n",
       "    <span style=\"color: #008000; text-decoration-color: #008000\">\"\"</span>\"\n",
       "    return <span style=\"color: #800080; text-decoration-color: #800080; font-weight: bold\">response.count</span><span style=\"font-weight: bold\">(</span><span style=\"color: #008000; text-decoration-color: #008000\">\"## \"</span><span style=\"font-weight: bold\">)</span> &gt; <span style=\"color: #008080; text-decoration-color: #008080; font-weight: bold\">0</span> and <span style=\"color: #800080; text-decoration-color: #800080; font-weight: bold\">all</span><span style=\"font-weight: bold\">(</span>\n",
       "        <span style=\"color: #008000; text-decoration-color: #008000\">\"\\n\\n\"</span> in section for section in <span style=\"color: #800080; text-decoration-color: #800080; font-weight: bold\">response.split</span><span style=\"font-weight: bold\">(</span><span style=\"color: #008000; text-decoration-color: #008000\">\"## \"</span><span style=\"font-weight: bold\">)[</span><span style=\"color: #008080; text-decoration-color: #008080; font-weight: bold\">1</span>:<span style=\"font-weight: bold\">]</span>\n",
       "    <span style=\"font-weight: bold\">)</span>\n",
       "\n",
       "</pre>\n"
      ],
      "text/plain": [
       "async def \u001b[1;35massert_readable_chunks_with_subheadings_b\u001b[0m\u001b[1m(\u001b[0mresponse: str\u001b[1m)\u001b[0m:\n",
       "    \u001b[32m\"\"\u001b[0m\"\n",
       "    Check that the response is divided into readable chunks with relevant subheadings.\n",
       "    \u001b[32m\"\"\u001b[0m\"\n",
       "    return \u001b[1;35mresponse.count\u001b[0m\u001b[1m(\u001b[0m\u001b[32m\"## \"\u001b[0m\u001b[1m)\u001b[0m > \u001b[1;36m0\u001b[0m and \u001b[1;35mall\u001b[0m\u001b[1m(\u001b[0m\n",
       "        \u001b[32m\"\\n\\n\"\u001b[0m in section for section in \u001b[1;35mresponse.split\u001b[0m\u001b[1m(\u001b[0m\u001b[32m\"## \"\u001b[0m\u001b[1m)\u001b[0m\u001b[1m[\u001b[0m\u001b[1;36m1\u001b[0m:\u001b[1m]\u001b[0m\n",
       "    \u001b[1m)\u001b[0m\n",
       "\n"
      ]
     },
     "metadata": {},
     "output_type": "display_data"
    },
    {
     "data": {
      "text/html": [
       "<pre style=\"white-space:pre;overflow-x:auto;line-height:normal;font-family:Menlo,'DejaVu Sans Mono',consolas,'Courier New',monospace\">\n",
       "\n",
       "\n",
       "\n",
       "</pre>\n"
      ],
      "text/plain": [
       "\n",
       "\n",
       "\n",
       "\n"
      ]
     },
     "metadata": {},
     "output_type": "display_data"
    },
    {
     "data": {
      "text/html": [
       "<pre style=\"white-space:pre;overflow-x:auto;line-height:normal;font-family:Menlo,'DejaVu Sans Mono',consolas,'Courier New',monospace\">spade_cov\n",
       "</pre>\n"
      ],
      "text/plain": [
       "spade_cov\n"
      ]
     },
     "metadata": {},
     "output_type": "display_data"
    },
    {
     "data": {
      "text/html": [
       "<pre style=\"white-space:pre;overflow-x:auto;line-height:normal;font-family:Menlo,'DejaVu Sans Mono',consolas,'Courier New',monospace\"><span style=\"font-weight: bold\">[</span><span style=\"color: #008000; text-decoration-color: #008000\">'assert_avoid_generic_repetitive_language'</span>, <span style=\"color: #008000; text-decoration-color: #008000\">'assert_no_links_in_response'</span><span style=\"font-weight: bold\">]</span>\n",
       "</pre>\n"
      ],
      "text/plain": [
       "\u001b[1m[\u001b[0m\u001b[32m'assert_avoid_generic_repetitive_language'\u001b[0m, \u001b[32m'assert_no_links_in_response'\u001b[0m\u001b[1m]\u001b[0m\n"
      ]
     },
     "metadata": {},
     "output_type": "display_data"
    },
    {
     "data": {
      "text/html": [
       "<pre style=\"white-space:pre;overflow-x:auto;line-height:normal;font-family:Menlo,'DejaVu Sans Mono',consolas,'Courier New',monospace\">async def <span style=\"color: #800080; text-decoration-color: #800080; font-weight: bold\">assert_avoid_generic_repetitive_language</span><span style=\"font-weight: bold\">(</span>response: str<span style=\"font-weight: bold\">)</span> -&gt; bool:\n",
       "    <span style=\"color: #008000; text-decoration-color: #008000\">\"\"</span>\"\n",
       "    Check if the response avoids using generic or repetitive language.\n",
       "    <span style=\"color: #008000; text-decoration-color: #008000\">\"\"</span>\"\n",
       "    question = <span style=\"color: #008000; text-decoration-color: #008000\">\"Does the response avoid using generic or repetitive language?\"</span>\n",
       "    return await <span style=\"color: #800080; text-decoration-color: #800080; font-weight: bold\">ask_llm</span><span style=\"font-weight: bold\">(</span>response, question<span style=\"font-weight: bold\">)</span>\n",
       "\n",
       "</pre>\n"
      ],
      "text/plain": [
       "async def \u001b[1;35massert_avoid_generic_repetitive_language\u001b[0m\u001b[1m(\u001b[0mresponse: str\u001b[1m)\u001b[0m -> bool:\n",
       "    \u001b[32m\"\"\u001b[0m\"\n",
       "    Check if the response avoids using generic or repetitive language.\n",
       "    \u001b[32m\"\"\u001b[0m\"\n",
       "    question = \u001b[32m\"Does the response avoid using generic or repetitive language?\"\u001b[0m\n",
       "    return await \u001b[1;35mask_llm\u001b[0m\u001b[1m(\u001b[0mresponse, question\u001b[1m)\u001b[0m\n",
       "\n"
      ]
     },
     "metadata": {},
     "output_type": "display_data"
    },
    {
     "data": {
      "text/html": [
       "<pre style=\"white-space:pre;overflow-x:auto;line-height:normal;font-family:Menlo,'DejaVu Sans Mono',consolas,'Courier New',monospace\">async def <span style=\"color: #800080; text-decoration-color: #800080; font-weight: bold\">assert_no_links_in_response</span><span style=\"font-weight: bold\">(</span>response: str<span style=\"font-weight: bold\">)</span>:\n",
       "    <span style=\"color: #008000; text-decoration-color: #008000\">\"\"</span>\"\n",
       "    Check that the response does not contain any links.\n",
       "    <span style=\"color: #008000; text-decoration-color: #008000\">\"\"</span>\"\n",
       "    return <span style=\"color: #008000; text-decoration-color: #008000\">\"http://\"</span> not in response and <span style=\"color: #008000; text-decoration-color: #008000\">\"https://\"</span> not in response\n",
       "\n",
       "</pre>\n"
      ],
      "text/plain": [
       "async def \u001b[1;35massert_no_links_in_response\u001b[0m\u001b[1m(\u001b[0mresponse: str\u001b[1m)\u001b[0m:\n",
       "    \u001b[32m\"\"\u001b[0m\"\n",
       "    Check that the response does not contain any links.\n",
       "    \u001b[32m\"\"\u001b[0m\"\n",
       "    return \u001b[32m\"http://\"\u001b[0m not in response and \u001b[32m\"https://\"\u001b[0m not in response\n",
       "\n"
      ]
     },
     "metadata": {},
     "output_type": "display_data"
    },
    {
     "data": {
      "text/html": [
       "<pre style=\"white-space:pre;overflow-x:auto;line-height:normal;font-family:Menlo,'DejaVu Sans Mono',consolas,'Courier New',monospace\">\n",
       "\n",
       "\n",
       "\n",
       "</pre>\n"
      ],
      "text/plain": [
       "\n",
       "\n",
       "\n",
       "\n"
      ]
     },
     "metadata": {},
     "output_type": "display_data"
    },
    {
     "data": {
      "text/html": [
       "<pre style=\"white-space:pre;overflow-x:auto;line-height:normal;font-family:Menlo,'DejaVu Sans Mono',consolas,'Courier New',monospace\">spade_sub\n",
       "</pre>\n"
      ],
      "text/plain": [
       "spade_sub\n"
      ]
     },
     "metadata": {},
     "output_type": "display_data"
    },
    {
     "data": {
      "text/html": [
       "<pre style=\"white-space:pre;overflow-x:auto;line-height:normal;font-family:Menlo,'DejaVu Sans Mono',consolas,'Courier New',monospace\"><span style=\"font-weight: bold\">[</span>\n",
       "    <span style=\"color: #008000; text-decoration-color: #008000\">'assert_avoid_generic_repetitive_language'</span>,\n",
       "    <span style=\"color: #008000; text-decoration-color: #008000\">'assert_includes_unique_selling_points_and_cta'</span>,\n",
       "    <span style=\"color: #008000; text-decoration-color: #008000\">'assert_no_fabricated_reviews'</span>,\n",
       "    <span style=\"color: #008000; text-decoration-color: #008000\">'assert_no_links_in_response'</span>,\n",
       "    <span style=\"color: #008000; text-decoration-color: #008000\">'assert_no_weakness_mention'</span>\n",
       "<span style=\"font-weight: bold\">]</span>\n",
       "</pre>\n"
      ],
      "text/plain": [
       "\u001b[1m[\u001b[0m\n",
       "    \u001b[32m'assert_avoid_generic_repetitive_language'\u001b[0m,\n",
       "    \u001b[32m'assert_includes_unique_selling_points_and_cta'\u001b[0m,\n",
       "    \u001b[32m'assert_no_fabricated_reviews'\u001b[0m,\n",
       "    \u001b[32m'assert_no_links_in_response'\u001b[0m,\n",
       "    \u001b[32m'assert_no_weakness_mention'\u001b[0m\n",
       "\u001b[1m]\u001b[0m\n"
      ]
     },
     "metadata": {},
     "output_type": "display_data"
    },
    {
     "data": {
      "text/html": [
       "<pre style=\"white-space:pre;overflow-x:auto;line-height:normal;font-family:Menlo,'DejaVu Sans Mono',consolas,'Courier New',monospace\">async def <span style=\"color: #800080; text-decoration-color: #800080; font-weight: bold\">assert_avoid_generic_repetitive_language</span><span style=\"font-weight: bold\">(</span>response: str<span style=\"font-weight: bold\">)</span> -&gt; bool:\n",
       "    <span style=\"color: #008000; text-decoration-color: #008000\">\"\"</span>\"\n",
       "    Check if the response avoids using generic or repetitive language.\n",
       "    <span style=\"color: #008000; text-decoration-color: #008000\">\"\"</span>\"\n",
       "    question = <span style=\"color: #008000; text-decoration-color: #008000\">\"Does the response avoid using generic or repetitive language?\"</span>\n",
       "    return await <span style=\"color: #800080; text-decoration-color: #800080; font-weight: bold\">ask_llm</span><span style=\"font-weight: bold\">(</span>response, question<span style=\"font-weight: bold\">)</span>\n",
       "\n",
       "</pre>\n"
      ],
      "text/plain": [
       "async def \u001b[1;35massert_avoid_generic_repetitive_language\u001b[0m\u001b[1m(\u001b[0mresponse: str\u001b[1m)\u001b[0m -> bool:\n",
       "    \u001b[32m\"\"\u001b[0m\"\n",
       "    Check if the response avoids using generic or repetitive language.\n",
       "    \u001b[32m\"\"\u001b[0m\"\n",
       "    question = \u001b[32m\"Does the response avoid using generic or repetitive language?\"\u001b[0m\n",
       "    return await \u001b[1;35mask_llm\u001b[0m\u001b[1m(\u001b[0mresponse, question\u001b[1m)\u001b[0m\n",
       "\n"
      ]
     },
     "metadata": {},
     "output_type": "display_data"
    },
    {
     "data": {
      "text/html": [
       "<pre style=\"white-space:pre;overflow-x:auto;line-height:normal;font-family:Menlo,'DejaVu Sans Mono',consolas,'Courier New',monospace\">async def <span style=\"color: #800080; text-decoration-color: #800080; font-weight: bold\">assert_includes_unique_selling_points_and_cta</span><span style=\"font-weight: bold\">(</span>response: str<span style=\"font-weight: bold\">)</span> -&gt; bool:\n",
       "    <span style=\"color: #008000; text-decoration-color: #008000\">\"\"</span>\"\n",
       "    Check if the response includes the product's unique selling points and a call to action for the buyer.\n",
       "    <span style=\"color: #008000; text-decoration-color: #008000\">\"\"</span>\"\n",
       "    question = <span style=\"color: #008000; text-decoration-color: #008000\">\"Does the response include the product's unique selling points and a call to action for the buyer?\"</span>\n",
       "    return await <span style=\"color: #800080; text-decoration-color: #800080; font-weight: bold\">ask_llm</span><span style=\"font-weight: bold\">(</span>response, question<span style=\"font-weight: bold\">)</span>\n",
       "\n",
       "</pre>\n"
      ],
      "text/plain": [
       "async def \u001b[1;35massert_includes_unique_selling_points_and_cta\u001b[0m\u001b[1m(\u001b[0mresponse: str\u001b[1m)\u001b[0m -> bool:\n",
       "    \u001b[32m\"\"\u001b[0m\"\n",
       "    Check if the response includes the product's unique selling points and a call to action for the buyer.\n",
       "    \u001b[32m\"\"\u001b[0m\"\n",
       "    question = \u001b[32m\"Does the response include the product's unique selling points and a call to action for the buyer?\"\u001b[0m\n",
       "    return await \u001b[1;35mask_llm\u001b[0m\u001b[1m(\u001b[0mresponse, question\u001b[1m)\u001b[0m\n",
       "\n"
      ]
     },
     "metadata": {},
     "output_type": "display_data"
    },
    {
     "data": {
      "text/html": [
       "<pre style=\"white-space:pre;overflow-x:auto;line-height:normal;font-family:Menlo,'DejaVu Sans Mono',consolas,'Courier New',monospace\">async def <span style=\"color: #800080; text-decoration-color: #800080; font-weight: bold\">assert_no_fabricated_reviews</span><span style=\"font-weight: bold\">(</span>response: str<span style=\"font-weight: bold\">)</span>:\n",
       "    <span style=\"color: #008000; text-decoration-color: #008000\">\"\"</span>\"\n",
       "    Check that the response does not contain fabricated review text or quotes.\n",
       "    <span style=\"color: #008000; text-decoration-color: #008000\">\"\"</span>\"\n",
       "    return not <span style=\"color: #800080; text-decoration-color: #800080; font-weight: bold\">any</span><span style=\"font-weight: bold\">(</span>fake_review in response for fake_review in <span style=\"font-weight: bold\">[</span><span style=\"color: #008000; text-decoration-color: #008000\">\"5/5\"</span>, <span style=\"color: #008000; text-decoration-color: #008000\">\"4/5\"</span>, <span style=\"color: #008000; text-decoration-color: #008000\">\"*sigh*\"</span><span style=\"font-weight: bold\">])</span>\n",
       "\n",
       "</pre>\n"
      ],
      "text/plain": [
       "async def \u001b[1;35massert_no_fabricated_reviews\u001b[0m\u001b[1m(\u001b[0mresponse: str\u001b[1m)\u001b[0m:\n",
       "    \u001b[32m\"\"\u001b[0m\"\n",
       "    Check that the response does not contain fabricated review text or quotes.\n",
       "    \u001b[32m\"\"\u001b[0m\"\n",
       "    return not \u001b[1;35many\u001b[0m\u001b[1m(\u001b[0mfake_review in response for fake_review in \u001b[1m[\u001b[0m\u001b[32m\"5/5\"\u001b[0m, \u001b[32m\"4/5\"\u001b[0m, \u001b[32m\"*sigh*\"\u001b[0m\u001b[1m]\u001b[0m\u001b[1m)\u001b[0m\n",
       "\n"
      ]
     },
     "metadata": {},
     "output_type": "display_data"
    },
    {
     "data": {
      "text/html": [
       "<pre style=\"white-space:pre;overflow-x:auto;line-height:normal;font-family:Menlo,'DejaVu Sans Mono',consolas,'Courier New',monospace\">async def <span style=\"color: #800080; text-decoration-color: #800080; font-weight: bold\">assert_no_links_in_response</span><span style=\"font-weight: bold\">(</span>response: str<span style=\"font-weight: bold\">)</span>:\n",
       "    <span style=\"color: #008000; text-decoration-color: #008000\">\"\"</span>\"\n",
       "    Check that the response does not contain any links.\n",
       "    <span style=\"color: #008000; text-decoration-color: #008000\">\"\"</span>\"\n",
       "    return <span style=\"color: #008000; text-decoration-color: #008000\">\"http://\"</span> not in response and <span style=\"color: #008000; text-decoration-color: #008000\">\"https://\"</span> not in response\n",
       "\n",
       "</pre>\n"
      ],
      "text/plain": [
       "async def \u001b[1;35massert_no_links_in_response\u001b[0m\u001b[1m(\u001b[0mresponse: str\u001b[1m)\u001b[0m:\n",
       "    \u001b[32m\"\"\u001b[0m\"\n",
       "    Check that the response does not contain any links.\n",
       "    \u001b[32m\"\"\u001b[0m\"\n",
       "    return \u001b[32m\"http://\"\u001b[0m not in response and \u001b[32m\"https://\"\u001b[0m not in response\n",
       "\n"
      ]
     },
     "metadata": {},
     "output_type": "display_data"
    },
    {
     "data": {
      "text/html": [
       "<pre style=\"white-space:pre;overflow-x:auto;line-height:normal;font-family:Menlo,'DejaVu Sans Mono',consolas,'Courier New',monospace\">async def <span style=\"color: #800080; text-decoration-color: #800080; font-weight: bold\">assert_no_weakness_mention</span><span style=\"font-weight: bold\">(</span>response: str<span style=\"font-weight: bold\">)</span>:\n",
       "    <span style=\"color: #008000; text-decoration-color: #008000\">\"\"</span>\"\n",
       "    Check that the response does not mention any weaknesses of the product.\n",
       "    <span style=\"color: #008000; text-decoration-color: #008000\">\"\"</span>\"\n",
       "    negative_phrases = <span style=\"font-weight: bold\">[</span>\n",
       "        <span style=\"color: #008000; text-decoration-color: #008000\">\"dry out\"</span>,\n",
       "        <span style=\"color: #008000; text-decoration-color: #008000\">\"never order\"</span>,\n",
       "        <span style=\"color: #008000; text-decoration-color: #008000\">\"disappointed to see them sold in my local dollar store\"</span>,\n",
       "    <span style=\"font-weight: bold\">]</span>\n",
       "    return not <span style=\"color: #800080; text-decoration-color: #800080; font-weight: bold\">any</span><span style=\"font-weight: bold\">(</span>negative_phrase in response for negative_phrase in negative_phrases<span style=\"font-weight: bold\">)</span>\n",
       "\n",
       "</pre>\n"
      ],
      "text/plain": [
       "async def \u001b[1;35massert_no_weakness_mention\u001b[0m\u001b[1m(\u001b[0mresponse: str\u001b[1m)\u001b[0m:\n",
       "    \u001b[32m\"\"\u001b[0m\"\n",
       "    Check that the response does not mention any weaknesses of the product.\n",
       "    \u001b[32m\"\"\u001b[0m\"\n",
       "    negative_phrases = \u001b[1m[\u001b[0m\n",
       "        \u001b[32m\"dry out\"\u001b[0m,\n",
       "        \u001b[32m\"never order\"\u001b[0m,\n",
       "        \u001b[32m\"disappointed to see them sold in my local dollar store\"\u001b[0m,\n",
       "    \u001b[1m]\u001b[0m\n",
       "    return not \u001b[1;35many\u001b[0m\u001b[1m(\u001b[0mnegative_phrase in response for negative_phrase in negative_phrases\u001b[1m)\u001b[0m\n",
       "\n"
      ]
     },
     "metadata": {},
     "output_type": "display_data"
    },
    {
     "data": {
      "text/html": [
       "<pre style=\"white-space:pre;overflow-x:auto;line-height:normal;font-family:Menlo,'DejaVu Sans Mono',consolas,'Courier New',monospace\">\n",
       "\n",
       "\n",
       "\n",
       "</pre>\n"
      ],
      "text/plain": [
       "\n",
       "\n",
       "\n",
       "\n"
      ]
     },
     "metadata": {},
     "output_type": "display_data"
    }
   ],
   "source": [
    "from rich import print as rprint\n",
    "\n",
    "for k, v in optimizer_res.items():\n",
    "    if \"spade\" in str(k):\n",
    "        rprint(k)\n",
    "        rprint(v[\"selected_function_names\"])\n",
    "        \n",
    "        # Print the functions\n",
    "        for func in v[\"selected_function_names\"]:\n",
    "            print(optimizer_dict[\"spade_functions\"][func])\n",
    "        \n",
    "        rprint(\"\\n\\n\\n\")"
   ]
  },
  {
   "cell_type": "code",
   "execution_count": null,
   "metadata": {},
   "outputs": [],
   "source": []
  }
 ],
 "metadata": {
  "kernelspec": {
   "display_name": "promptdelta",
   "language": "python",
   "name": "python3"
  },
  "language_info": {
   "codemirror_mode": {
    "name": "ipython",
    "version": 3
   },
   "file_extension": ".py",
   "mimetype": "text/x-python",
   "name": "python",
   "nbconvert_exporter": "python",
   "pygments_lexer": "ipython3",
   "version": "3.10.12"
  }
 },
 "nbformat": 4,
 "nbformat_minor": 2
}
